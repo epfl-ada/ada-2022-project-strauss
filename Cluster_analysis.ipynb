{
 "cells": [
  {
   "cell_type": "code",
   "execution_count": 1,
   "id": "921d9ce9",
   "metadata": {},
   "outputs": [],
   "source": [
    "import pandas as pd\n",
    "import os\n",
    "import time"
   ]
  },
  {
   "cell_type": "code",
   "execution_count": 2,
   "id": "1e4f761c",
   "metadata": {},
   "outputs": [],
   "source": [
    "data_folder='./Data/'"
   ]
  },
  {
   "cell_type": "code",
   "execution_count": 22,
   "id": "f3a9d08b",
   "metadata": {},
   "outputs": [],
   "source": [
    "file_channels = open(data_folder + \"channel_ids.txt\", \"r\")\n",
    "file_pagerank_all= open(data_folder + \"pagerank_all.txt\", \"r\")\n",
    "file_pagerank_2018= open(data_folder + \"pagerank_2018_2019.txt\", \"r\")\n",
    "\n",
    "data_channels = file_channels.read()\n",
    "data_pagerank_all = file_pagerank_all.read()\n",
    "data_pagerank_2018 = file_pagerank_2018.read()\n",
    "\n",
    "list_channels = data_channels.split(\"\\n\")\n",
    "list_channels = list_channels[:-1] #discrading the last entry as it contains no information (residual from the split)\n",
    "list_pagerank_all = data_pagerank_all.split(\"\\n\")\n",
    "list_pagerank_all= list_pagerank_all[3:-2]#discrading first 3 values and the last one as they are not channel\n",
    "#and the one before the last one as it doesn't contain anything (residual from the split)\n",
    "list_pagerank_2018 = data_pagerank_2018.split(\"\\n\")\n",
    "list_pagerank_2018= list_pagerank_2018[3:-2]#discrading first 3 values and the last one as they are not channel\n",
    "#and the one before the last one as it doesn't contain anything (residual from the split)"
   ]
  },
  {
   "cell_type": "code",
   "execution_count": 23,
   "id": "6f179a93",
   "metadata": {},
   "outputs": [
    {
     "name": "stdout",
     "output_type": "stream",
     "text": [
      "136470 136470 136470\n"
     ]
    }
   ],
   "source": [
    "print(len(list_channels), len(list_pagerank_all), len(list_pagerank_2018)) #all good the lengths match"
   ]
  },
  {
   "cell_type": "code",
   "execution_count": 25,
   "id": "00f5d817",
   "metadata": {},
   "outputs": [],
   "source": [
    "#creating a dataframe\n",
    "zipped = list(zip(list_channels, list_pagerank_all, list_pagerank_2018))\n",
    "df_cluster=pd.DataFrame(zipped, columns=['channel_id', 'pagerank', 'pagerank_2018'])"
   ]
  },
  {
   "cell_type": "code",
   "execution_count": 26,
   "id": "dec5bb8c",
   "metadata": {},
   "outputs": [
    {
     "data": {
      "text/html": [
       "<div>\n",
       "<style scoped>\n",
       "    .dataframe tbody tr th:only-of-type {\n",
       "        vertical-align: middle;\n",
       "    }\n",
       "\n",
       "    .dataframe tbody tr th {\n",
       "        vertical-align: top;\n",
       "    }\n",
       "\n",
       "    .dataframe thead th {\n",
       "        text-align: right;\n",
       "    }\n",
       "</style>\n",
       "<table border=\"1\" class=\"dataframe\">\n",
       "  <thead>\n",
       "    <tr style=\"text-align: right;\">\n",
       "      <th></th>\n",
       "      <th>channel_id</th>\n",
       "      <th>pagerank</th>\n",
       "      <th>pagerank_2018</th>\n",
       "    </tr>\n",
       "  </thead>\n",
       "  <tbody>\n",
       "    <tr>\n",
       "      <th>0</th>\n",
       "      <td>UC-lHJZR3Gqxm24_Vd_AJ5Yw</td>\n",
       "      <td>1.7655139160156250e+02</td>\n",
       "      <td>1.9549287414550781e+02</td>\n",
       "    </tr>\n",
       "    <tr>\n",
       "      <th>1</th>\n",
       "      <td>UCbCmjCuTUZos6Inko4u57UQ</td>\n",
       "      <td>8.9536696672439575e-01</td>\n",
       "      <td>1.3123830556869507e+00</td>\n",
       "    </tr>\n",
       "    <tr>\n",
       "      <th>2</th>\n",
       "      <td>UCpEhnqL0y41EpW2TvWAHD7Q</td>\n",
       "      <td>6.8004007339477539e+00</td>\n",
       "      <td>6.4472532272338867e+00</td>\n",
       "    </tr>\n",
       "    <tr>\n",
       "      <th>3</th>\n",
       "      <td>UC295-Dw_tDNtZXFeAPAW6Aw</td>\n",
       "      <td>2.8799509048461914e+01</td>\n",
       "      <td>3.7452735900878906e+01</td>\n",
       "    </tr>\n",
       "    <tr>\n",
       "      <th>4</th>\n",
       "      <td>UCJ5v_MCY6GNUBTO8-D3XoAg</td>\n",
       "      <td>3.2658580780029297e+01</td>\n",
       "      <td>3.2937046051025391e+01</td>\n",
       "    </tr>\n",
       "    <tr>\n",
       "      <th>...</th>\n",
       "      <td>...</td>\n",
       "      <td>...</td>\n",
       "      <td>...</td>\n",
       "    </tr>\n",
       "    <tr>\n",
       "      <th>136465</th>\n",
       "      <td>UCuM-9AajUOwKw6ipOzu2DRQ</td>\n",
       "      <td>5.0469939596951008e-03</td>\n",
       "      <td>9.0959090739488602e-03</td>\n",
       "    </tr>\n",
       "    <tr>\n",
       "      <th>136466</th>\n",
       "      <td>UCtW9jp5TH0YrgYpwiRf9t-Q</td>\n",
       "      <td>1.4429617673158646e-02</td>\n",
       "      <td>4.3094335123896599e-03</td>\n",
       "    </tr>\n",
       "    <tr>\n",
       "      <th>136467</th>\n",
       "      <td>UCTsxFTIUs8vFDzGccDm6i7Q</td>\n",
       "      <td>1.8618732690811157e-01</td>\n",
       "      <td>2.6001319289207458e-01</td>\n",
       "    </tr>\n",
       "    <tr>\n",
       "      <th>136468</th>\n",
       "      <td>UC1HOArgRCMGPjlcmkThERwA</td>\n",
       "      <td>8.2442117854952812e-03</td>\n",
       "      <td>0.0000000000000000e+00</td>\n",
       "    </tr>\n",
       "    <tr>\n",
       "      <th>136469</th>\n",
       "      <td>UCITKvry4fW50iU4FSw9WERQ</td>\n",
       "      <td>0.0000000000000000e+00</td>\n",
       "      <td>0.0000000000000000e+00</td>\n",
       "    </tr>\n",
       "  </tbody>\n",
       "</table>\n",
       "<p>136470 rows × 3 columns</p>\n",
       "</div>"
      ],
      "text/plain": [
       "                      channel_id                pagerank  \\\n",
       "0       UC-lHJZR3Gqxm24_Vd_AJ5Yw  1.7655139160156250e+02   \n",
       "1       UCbCmjCuTUZos6Inko4u57UQ  8.9536696672439575e-01   \n",
       "2       UCpEhnqL0y41EpW2TvWAHD7Q  6.8004007339477539e+00   \n",
       "3       UC295-Dw_tDNtZXFeAPAW6Aw  2.8799509048461914e+01   \n",
       "4       UCJ5v_MCY6GNUBTO8-D3XoAg  3.2658580780029297e+01   \n",
       "...                          ...                     ...   \n",
       "136465  UCuM-9AajUOwKw6ipOzu2DRQ  5.0469939596951008e-03   \n",
       "136466  UCtW9jp5TH0YrgYpwiRf9t-Q  1.4429617673158646e-02   \n",
       "136467  UCTsxFTIUs8vFDzGccDm6i7Q  1.8618732690811157e-01   \n",
       "136468  UC1HOArgRCMGPjlcmkThERwA  8.2442117854952812e-03   \n",
       "136469  UCITKvry4fW50iU4FSw9WERQ  0.0000000000000000e+00   \n",
       "\n",
       "                 pagerank_2018  \n",
       "0       1.9549287414550781e+02  \n",
       "1       1.3123830556869507e+00  \n",
       "2       6.4472532272338867e+00  \n",
       "3       3.7452735900878906e+01  \n",
       "4       3.2937046051025391e+01  \n",
       "...                        ...  \n",
       "136465  9.0959090739488602e-03  \n",
       "136466  4.3094335123896599e-03  \n",
       "136467  2.6001319289207458e-01  \n",
       "136468  0.0000000000000000e+00  \n",
       "136469  0.0000000000000000e+00  \n",
       "\n",
       "[136470 rows x 3 columns]"
      ]
     },
     "execution_count": 26,
     "metadata": {},
     "output_type": "execute_result"
    }
   ],
   "source": [
    "#notice that the way our data was stored was so that if we stack them next to each other, each line had a channel_id and\n",
    "#the channel's associated pagerank cluster coefficient for all videos and the associated pagerank cluster coefficient\n",
    "#for the time window 2018-2019\n",
    "df_cluster"
   ]
  },
  {
   "cell_type": "code",
   "execution_count": 34,
   "id": "eaecf520",
   "metadata": {},
   "outputs": [
    {
     "name": "stderr",
     "output_type": "stream",
     "text": [
      "C:\\Users\\HOURS\\AppData\\Local\\Temp\\ipykernel_5984\\100672720.py:4: SettingWithCopyWarning: \n",
      "A value is trying to be set on a copy of a slice from a DataFrame\n",
      "\n",
      "See the caveats in the documentation: https://pandas.pydata.org/pandas-docs/stable/user_guide/indexing.html#returning-a-view-versus-a-copy\n",
      "  df_sources.rename(columns = {'Id':'channel_id'}, inplace = True)\n"
     ]
    }
   ],
   "source": [
    "path_sources_final='sources_final.csv'\n",
    "df_sources_final=pd.read_csv(data_folder + path_sources_final) #maps channel_id to extreme grp corresponding\n",
    "df_sources=df_sources_final[[\"Category\", \"Id\"]]\n",
    "df_sources.rename(columns = {'Id':'channel_id'}, inplace = True)"
   ]
  },
  {
   "cell_type": "code",
   "execution_count": 37,
   "id": "c372d55c",
   "metadata": {},
   "outputs": [],
   "source": [
    "df_sources_interest=df_sources[df_sources['Category'].isin(['Alt-lite', 'Alt-right', 'Intellectual Dark Web'])]"
   ]
  },
  {
   "cell_type": "code",
   "execution_count": 40,
   "id": "faac7a06",
   "metadata": {},
   "outputs": [
    {
     "data": {
      "text/plain": [
       "Index(['Category', 'channel_id'], dtype='object')"
      ]
     },
     "execution_count": 40,
     "metadata": {},
     "output_type": "execute_result"
    }
   ],
   "source": [
    "df_sources_interest.columns"
   ]
  },
  {
   "cell_type": "code",
   "execution_count": 42,
   "id": "d0485984",
   "metadata": {},
   "outputs": [
    {
     "data": {
      "text/plain": [
       "Alt-lite                 113\n",
       "Intellectual Dark Web     89\n",
       "Alt-right                 88\n",
       "Name: Category, dtype: int64"
      ]
     },
     "execution_count": 42,
     "metadata": {},
     "output_type": "execute_result"
    }
   ],
   "source": [
    "df_sources_interest['Category'].value_counts()"
   ]
  },
  {
   "cell_type": "code",
   "execution_count": null,
   "id": "2490e1b4",
   "metadata": {},
   "outputs": [],
   "source": [
    "Alt-lite                 112\n",
    "Intellectual Dark Web     86\n",
    "Alt-right                 81"
   ]
  },
  {
   "cell_type": "code",
   "execution_count": 39,
   "id": "c365c9f3",
   "metadata": {},
   "outputs": [
    {
     "data": {
      "text/plain": [
       "290"
      ]
     },
     "execution_count": 39,
     "metadata": {},
     "output_type": "execute_result"
    }
   ],
   "source": [
    "len(df_sources_interest)"
   ]
  },
  {
   "cell_type": "code",
   "execution_count": 30,
   "id": "eaf10433",
   "metadata": {},
   "outputs": [],
   "source": [
    "#page rank coeff for all and only 2018-2019 for only the channels of interest\n",
    "df_cluster_interest=df_cluster[df_cluster['channel_id'].isin(list_channels_interest)]"
   ]
  },
  {
   "cell_type": "code",
   "execution_count": null,
   "id": "08d5d8e7",
   "metadata": {},
   "outputs": [],
   "source": [
    "df_cluster_interest['']"
   ]
  },
  {
   "cell_type": "code",
   "execution_count": 47,
   "id": "59d4955d",
   "metadata": {},
   "outputs": [
    {
     "data": {
      "text/html": [
       "<div>\n",
       "<style scoped>\n",
       "    .dataframe tbody tr th:only-of-type {\n",
       "        vertical-align: middle;\n",
       "    }\n",
       "\n",
       "    .dataframe tbody tr th {\n",
       "        vertical-align: top;\n",
       "    }\n",
       "\n",
       "    .dataframe thead th {\n",
       "        text-align: right;\n",
       "    }\n",
       "</style>\n",
       "<table border=\"1\" class=\"dataframe\">\n",
       "  <thead>\n",
       "    <tr style=\"text-align: right;\">\n",
       "      <th></th>\n",
       "      <th>channel_id</th>\n",
       "      <th>pagerank</th>\n",
       "      <th>pagerank_2018</th>\n",
       "      <th>Category</th>\n",
       "    </tr>\n",
       "  </thead>\n",
       "  <tbody>\n",
       "    <tr>\n",
       "      <th>0</th>\n",
       "      <td>UCfDdlNLRVb1h3_7Xh-WhL3w</td>\n",
       "      <td>1.1852910041809082e+01</td>\n",
       "      <td>2.2547094345092773e+01</td>\n",
       "      <td>Alt-lite</td>\n",
       "    </tr>\n",
       "    <tr>\n",
       "      <th>1</th>\n",
       "      <td>UCso6oQ3qy7z61Fr8b0WNBMw</td>\n",
       "      <td>NaN</td>\n",
       "      <td>NaN</td>\n",
       "      <td>Alt-lite</td>\n",
       "    </tr>\n",
       "    <tr>\n",
       "      <th>2</th>\n",
       "      <td>UCplXdu0g94UynzYCmO2zOjw</td>\n",
       "      <td>5.0285243988037109e-01</td>\n",
       "      <td>9.4869446754455566e-01</td>\n",
       "      <td>Alt-lite</td>\n",
       "    </tr>\n",
       "    <tr>\n",
       "      <th>3</th>\n",
       "      <td>UCl3RCEtooHD5bhPCHJw3btA</td>\n",
       "      <td>1.4336268901824951e+00</td>\n",
       "      <td>6.8366008996963501e-01</td>\n",
       "      <td>Alt-lite</td>\n",
       "    </tr>\n",
       "    <tr>\n",
       "      <th>4</th>\n",
       "      <td>UCbukZErY9SjdGTHabMzY7qg</td>\n",
       "      <td>0.0000000000000000e+00</td>\n",
       "      <td>0.0000000000000000e+00</td>\n",
       "      <td>Alt-lite</td>\n",
       "    </tr>\n",
       "    <tr>\n",
       "      <th>...</th>\n",
       "      <td>...</td>\n",
       "      <td>...</td>\n",
       "      <td>...</td>\n",
       "      <td>...</td>\n",
       "    </tr>\n",
       "    <tr>\n",
       "      <th>285</th>\n",
       "      <td>UCQZ1lsBP6eMCQXxk41XpMew</td>\n",
       "      <td>5.8137202262878418e-01</td>\n",
       "      <td>5.8634036779403687e-01</td>\n",
       "      <td>Intellectual Dark Web</td>\n",
       "    </tr>\n",
       "    <tr>\n",
       "      <th>286</th>\n",
       "      <td>UCmVzhZ-0vh6sjLKHKGrGMRg</td>\n",
       "      <td>NaN</td>\n",
       "      <td>NaN</td>\n",
       "      <td>Intellectual Dark Web</td>\n",
       "    </tr>\n",
       "    <tr>\n",
       "      <th>287</th>\n",
       "      <td>UCSiYkMylC3F_eQfIodMHkOw</td>\n",
       "      <td>7.4698740243911743e-01</td>\n",
       "      <td>7.7780318260192871e-01</td>\n",
       "      <td>Intellectual Dark Web</td>\n",
       "    </tr>\n",
       "    <tr>\n",
       "      <th>288</th>\n",
       "      <td>UCZViJTyN0OXTTuPQ2mimNWw</td>\n",
       "      <td>2.0914123058319092e+00</td>\n",
       "      <td>1.9150885343551636e+00</td>\n",
       "      <td>Intellectual Dark Web</td>\n",
       "    </tr>\n",
       "    <tr>\n",
       "      <th>289</th>\n",
       "      <td>UCm5J1Fu_dHgBcMTpXu-NXUw</td>\n",
       "      <td>1.6330404281616211e+00</td>\n",
       "      <td>2.7498569488525391e+00</td>\n",
       "      <td>Intellectual Dark Web</td>\n",
       "    </tr>\n",
       "  </tbody>\n",
       "</table>\n",
       "<p>290 rows × 4 columns</p>\n",
       "</div>"
      ],
      "text/plain": [
       "                   channel_id                pagerank           pagerank_2018  \\\n",
       "0    UCfDdlNLRVb1h3_7Xh-WhL3w  1.1852910041809082e+01  2.2547094345092773e+01   \n",
       "1    UCso6oQ3qy7z61Fr8b0WNBMw                     NaN                     NaN   \n",
       "2    UCplXdu0g94UynzYCmO2zOjw  5.0285243988037109e-01  9.4869446754455566e-01   \n",
       "3    UCl3RCEtooHD5bhPCHJw3btA  1.4336268901824951e+00  6.8366008996963501e-01   \n",
       "4    UCbukZErY9SjdGTHabMzY7qg  0.0000000000000000e+00  0.0000000000000000e+00   \n",
       "..                        ...                     ...                     ...   \n",
       "285  UCQZ1lsBP6eMCQXxk41XpMew  5.8137202262878418e-01  5.8634036779403687e-01   \n",
       "286  UCmVzhZ-0vh6sjLKHKGrGMRg                     NaN                     NaN   \n",
       "287  UCSiYkMylC3F_eQfIodMHkOw  7.4698740243911743e-01  7.7780318260192871e-01   \n",
       "288  UCZViJTyN0OXTTuPQ2mimNWw  2.0914123058319092e+00  1.9150885343551636e+00   \n",
       "289  UCm5J1Fu_dHgBcMTpXu-NXUw  1.6330404281616211e+00  2.7498569488525391e+00   \n",
       "\n",
       "                  Category  \n",
       "0                 Alt-lite  \n",
       "1                 Alt-lite  \n",
       "2                 Alt-lite  \n",
       "3                 Alt-lite  \n",
       "4                 Alt-lite  \n",
       "..                     ...  \n",
       "285  Intellectual Dark Web  \n",
       "286  Intellectual Dark Web  \n",
       "287  Intellectual Dark Web  \n",
       "288  Intellectual Dark Web  \n",
       "289  Intellectual Dark Web  \n",
       "\n",
       "[290 rows x 4 columns]"
      ]
     },
     "execution_count": 47,
     "metadata": {},
     "output_type": "execute_result"
    }
   ],
   "source": [
    "df_cluster_interest=df_cluster.merge(df_sources_interest, how='right', on='channel_id')\n",
    "df_cluster_interest"
   ]
  },
  {
   "cell_type": "code",
   "execution_count": 48,
   "id": "be8d23dc",
   "metadata": {},
   "outputs": [
    {
     "name": "stdout",
     "output_type": "stream",
     "text": [
      "there are 134 Nan values which corresponds to 46.206896551724135 % of the dataframe\n"
     ]
    }
   ],
   "source": [
    "#counting the nomber of Nan values\n",
    "nb_Nan=len(df_cluster_interest[df_cluster_interest.isnull().any(axis=1)])\n",
    "print(\"there are\", nb_Nan, \"Nan values which corresponds to\", nb_Nan*100/len(df_cluster_interest), \"% of the dataframe\")"
   ]
  },
  {
   "cell_type": "code",
   "execution_count": 51,
   "id": "0be34b2f",
   "metadata": {},
   "outputs": [
    {
     "data": {
      "text/html": [
       "<div>\n",
       "<style scoped>\n",
       "    .dataframe tbody tr th:only-of-type {\n",
       "        vertical-align: middle;\n",
       "    }\n",
       "\n",
       "    .dataframe tbody tr th {\n",
       "        vertical-align: top;\n",
       "    }\n",
       "\n",
       "    .dataframe thead th {\n",
       "        text-align: right;\n",
       "    }\n",
       "</style>\n",
       "<table border=\"1\" class=\"dataframe\">\n",
       "  <thead>\n",
       "    <tr style=\"text-align: right;\">\n",
       "      <th></th>\n",
       "      <th>channel_id</th>\n",
       "      <th>pagerank</th>\n",
       "      <th>pagerank_2018</th>\n",
       "      <th>Category</th>\n",
       "    </tr>\n",
       "  </thead>\n",
       "  <tbody>\n",
       "    <tr>\n",
       "      <th>1</th>\n",
       "      <td>UCso6oQ3qy7z61Fr8b0WNBMw</td>\n",
       "      <td>NaN</td>\n",
       "      <td>NaN</td>\n",
       "      <td>Alt-lite</td>\n",
       "    </tr>\n",
       "    <tr>\n",
       "      <th>5</th>\n",
       "      <td>UC7tlcXIInkPG5aCkWB9lZOQ</td>\n",
       "      <td>NaN</td>\n",
       "      <td>NaN</td>\n",
       "      <td>Alt-lite</td>\n",
       "    </tr>\n",
       "    <tr>\n",
       "      <th>6</th>\n",
       "      <td>UCSFVD7Xfhn7sJY8LAIQmH8Q</td>\n",
       "      <td>NaN</td>\n",
       "      <td>NaN</td>\n",
       "      <td>Alt-lite</td>\n",
       "    </tr>\n",
       "    <tr>\n",
       "      <th>7</th>\n",
       "      <td>UCtLAZi2CZmDgwgQ51XpqcDQ</td>\n",
       "      <td>NaN</td>\n",
       "      <td>NaN</td>\n",
       "      <td>Alt-lite</td>\n",
       "    </tr>\n",
       "    <tr>\n",
       "      <th>11</th>\n",
       "      <td>UCDhuG96y6kUT7tcFgHGj1Ug</td>\n",
       "      <td>NaN</td>\n",
       "      <td>NaN</td>\n",
       "      <td>Alt-lite</td>\n",
       "    </tr>\n",
       "    <tr>\n",
       "      <th>...</th>\n",
       "      <td>...</td>\n",
       "      <td>...</td>\n",
       "      <td>...</td>\n",
       "      <td>...</td>\n",
       "    </tr>\n",
       "    <tr>\n",
       "      <th>267</th>\n",
       "      <td>UCAFa0zt3iJtEki2dotOfvrg</td>\n",
       "      <td>NaN</td>\n",
       "      <td>NaN</td>\n",
       "      <td>Intellectual Dark Web</td>\n",
       "    </tr>\n",
       "    <tr>\n",
       "      <th>271</th>\n",
       "      <td>UCRZsTalc2L7VjRJNzHeN4vg</td>\n",
       "      <td>NaN</td>\n",
       "      <td>NaN</td>\n",
       "      <td>Intellectual Dark Web</td>\n",
       "    </tr>\n",
       "    <tr>\n",
       "      <th>277</th>\n",
       "      <td>UCGyBhZvqlWjGZHNHrBzj2vQ</td>\n",
       "      <td>NaN</td>\n",
       "      <td>NaN</td>\n",
       "      <td>Intellectual Dark Web</td>\n",
       "    </tr>\n",
       "    <tr>\n",
       "      <th>284</th>\n",
       "      <td>UCGMCH9ZQRfLT3qQpZIqGPzg</td>\n",
       "      <td>NaN</td>\n",
       "      <td>NaN</td>\n",
       "      <td>Intellectual Dark Web</td>\n",
       "    </tr>\n",
       "    <tr>\n",
       "      <th>286</th>\n",
       "      <td>UCmVzhZ-0vh6sjLKHKGrGMRg</td>\n",
       "      <td>NaN</td>\n",
       "      <td>NaN</td>\n",
       "      <td>Intellectual Dark Web</td>\n",
       "    </tr>\n",
       "  </tbody>\n",
       "</table>\n",
       "<p>134 rows × 4 columns</p>\n",
       "</div>"
      ],
      "text/plain": [
       "                   channel_id pagerank pagerank_2018               Category\n",
       "1    UCso6oQ3qy7z61Fr8b0WNBMw      NaN           NaN               Alt-lite\n",
       "5    UC7tlcXIInkPG5aCkWB9lZOQ      NaN           NaN               Alt-lite\n",
       "6    UCSFVD7Xfhn7sJY8LAIQmH8Q      NaN           NaN               Alt-lite\n",
       "7    UCtLAZi2CZmDgwgQ51XpqcDQ      NaN           NaN               Alt-lite\n",
       "11   UCDhuG96y6kUT7tcFgHGj1Ug      NaN           NaN               Alt-lite\n",
       "..                        ...      ...           ...                    ...\n",
       "267  UCAFa0zt3iJtEki2dotOfvrg      NaN           NaN  Intellectual Dark Web\n",
       "271  UCRZsTalc2L7VjRJNzHeN4vg      NaN           NaN  Intellectual Dark Web\n",
       "277  UCGyBhZvqlWjGZHNHrBzj2vQ      NaN           NaN  Intellectual Dark Web\n",
       "284  UCGMCH9ZQRfLT3qQpZIqGPzg      NaN           NaN  Intellectual Dark Web\n",
       "286  UCmVzhZ-0vh6sjLKHKGrGMRg      NaN           NaN  Intellectual Dark Web\n",
       "\n",
       "[134 rows x 4 columns]"
      ]
     },
     "execution_count": 51,
     "metadata": {},
     "output_type": "execute_result"
    }
   ],
   "source": [
    "df_cluster_interest[df_cluster_interest.isnull().any(axis=1)]"
   ]
  },
  {
   "cell_type": "code",
   "execution_count": 53,
   "id": "cac287c9",
   "metadata": {},
   "outputs": [
    {
     "data": {
      "text/html": [
       "<div>\n",
       "<style scoped>\n",
       "    .dataframe tbody tr th:only-of-type {\n",
       "        vertical-align: middle;\n",
       "    }\n",
       "\n",
       "    .dataframe tbody tr th {\n",
       "        vertical-align: top;\n",
       "    }\n",
       "\n",
       "    .dataframe thead th {\n",
       "        text-align: right;\n",
       "    }\n",
       "</style>\n",
       "<table border=\"1\" class=\"dataframe\">\n",
       "  <thead>\n",
       "    <tr style=\"text-align: right;\">\n",
       "      <th></th>\n",
       "      <th>channel_id</th>\n",
       "      <th>pagerank</th>\n",
       "      <th>pagerank_2018</th>\n",
       "      <th>Category</th>\n",
       "    </tr>\n",
       "  </thead>\n",
       "  <tbody>\n",
       "    <tr>\n",
       "      <th>1</th>\n",
       "      <td>UCso6oQ3qy7z61Fr8b0WNBMw</td>\n",
       "      <td>NaN</td>\n",
       "      <td>NaN</td>\n",
       "      <td>Alt-lite</td>\n",
       "    </tr>\n",
       "    <tr>\n",
       "      <th>5</th>\n",
       "      <td>UC7tlcXIInkPG5aCkWB9lZOQ</td>\n",
       "      <td>NaN</td>\n",
       "      <td>NaN</td>\n",
       "      <td>Alt-lite</td>\n",
       "    </tr>\n",
       "    <tr>\n",
       "      <th>6</th>\n",
       "      <td>UCSFVD7Xfhn7sJY8LAIQmH8Q</td>\n",
       "      <td>NaN</td>\n",
       "      <td>NaN</td>\n",
       "      <td>Alt-lite</td>\n",
       "    </tr>\n",
       "    <tr>\n",
       "      <th>7</th>\n",
       "      <td>UCtLAZi2CZmDgwgQ51XpqcDQ</td>\n",
       "      <td>NaN</td>\n",
       "      <td>NaN</td>\n",
       "      <td>Alt-lite</td>\n",
       "    </tr>\n",
       "    <tr>\n",
       "      <th>11</th>\n",
       "      <td>UCDhuG96y6kUT7tcFgHGj1Ug</td>\n",
       "      <td>NaN</td>\n",
       "      <td>NaN</td>\n",
       "      <td>Alt-lite</td>\n",
       "    </tr>\n",
       "    <tr>\n",
       "      <th>...</th>\n",
       "      <td>...</td>\n",
       "      <td>...</td>\n",
       "      <td>...</td>\n",
       "      <td>...</td>\n",
       "    </tr>\n",
       "    <tr>\n",
       "      <th>267</th>\n",
       "      <td>UCAFa0zt3iJtEki2dotOfvrg</td>\n",
       "      <td>NaN</td>\n",
       "      <td>NaN</td>\n",
       "      <td>Intellectual Dark Web</td>\n",
       "    </tr>\n",
       "    <tr>\n",
       "      <th>271</th>\n",
       "      <td>UCRZsTalc2L7VjRJNzHeN4vg</td>\n",
       "      <td>NaN</td>\n",
       "      <td>NaN</td>\n",
       "      <td>Intellectual Dark Web</td>\n",
       "    </tr>\n",
       "    <tr>\n",
       "      <th>277</th>\n",
       "      <td>UCGyBhZvqlWjGZHNHrBzj2vQ</td>\n",
       "      <td>NaN</td>\n",
       "      <td>NaN</td>\n",
       "      <td>Intellectual Dark Web</td>\n",
       "    </tr>\n",
       "    <tr>\n",
       "      <th>284</th>\n",
       "      <td>UCGMCH9ZQRfLT3qQpZIqGPzg</td>\n",
       "      <td>NaN</td>\n",
       "      <td>NaN</td>\n",
       "      <td>Intellectual Dark Web</td>\n",
       "    </tr>\n",
       "    <tr>\n",
       "      <th>286</th>\n",
       "      <td>UCmVzhZ-0vh6sjLKHKGrGMRg</td>\n",
       "      <td>NaN</td>\n",
       "      <td>NaN</td>\n",
       "      <td>Intellectual Dark Web</td>\n",
       "    </tr>\n",
       "  </tbody>\n",
       "</table>\n",
       "<p>134 rows × 4 columns</p>\n",
       "</div>"
      ],
      "text/plain": [
       "                   channel_id pagerank pagerank_2018               Category\n",
       "1    UCso6oQ3qy7z61Fr8b0WNBMw      NaN           NaN               Alt-lite\n",
       "5    UC7tlcXIInkPG5aCkWB9lZOQ      NaN           NaN               Alt-lite\n",
       "6    UCSFVD7Xfhn7sJY8LAIQmH8Q      NaN           NaN               Alt-lite\n",
       "7    UCtLAZi2CZmDgwgQ51XpqcDQ      NaN           NaN               Alt-lite\n",
       "11   UCDhuG96y6kUT7tcFgHGj1Ug      NaN           NaN               Alt-lite\n",
       "..                        ...      ...           ...                    ...\n",
       "267  UCAFa0zt3iJtEki2dotOfvrg      NaN           NaN  Intellectual Dark Web\n",
       "271  UCRZsTalc2L7VjRJNzHeN4vg      NaN           NaN  Intellectual Dark Web\n",
       "277  UCGyBhZvqlWjGZHNHrBzj2vQ      NaN           NaN  Intellectual Dark Web\n",
       "284  UCGMCH9ZQRfLT3qQpZIqGPzg      NaN           NaN  Intellectual Dark Web\n",
       "286  UCmVzhZ-0vh6sjLKHKGrGMRg      NaN           NaN  Intellectual Dark Web\n",
       "\n",
       "[134 rows x 4 columns]"
      ]
     },
     "execution_count": 53,
     "metadata": {},
     "output_type": "execute_result"
    }
   ],
   "source": [
    "df_cluster_interest[df_cluster_interest['pagerank_2018'].isnull()]"
   ]
  },
  {
   "cell_type": "code",
   "execution_count": 57,
   "id": "1f9cb66f",
   "metadata": {},
   "outputs": [
    {
     "data": {
      "text/plain": [
       "True"
      ]
     },
     "execution_count": 57,
     "metadata": {},
     "output_type": "execute_result"
    }
   ],
   "source": [
    "#checking if rows where pagerank is Nan are also rows where pagerank_2018 is Nan\n",
    "(df_cluster_interest[df_cluster_interest['pagerank'].isnull()]).equals(df_cluster_interest[df_cluster_interest['pagerank_2018'].isnull()])"
   ]
  },
  {
   "cell_type": "code",
   "execution_count": 59,
   "id": "6ae19b72",
   "metadata": {},
   "outputs": [
    {
     "name": "stdout",
     "output_type": "stream",
     "text": [
      "there are 0 Nan values which corresponds to 0.0 % of the dataframe\n"
     ]
    }
   ],
   "source": [
    "#we choose to discard these rows as they don't bring new information\n",
    "#dropping NaN values\n",
    "df_cluster_interest.dropna(inplace=True)\n",
    "nb_Nan=len(df_cluster_interest[df_cluster_interest.isnull().any(axis=1)])\n",
    "print(\"there are\", nb_Nan, \"Nan values which corresponds to\", nb_Nan*100/len(df_cluster_interest), \"% of the dataframe\")"
   ]
  },
  {
   "cell_type": "code",
   "execution_count": 61,
   "id": "553df0d7",
   "metadata": {},
   "outputs": [
    {
     "data": {
      "text/plain": [
       "Alt-lite                 79\n",
       "Intellectual Dark Web    57\n",
       "Alt-right                20\n",
       "Name: Category, dtype: int64"
      ]
     },
     "execution_count": 61,
     "metadata": {},
     "output_type": "execute_result"
    }
   ],
   "source": [
    "df_cluster_interest['Category'].value_counts()"
   ]
  },
  {
   "cell_type": "code",
   "execution_count": 75,
   "id": "3a939070",
   "metadata": {},
   "outputs": [],
   "source": [
    "#converting our values into floats as they were under the string format\n",
    "df_cluster_interest['pagerank']=df_cluster_interest['pagerank'].astype('float')\n",
    "df_cluster_interest['pagerank_2018']=df_cluster_interest['pagerank_2018'].astype('float')"
   ]
  },
  {
   "cell_type": "code",
   "execution_count": 76,
   "id": "cbc53667",
   "metadata": {},
   "outputs": [
    {
     "data": {
      "text/html": [
       "<div>\n",
       "<style scoped>\n",
       "    .dataframe tbody tr th:only-of-type {\n",
       "        vertical-align: middle;\n",
       "    }\n",
       "\n",
       "    .dataframe tbody tr th {\n",
       "        vertical-align: top;\n",
       "    }\n",
       "\n",
       "    .dataframe thead th {\n",
       "        text-align: right;\n",
       "    }\n",
       "</style>\n",
       "<table border=\"1\" class=\"dataframe\">\n",
       "  <thead>\n",
       "    <tr style=\"text-align: right;\">\n",
       "      <th></th>\n",
       "      <th>pagerank</th>\n",
       "      <th>pagerank_2018</th>\n",
       "    </tr>\n",
       "    <tr>\n",
       "      <th>Category</th>\n",
       "      <th></th>\n",
       "      <th></th>\n",
       "    </tr>\n",
       "  </thead>\n",
       "  <tbody>\n",
       "    <tr>\n",
       "      <th>Alt-lite</th>\n",
       "      <td>4.854888</td>\n",
       "      <td>6.121196</td>\n",
       "    </tr>\n",
       "    <tr>\n",
       "      <th>Alt-right</th>\n",
       "      <td>1.105379</td>\n",
       "      <td>1.435813</td>\n",
       "    </tr>\n",
       "    <tr>\n",
       "      <th>Intellectual Dark Web</th>\n",
       "      <td>3.202381</td>\n",
       "      <td>4.015690</td>\n",
       "    </tr>\n",
       "  </tbody>\n",
       "</table>\n",
       "</div>"
      ],
      "text/plain": [
       "                       pagerank  pagerank_2018\n",
       "Category                                      \n",
       "Alt-lite               4.854888       6.121196\n",
       "Alt-right              1.105379       1.435813\n",
       "Intellectual Dark Web  3.202381       4.015690"
      ]
     },
     "execution_count": 76,
     "metadata": {},
     "output_type": "execute_result"
    }
   ],
   "source": [
    "df_temp=df_cluster_interest.drop(['channel_id'], axis=1)\n",
    "df_cluster_interest.groupby(by='Category').mean()"
   ]
  }
 ],
 "metadata": {
  "kernelspec": {
   "display_name": "Python 3 (ipykernel)",
   "language": "python",
   "name": "python3"
  },
  "language_info": {
   "codemirror_mode": {
    "name": "ipython",
    "version": 3
   },
   "file_extension": ".py",
   "mimetype": "text/x-python",
   "name": "python",
   "nbconvert_exporter": "python",
   "pygments_lexer": "ipython3",
   "version": "3.8.13"
  }
 },
 "nbformat": 4,
 "nbformat_minor": 5
}
