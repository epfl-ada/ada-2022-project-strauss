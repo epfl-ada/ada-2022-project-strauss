{
 "cells": [
  {
   "cell_type": "markdown",
   "id": "68593ca6",
   "metadata": {},
   "source": [
    "### TL; DR\n",
    "\n",
    "This notebook tries to turn all the comments in the dataframe into a dataframe where each row corresponds to their score output by detoxify. So far the the fastest option (running in 334 seconds ==5 min for 2 rows out of 214) is creating a huge dictionary by appending the dictionaries output by detoxify and using a function with split to get only the text comment "
   ]
  },
  {
   "cell_type": "markdown",
   "id": "9ec3d20c",
   "metadata": {},
   "source": [
    "#### Questions that I have \n",
    "\n",
    "Should keep like this or immediately do the mean of each feature so that in the end our dataset will be smaller? With things as they are, if each video has 150 comments, we'll have a dataset of 150x214x64 = 2 054 400 while if we keep the idea of stocking in a csv so that we need to run the thing only once, it will have size 214x64=13 696 (much easier to work with)"
   ]
  },
  {
   "cell_type": "code",
   "execution_count": 1,
   "id": "f9b614e2",
   "metadata": {},
   "outputs": [],
   "source": [
    "import pandas as pd\n",
    "from detoxify import Detoxify\n",
    "import time"
   ]
  },
  {
   "cell_type": "code",
   "execution_count": 2,
   "id": "f19fe8c3",
   "metadata": {},
   "outputs": [],
   "source": [
    "data_folder = './Data/' # all my data is in one folder \n",
    "path_comments='comments_glipse.csv.gz'"
   ]
  },
  {
   "cell_type": "code",
   "execution_count": 3,
   "id": "2ab44c65",
   "metadata": {},
   "outputs": [
    {
     "data": {
      "text/html": [
       "<div>\n",
       "<style scoped>\n",
       "    .dataframe tbody tr th:only-of-type {\n",
       "        vertical-align: middle;\n",
       "    }\n",
       "\n",
       "    .dataframe tbody tr th {\n",
       "        vertical-align: top;\n",
       "    }\n",
       "\n",
       "    .dataframe thead th {\n",
       "        text-align: right;\n",
       "    }\n",
       "</style>\n",
       "<table border=\"1\" class=\"dataframe\">\n",
       "  <thead>\n",
       "    <tr style=\"text-align: right;\">\n",
       "      <th></th>\n",
       "      <th>comments</th>\n",
       "      <th>video_id</th>\n",
       "    </tr>\n",
       "  </thead>\n",
       "  <tbody>\n",
       "    <tr>\n",
       "      <th>0</th>\n",
       "      <td>[{'id': 'UgwG1f67Ru5kL3JXmDZ4AaABAg', 'author'...</td>\n",
       "      <td>39yZGhaJay8</td>\n",
       "    </tr>\n",
       "    <tr>\n",
       "      <th>1</th>\n",
       "      <td>[{'id': 'UgwDdeP0GiKI4ld_5Uh4AaABAg', 'author'...</td>\n",
       "      <td>FFm-ZpY7Fbo</td>\n",
       "    </tr>\n",
       "    <tr>\n",
       "      <th>2</th>\n",
       "      <td>[{'id': 'UgySPeVqINUhtngAtbx4AaABAg', 'author'...</td>\n",
       "      <td>yfNKExa846M</td>\n",
       "    </tr>\n",
       "    <tr>\n",
       "      <th>3</th>\n",
       "      <td>[{'id': 'UgyrDdhrXsWtzfv1Fbl4AaABAg', 'author'...</td>\n",
       "      <td>lCR0QTdSJfA</td>\n",
       "    </tr>\n",
       "    <tr>\n",
       "      <th>4</th>\n",
       "      <td>[{'id': 'UgzHfM3U-Jx3oueGlEp4AaABAg', 'author'...</td>\n",
       "      <td>nY4EB01ldOE</td>\n",
       "    </tr>\n",
       "    <tr>\n",
       "      <th>...</th>\n",
       "      <td>...</td>\n",
       "      <td>...</td>\n",
       "    </tr>\n",
       "    <tr>\n",
       "      <th>209</th>\n",
       "      <td>[{'id': 'UgxRhHxqrascp2Wl9XR4AaABAg', 'author'...</td>\n",
       "      <td>QAeoUItnQpE</td>\n",
       "    </tr>\n",
       "    <tr>\n",
       "      <th>210</th>\n",
       "      <td>[{'id': 'UgwUu708JnCOMWgqEI54AaABAg', 'author'...</td>\n",
       "      <td>aEafDmdID70</td>\n",
       "    </tr>\n",
       "    <tr>\n",
       "      <th>211</th>\n",
       "      <td>[{'id': 'UgySC3F8dJnjv0ALIW94AaABAg', 'author'...</td>\n",
       "      <td>2OVoINOkLys</td>\n",
       "    </tr>\n",
       "    <tr>\n",
       "      <th>212</th>\n",
       "      <td>[{'id': 'UgwtUJyordw0yKULN6F4AaABAg', 'author'...</td>\n",
       "      <td>Ti2OUx3c6Ss</td>\n",
       "    </tr>\n",
       "    <tr>\n",
       "      <th>213</th>\n",
       "      <td>[{'id': 'UgwJNNN7oR-l3w8tk0Z4AaABAg', 'author'...</td>\n",
       "      <td>V9MDl4RC2_8</td>\n",
       "    </tr>\n",
       "  </tbody>\n",
       "</table>\n",
       "<p>214 rows × 2 columns</p>\n",
       "</div>"
      ],
      "text/plain": [
       "                                              comments     video_id\n",
       "0    [{'id': 'UgwG1f67Ru5kL3JXmDZ4AaABAg', 'author'...  39yZGhaJay8\n",
       "1    [{'id': 'UgwDdeP0GiKI4ld_5Uh4AaABAg', 'author'...  FFm-ZpY7Fbo\n",
       "2    [{'id': 'UgySPeVqINUhtngAtbx4AaABAg', 'author'...  yfNKExa846M\n",
       "3    [{'id': 'UgyrDdhrXsWtzfv1Fbl4AaABAg', 'author'...  lCR0QTdSJfA\n",
       "4    [{'id': 'UgzHfM3U-Jx3oueGlEp4AaABAg', 'author'...  nY4EB01ldOE\n",
       "..                                                 ...          ...\n",
       "209  [{'id': 'UgxRhHxqrascp2Wl9XR4AaABAg', 'author'...  QAeoUItnQpE\n",
       "210  [{'id': 'UgwUu708JnCOMWgqEI54AaABAg', 'author'...  aEafDmdID70\n",
       "211  [{'id': 'UgySC3F8dJnjv0ALIW94AaABAg', 'author'...  2OVoINOkLys\n",
       "212  [{'id': 'UgwtUJyordw0yKULN6F4AaABAg', 'author'...  Ti2OUx3c6Ss\n",
       "213  [{'id': 'UgwJNNN7oR-l3w8tk0Z4AaABAg', 'author'...  V9MDl4RC2_8\n",
       "\n",
       "[214 rows x 2 columns]"
      ]
     },
     "execution_count": 3,
     "metadata": {},
     "output_type": "execute_result"
    }
   ],
   "source": [
    "df_comments = pd.read_csv(data_folder + path_comments, compression='gzip').dropna(axis=0) \n",
    "df_comments"
   ]
  },
  {
   "cell_type": "markdown",
   "id": "bea45d14",
   "metadata": {},
   "source": [
    "# Best thing so far, if you put as input the two first rows runs in 334 seconds"
   ]
  },
  {
   "cell_type": "code",
   "execution_count": 154,
   "id": "3b35f96c",
   "metadata": {},
   "outputs": [],
   "source": [
    "#has a very very small runing-time, don't think it should be optimized\n",
    "def df_list(X):\n",
    "    new_list_=[] #creates a list with approximately one comment per item\n",
    "    n=0\n",
    "    for i in X.split(\"'id': \"):\n",
    "        if n!=0: #condition to avoid taking the very first i which doesn't have anything important\n",
    "            [no_keep, keep]=i.split(\" 'text': \")\n",
    "            [text, no_keep]=keep.split(\", 'likes'\")\n",
    "            new_list_.append(text)\n",
    "        n+=1\n",
    "    return new_list_"
   ]
  },
  {
   "cell_type": "code",
   "execution_count": 155,
   "id": "12bdcfe4",
   "metadata": {},
   "outputs": [],
   "source": [
    "df_head=df_comments.head(2)"
   ]
  },
  {
   "cell_type": "code",
   "execution_count": 160,
   "id": "b27a81f9",
   "metadata": {},
   "outputs": [],
   "source": [
    "#it says 193 seconds but with cached data I don't think this is the real value,\n",
    "#at least not the one I had when I ran it for the first time"
   ]
  },
  {
   "cell_type": "code",
   "execution_count": 156,
   "id": "6146ae5f",
   "metadata": {},
   "outputs": [
    {
     "name": "stdout",
     "output_type": "stream",
     "text": [
      "runtime= 193.92950129508972\n"
     ]
    }
   ],
   "source": [
    "t=time.time()\n",
    "toxic_df=pd.DataFrame()\n",
    "dict_list={\"toxicity\":[],'severe_toxicity':[], 'obscene':[], 'identity_attack':[], 'insult':[], 'threat':[], 'sexual_explicit':[]}\n",
    "video_id_list=[]\n",
    "\n",
    "for i in range (len(df_head)):\n",
    "    X=df_head.loc[i,\"comments\"]\n",
    "    video_id=df_head.loc[i, \"video_id\"]\n",
    "    new_list_=df_list(X)\n",
    "    data_detoxify=Detoxify('unbiased').predict(new_list_)\n",
    "    dict_list[\"toxicity\"]+=(data_detoxify[\"toxicity\"])\n",
    "    dict_list['severe_toxicity']+=(data_detoxify['severe_toxicity'])\n",
    "    dict_list['obscene']+=(data_detoxify['obscene'])\n",
    "    dict_list['identity_attack']+=(data_detoxify['identity_attack'])\n",
    "    dict_list['insult']+=(data_detoxify['insult'])\n",
    "    dict_list['threat']+=(data_detoxify['threat'])\n",
    "    dict_list['sexual_explicit']+=(data_detoxify['sexual_explicit'])\n",
    "    video_id_list+=[video_id]*len(data_detoxify['toxicity'])\n",
    "    \n",
    "toxic_df=pd.DataFrame(data=dict_list)\n",
    "toxic_df['video_id']=video_id_list\n",
    "    \n",
    "print('runtime=', time.time()-t)"
   ]
  },
  {
   "cell_type": "code",
   "execution_count": 157,
   "id": "2f56d770",
   "metadata": {},
   "outputs": [
    {
     "data": {
      "text/html": [
       "<div>\n",
       "<style scoped>\n",
       "    .dataframe tbody tr th:only-of-type {\n",
       "        vertical-align: middle;\n",
       "    }\n",
       "\n",
       "    .dataframe tbody tr th {\n",
       "        vertical-align: top;\n",
       "    }\n",
       "\n",
       "    .dataframe thead th {\n",
       "        text-align: right;\n",
       "    }\n",
       "</style>\n",
       "<table border=\"1\" class=\"dataframe\">\n",
       "  <thead>\n",
       "    <tr style=\"text-align: right;\">\n",
       "      <th></th>\n",
       "      <th>toxicity</th>\n",
       "      <th>severe_toxicity</th>\n",
       "      <th>obscene</th>\n",
       "      <th>identity_attack</th>\n",
       "      <th>insult</th>\n",
       "      <th>threat</th>\n",
       "      <th>sexual_explicit</th>\n",
       "      <th>video_id</th>\n",
       "    </tr>\n",
       "  </thead>\n",
       "  <tbody>\n",
       "    <tr>\n",
       "      <th>0</th>\n",
       "      <td>0.000349</td>\n",
       "      <td>0.000001</td>\n",
       "      <td>0.000025</td>\n",
       "      <td>0.000071</td>\n",
       "      <td>0.000096</td>\n",
       "      <td>0.000017</td>\n",
       "      <td>0.000013</td>\n",
       "      <td>39yZGhaJay8</td>\n",
       "    </tr>\n",
       "    <tr>\n",
       "      <th>1</th>\n",
       "      <td>0.000424</td>\n",
       "      <td>0.000001</td>\n",
       "      <td>0.000030</td>\n",
       "      <td>0.000061</td>\n",
       "      <td>0.000102</td>\n",
       "      <td>0.000020</td>\n",
       "      <td>0.000014</td>\n",
       "      <td>39yZGhaJay8</td>\n",
       "    </tr>\n",
       "    <tr>\n",
       "      <th>2</th>\n",
       "      <td>0.195656</td>\n",
       "      <td>0.000097</td>\n",
       "      <td>0.002811</td>\n",
       "      <td>0.002401</td>\n",
       "      <td>0.002793</td>\n",
       "      <td>0.000238</td>\n",
       "      <td>0.428493</td>\n",
       "      <td>39yZGhaJay8</td>\n",
       "    </tr>\n",
       "    <tr>\n",
       "      <th>3</th>\n",
       "      <td>0.002555</td>\n",
       "      <td>0.000007</td>\n",
       "      <td>0.000217</td>\n",
       "      <td>0.000516</td>\n",
       "      <td>0.000455</td>\n",
       "      <td>0.000046</td>\n",
       "      <td>0.000550</td>\n",
       "      <td>39yZGhaJay8</td>\n",
       "    </tr>\n",
       "    <tr>\n",
       "      <th>4</th>\n",
       "      <td>0.000505</td>\n",
       "      <td>0.000001</td>\n",
       "      <td>0.000037</td>\n",
       "      <td>0.000070</td>\n",
       "      <td>0.000132</td>\n",
       "      <td>0.000022</td>\n",
       "      <td>0.000015</td>\n",
       "      <td>39yZGhaJay8</td>\n",
       "    </tr>\n",
       "    <tr>\n",
       "      <th>...</th>\n",
       "      <td>...</td>\n",
       "      <td>...</td>\n",
       "      <td>...</td>\n",
       "      <td>...</td>\n",
       "      <td>...</td>\n",
       "      <td>...</td>\n",
       "      <td>...</td>\n",
       "      <td>...</td>\n",
       "    </tr>\n",
       "    <tr>\n",
       "      <th>188</th>\n",
       "      <td>0.000931</td>\n",
       "      <td>0.000002</td>\n",
       "      <td>0.000059</td>\n",
       "      <td>0.000100</td>\n",
       "      <td>0.000172</td>\n",
       "      <td>0.000027</td>\n",
       "      <td>0.000030</td>\n",
       "      <td>FFm-ZpY7Fbo</td>\n",
       "    </tr>\n",
       "    <tr>\n",
       "      <th>189</th>\n",
       "      <td>0.975875</td>\n",
       "      <td>0.027677</td>\n",
       "      <td>0.960910</td>\n",
       "      <td>0.006665</td>\n",
       "      <td>0.312209</td>\n",
       "      <td>0.001354</td>\n",
       "      <td>0.012716</td>\n",
       "      <td>FFm-ZpY7Fbo</td>\n",
       "    </tr>\n",
       "    <tr>\n",
       "      <th>190</th>\n",
       "      <td>0.001668</td>\n",
       "      <td>0.000003</td>\n",
       "      <td>0.000264</td>\n",
       "      <td>0.000098</td>\n",
       "      <td>0.000340</td>\n",
       "      <td>0.000043</td>\n",
       "      <td>0.000051</td>\n",
       "      <td>FFm-ZpY7Fbo</td>\n",
       "    </tr>\n",
       "    <tr>\n",
       "      <th>191</th>\n",
       "      <td>0.003152</td>\n",
       "      <td>0.000002</td>\n",
       "      <td>0.000101</td>\n",
       "      <td>0.000198</td>\n",
       "      <td>0.000643</td>\n",
       "      <td>0.000108</td>\n",
       "      <td>0.000045</td>\n",
       "      <td>FFm-ZpY7Fbo</td>\n",
       "    </tr>\n",
       "    <tr>\n",
       "      <th>192</th>\n",
       "      <td>0.000504</td>\n",
       "      <td>0.000001</td>\n",
       "      <td>0.000027</td>\n",
       "      <td>0.000080</td>\n",
       "      <td>0.000110</td>\n",
       "      <td>0.000023</td>\n",
       "      <td>0.000013</td>\n",
       "      <td>FFm-ZpY7Fbo</td>\n",
       "    </tr>\n",
       "  </tbody>\n",
       "</table>\n",
       "<p>193 rows × 8 columns</p>\n",
       "</div>"
      ],
      "text/plain": [
       "     toxicity  severe_toxicity   obscene  identity_attack    insult    threat  \\\n",
       "0    0.000349         0.000001  0.000025         0.000071  0.000096  0.000017   \n",
       "1    0.000424         0.000001  0.000030         0.000061  0.000102  0.000020   \n",
       "2    0.195656         0.000097  0.002811         0.002401  0.002793  0.000238   \n",
       "3    0.002555         0.000007  0.000217         0.000516  0.000455  0.000046   \n",
       "4    0.000505         0.000001  0.000037         0.000070  0.000132  0.000022   \n",
       "..        ...              ...       ...              ...       ...       ...   \n",
       "188  0.000931         0.000002  0.000059         0.000100  0.000172  0.000027   \n",
       "189  0.975875         0.027677  0.960910         0.006665  0.312209  0.001354   \n",
       "190  0.001668         0.000003  0.000264         0.000098  0.000340  0.000043   \n",
       "191  0.003152         0.000002  0.000101         0.000198  0.000643  0.000108   \n",
       "192  0.000504         0.000001  0.000027         0.000080  0.000110  0.000023   \n",
       "\n",
       "     sexual_explicit     video_id  \n",
       "0           0.000013  39yZGhaJay8  \n",
       "1           0.000014  39yZGhaJay8  \n",
       "2           0.428493  39yZGhaJay8  \n",
       "3           0.000550  39yZGhaJay8  \n",
       "4           0.000015  39yZGhaJay8  \n",
       "..               ...          ...  \n",
       "188         0.000030  FFm-ZpY7Fbo  \n",
       "189         0.012716  FFm-ZpY7Fbo  \n",
       "190         0.000051  FFm-ZpY7Fbo  \n",
       "191         0.000045  FFm-ZpY7Fbo  \n",
       "192         0.000013  FFm-ZpY7Fbo  \n",
       "\n",
       "[193 rows x 8 columns]"
      ]
     },
     "execution_count": 157,
     "metadata": {},
     "output_type": "execute_result"
    }
   ],
   "source": [
    "toxic_df"
   ]
  },
  {
   "cell_type": "code",
   "execution_count": 158,
   "id": "2c9998a1",
   "metadata": {},
   "outputs": [
    {
     "name": "stdout",
     "output_type": "stream",
     "text": [
      "runtime= 0.06134915351867676\n"
     ]
    }
   ],
   "source": [
    "t=time.time()\n",
    "new_df=toxic_df.groupby(by='video_id').mean()\n",
    "new_df\n",
    "print('runtime=', time.time()-t)"
   ]
  },
  {
   "cell_type": "markdown",
   "id": "eb86da7e",
   "metadata": {},
   "source": [
    "# Everything else I tried so far (don't look if you don't want to have a headache)"
   ]
  },
  {
   "cell_type": "markdown",
   "id": "c2f45e0c",
   "metadata": {},
   "source": [
    "### Turning the whole dataframe into another one "
   ]
  },
  {
   "cell_type": "code",
   "execution_count": 4,
   "id": "2e9e7348",
   "metadata": {},
   "outputs": [],
   "source": [
    "#df_on=df_on.set_index(['video_id']).apply(lambda x: x.explode()).reset_index()\n",
    "#command line might be usefull later"
   ]
  },
  {
   "cell_type": "markdown",
   "id": "a07cab31",
   "metadata": {},
   "source": [
    "### Second idea (works but a bit naive, not optimized, long)"
   ]
  },
  {
   "cell_type": "code",
   "execution_count": 4,
   "id": "89dc781d",
   "metadata": {},
   "outputs": [],
   "source": [
    "#has a very very small runing-time, don't think it should be optimized\n",
    "def df_list(X):\n",
    "    new_list_=[] #creates a list with approximately one comment per item\n",
    "    n=0\n",
    "    for i in X.split(\"'id': \"):\n",
    "        if n!=0: #condition to avoid taking the very first i which doesn't have anything important\n",
    "            [no_keep, keep]=i.split(\" 'text': \")\n",
    "            [text, no_keep]=keep.split(\", 'likes'\")\n",
    "            new_list_.append(text)\n",
    "        n+=1\n",
    "    return new_list_"
   ]
  },
  {
   "cell_type": "code",
   "execution_count": 31,
   "id": "c52cc35c",
   "metadata": {},
   "outputs": [],
   "source": [
    "def df_list_re(X): #does the same thing as df_list, just hoping with a better running time\n",
    "    my_text=re.findall(r\"(?:, 'text':)\\s*(.*?)\\s*(?!\\1)(?:, 'likes')\",X)\n",
    "    return my_text"
   ]
  },
  {
   "cell_type": "code",
   "execution_count": 111,
   "id": "fd79c98e",
   "metadata": {},
   "outputs": [],
   "source": [
    "df_head=df_comments.head(2)"
   ]
  },
  {
   "cell_type": "code",
   "execution_count": 144,
   "id": "5934b50c",
   "metadata": {},
   "outputs": [
    {
     "name": "stdout",
     "output_type": "stream",
     "text": [
      "runtime= 342.7037069797516\n"
     ]
    }
   ],
   "source": [
    "t=time.time()\n",
    "toxic_df=pd.DataFrame()\n",
    "\n",
    "for i in range (len(df_head)):\n",
    "    X=df_head.loc[i,\"comments\"]\n",
    "    video_id=df_head.loc[i, \"video_id\"]\n",
    "    new_list_=df_list(X)\n",
    "    data_detoxify=Detoxify('unbiased').predict(new_list_)\n",
    "    temp_df=pd.DataFrame(data=data_detoxify)\n",
    "    temp_df.insert(0, \"video_id\", video_id, False) #inserts the columns video_id as the first column in the dataset\n",
    "    toxic_df = pd.concat([toxic_df,temp_df])\n",
    "print('runtime=', time.time()-t)"
   ]
  },
  {
   "cell_type": "code",
   "execution_count": 145,
   "id": "3dd075fc",
   "metadata": {},
   "outputs": [
    {
     "data": {
      "text/html": [
       "<div>\n",
       "<style scoped>\n",
       "    .dataframe tbody tr th:only-of-type {\n",
       "        vertical-align: middle;\n",
       "    }\n",
       "\n",
       "    .dataframe tbody tr th {\n",
       "        vertical-align: top;\n",
       "    }\n",
       "\n",
       "    .dataframe thead th {\n",
       "        text-align: right;\n",
       "    }\n",
       "</style>\n",
       "<table border=\"1\" class=\"dataframe\">\n",
       "  <thead>\n",
       "    <tr style=\"text-align: right;\">\n",
       "      <th></th>\n",
       "      <th>video_id</th>\n",
       "      <th>toxicity</th>\n",
       "      <th>severe_toxicity</th>\n",
       "      <th>obscene</th>\n",
       "      <th>identity_attack</th>\n",
       "      <th>insult</th>\n",
       "      <th>threat</th>\n",
       "      <th>sexual_explicit</th>\n",
       "    </tr>\n",
       "  </thead>\n",
       "  <tbody>\n",
       "    <tr>\n",
       "      <th>0</th>\n",
       "      <td>39yZGhaJay8</td>\n",
       "      <td>0.000349</td>\n",
       "      <td>0.000001</td>\n",
       "      <td>0.000025</td>\n",
       "      <td>0.000071</td>\n",
       "      <td>0.000096</td>\n",
       "      <td>0.000017</td>\n",
       "      <td>0.000013</td>\n",
       "    </tr>\n",
       "    <tr>\n",
       "      <th>1</th>\n",
       "      <td>39yZGhaJay8</td>\n",
       "      <td>0.000424</td>\n",
       "      <td>0.000001</td>\n",
       "      <td>0.000030</td>\n",
       "      <td>0.000061</td>\n",
       "      <td>0.000102</td>\n",
       "      <td>0.000020</td>\n",
       "      <td>0.000014</td>\n",
       "    </tr>\n",
       "    <tr>\n",
       "      <th>2</th>\n",
       "      <td>39yZGhaJay8</td>\n",
       "      <td>0.195656</td>\n",
       "      <td>0.000097</td>\n",
       "      <td>0.002811</td>\n",
       "      <td>0.002401</td>\n",
       "      <td>0.002793</td>\n",
       "      <td>0.000238</td>\n",
       "      <td>0.428493</td>\n",
       "    </tr>\n",
       "    <tr>\n",
       "      <th>3</th>\n",
       "      <td>39yZGhaJay8</td>\n",
       "      <td>0.002555</td>\n",
       "      <td>0.000007</td>\n",
       "      <td>0.000217</td>\n",
       "      <td>0.000516</td>\n",
       "      <td>0.000455</td>\n",
       "      <td>0.000046</td>\n",
       "      <td>0.000550</td>\n",
       "    </tr>\n",
       "    <tr>\n",
       "      <th>4</th>\n",
       "      <td>39yZGhaJay8</td>\n",
       "      <td>0.000505</td>\n",
       "      <td>0.000001</td>\n",
       "      <td>0.000037</td>\n",
       "      <td>0.000070</td>\n",
       "      <td>0.000132</td>\n",
       "      <td>0.000022</td>\n",
       "      <td>0.000015</td>\n",
       "    </tr>\n",
       "    <tr>\n",
       "      <th>...</th>\n",
       "      <td>...</td>\n",
       "      <td>...</td>\n",
       "      <td>...</td>\n",
       "      <td>...</td>\n",
       "      <td>...</td>\n",
       "      <td>...</td>\n",
       "      <td>...</td>\n",
       "      <td>...</td>\n",
       "    </tr>\n",
       "    <tr>\n",
       "      <th>82</th>\n",
       "      <td>FFm-ZpY7Fbo</td>\n",
       "      <td>0.000931</td>\n",
       "      <td>0.000002</td>\n",
       "      <td>0.000059</td>\n",
       "      <td>0.000100</td>\n",
       "      <td>0.000172</td>\n",
       "      <td>0.000027</td>\n",
       "      <td>0.000030</td>\n",
       "    </tr>\n",
       "    <tr>\n",
       "      <th>83</th>\n",
       "      <td>FFm-ZpY7Fbo</td>\n",
       "      <td>0.975875</td>\n",
       "      <td>0.027677</td>\n",
       "      <td>0.960910</td>\n",
       "      <td>0.006665</td>\n",
       "      <td>0.312209</td>\n",
       "      <td>0.001354</td>\n",
       "      <td>0.012716</td>\n",
       "    </tr>\n",
       "    <tr>\n",
       "      <th>84</th>\n",
       "      <td>FFm-ZpY7Fbo</td>\n",
       "      <td>0.001668</td>\n",
       "      <td>0.000003</td>\n",
       "      <td>0.000264</td>\n",
       "      <td>0.000098</td>\n",
       "      <td>0.000340</td>\n",
       "      <td>0.000043</td>\n",
       "      <td>0.000051</td>\n",
       "    </tr>\n",
       "    <tr>\n",
       "      <th>85</th>\n",
       "      <td>FFm-ZpY7Fbo</td>\n",
       "      <td>0.003152</td>\n",
       "      <td>0.000002</td>\n",
       "      <td>0.000101</td>\n",
       "      <td>0.000198</td>\n",
       "      <td>0.000643</td>\n",
       "      <td>0.000108</td>\n",
       "      <td>0.000045</td>\n",
       "    </tr>\n",
       "    <tr>\n",
       "      <th>86</th>\n",
       "      <td>FFm-ZpY7Fbo</td>\n",
       "      <td>0.000504</td>\n",
       "      <td>0.000001</td>\n",
       "      <td>0.000027</td>\n",
       "      <td>0.000080</td>\n",
       "      <td>0.000110</td>\n",
       "      <td>0.000023</td>\n",
       "      <td>0.000013</td>\n",
       "    </tr>\n",
       "  </tbody>\n",
       "</table>\n",
       "<p>193 rows × 8 columns</p>\n",
       "</div>"
      ],
      "text/plain": [
       "       video_id  toxicity  severe_toxicity   obscene  identity_attack  \\\n",
       "0   39yZGhaJay8  0.000349         0.000001  0.000025         0.000071   \n",
       "1   39yZGhaJay8  0.000424         0.000001  0.000030         0.000061   \n",
       "2   39yZGhaJay8  0.195656         0.000097  0.002811         0.002401   \n",
       "3   39yZGhaJay8  0.002555         0.000007  0.000217         0.000516   \n",
       "4   39yZGhaJay8  0.000505         0.000001  0.000037         0.000070   \n",
       "..          ...       ...              ...       ...              ...   \n",
       "82  FFm-ZpY7Fbo  0.000931         0.000002  0.000059         0.000100   \n",
       "83  FFm-ZpY7Fbo  0.975875         0.027677  0.960910         0.006665   \n",
       "84  FFm-ZpY7Fbo  0.001668         0.000003  0.000264         0.000098   \n",
       "85  FFm-ZpY7Fbo  0.003152         0.000002  0.000101         0.000198   \n",
       "86  FFm-ZpY7Fbo  0.000504         0.000001  0.000027         0.000080   \n",
       "\n",
       "      insult    threat  sexual_explicit  \n",
       "0   0.000096  0.000017         0.000013  \n",
       "1   0.000102  0.000020         0.000014  \n",
       "2   0.002793  0.000238         0.428493  \n",
       "3   0.000455  0.000046         0.000550  \n",
       "4   0.000132  0.000022         0.000015  \n",
       "..       ...       ...              ...  \n",
       "82  0.000172  0.000027         0.000030  \n",
       "83  0.312209  0.001354         0.012716  \n",
       "84  0.000340  0.000043         0.000051  \n",
       "85  0.000643  0.000108         0.000045  \n",
       "86  0.000110  0.000023         0.000013  \n",
       "\n",
       "[193 rows x 8 columns]"
      ]
     },
     "execution_count": 145,
     "metadata": {},
     "output_type": "execute_result"
    }
   ],
   "source": [
    "toxic_df"
   ]
  },
  {
   "cell_type": "code",
   "execution_count": 9,
   "id": "bdf6d379",
   "metadata": {},
   "outputs": [
    {
     "name": "stdout",
     "output_type": "stream",
     "text": [
      "runtime= 0.020845890045166016\n"
     ]
    }
   ],
   "source": [
    "t=time.time()\n",
    "new_df=toxic_df.groupby(by='video_id').mean()\n",
    "new_df\n",
    "print('runtime=', time.time()-t)"
   ]
  },
  {
   "cell_type": "markdown",
   "id": "541f77e0",
   "metadata": {},
   "source": [
    "### Creating our dataframe by stacking dictionnary"
   ]
  },
  {
   "cell_type": "code",
   "execution_count": 140,
   "id": "0936064d",
   "metadata": {},
   "outputs": [],
   "source": [
    "df_head=df_comments.head(2)"
   ]
  },
  {
   "cell_type": "code",
   "execution_count": 143,
   "id": "e8ec61ae",
   "metadata": {},
   "outputs": [
    {
     "name": "stdout",
     "output_type": "stream",
     "text": [
      "runtime= 334.3930866718292\n"
     ]
    }
   ],
   "source": [
    "t=time.time()\n",
    "toxic_df=pd.DataFrame()\n",
    "dict_list={\"toxicity\":[],'severe_toxicity':[], 'obscene':[], 'identity_attack':[], 'insult':[], 'threat':[], 'sexual_explicit':[]}\n",
    "video_id_list=[]\n",
    "\n",
    "for i in range (len(df_head)):\n",
    "    X=df_head.loc[i,\"comments\"]\n",
    "    video_id=df_head.loc[i, \"video_id\"]\n",
    "    new_list_=df_list(X)\n",
    "    data_detoxify=Detoxify('unbiased').predict(new_list_)\n",
    "    dict_list[\"toxicity\"]+=(data_detoxify[\"toxicity\"])\n",
    "    dict_list['severe_toxicity']+=(data_detoxify['severe_toxicity'])\n",
    "    dict_list['obscene']+=(data_detoxify['obscene'])\n",
    "    dict_list['identity_attack']+=(data_detoxify['identity_attack'])\n",
    "    dict_list['insult']+=(data_detoxify['insult'])\n",
    "    dict_list['threat']+=(data_detoxify['threat'])\n",
    "    dict_list['sexual_explicit']+=(data_detoxify['sexual_explicit'])\n",
    "    video_id_list+=[video_id]*len(data_detoxify['toxicity'])\n",
    "    \n",
    "toxic_df=pd.DataFrame(data=dict_list)\n",
    "toxic_df['video_id']=video_id_list\n",
    "    \n",
    "print('runtime=', time.time()-t)"
   ]
  },
  {
   "cell_type": "code",
   "execution_count": 142,
   "id": "8d3e1d4c",
   "metadata": {},
   "outputs": [
    {
     "data": {
      "text/html": [
       "<div>\n",
       "<style scoped>\n",
       "    .dataframe tbody tr th:only-of-type {\n",
       "        vertical-align: middle;\n",
       "    }\n",
       "\n",
       "    .dataframe tbody tr th {\n",
       "        vertical-align: top;\n",
       "    }\n",
       "\n",
       "    .dataframe thead th {\n",
       "        text-align: right;\n",
       "    }\n",
       "</style>\n",
       "<table border=\"1\" class=\"dataframe\">\n",
       "  <thead>\n",
       "    <tr style=\"text-align: right;\">\n",
       "      <th></th>\n",
       "      <th>toxicity</th>\n",
       "      <th>severe_toxicity</th>\n",
       "      <th>obscene</th>\n",
       "      <th>identity_attack</th>\n",
       "      <th>insult</th>\n",
       "      <th>threat</th>\n",
       "      <th>sexual_explicit</th>\n",
       "      <th>video_id</th>\n",
       "    </tr>\n",
       "  </thead>\n",
       "  <tbody>\n",
       "    <tr>\n",
       "      <th>0</th>\n",
       "      <td>0.000349</td>\n",
       "      <td>0.000001</td>\n",
       "      <td>0.000025</td>\n",
       "      <td>0.000071</td>\n",
       "      <td>0.000096</td>\n",
       "      <td>0.000017</td>\n",
       "      <td>0.000013</td>\n",
       "      <td>39yZGhaJay8</td>\n",
       "    </tr>\n",
       "    <tr>\n",
       "      <th>1</th>\n",
       "      <td>0.000424</td>\n",
       "      <td>0.000001</td>\n",
       "      <td>0.000030</td>\n",
       "      <td>0.000061</td>\n",
       "      <td>0.000102</td>\n",
       "      <td>0.000020</td>\n",
       "      <td>0.000014</td>\n",
       "      <td>39yZGhaJay8</td>\n",
       "    </tr>\n",
       "    <tr>\n",
       "      <th>2</th>\n",
       "      <td>0.195656</td>\n",
       "      <td>0.000097</td>\n",
       "      <td>0.002811</td>\n",
       "      <td>0.002401</td>\n",
       "      <td>0.002793</td>\n",
       "      <td>0.000238</td>\n",
       "      <td>0.428493</td>\n",
       "      <td>39yZGhaJay8</td>\n",
       "    </tr>\n",
       "    <tr>\n",
       "      <th>3</th>\n",
       "      <td>0.002555</td>\n",
       "      <td>0.000007</td>\n",
       "      <td>0.000217</td>\n",
       "      <td>0.000516</td>\n",
       "      <td>0.000455</td>\n",
       "      <td>0.000046</td>\n",
       "      <td>0.000550</td>\n",
       "      <td>39yZGhaJay8</td>\n",
       "    </tr>\n",
       "    <tr>\n",
       "      <th>4</th>\n",
       "      <td>0.000505</td>\n",
       "      <td>0.000001</td>\n",
       "      <td>0.000037</td>\n",
       "      <td>0.000070</td>\n",
       "      <td>0.000132</td>\n",
       "      <td>0.000022</td>\n",
       "      <td>0.000015</td>\n",
       "      <td>39yZGhaJay8</td>\n",
       "    </tr>\n",
       "    <tr>\n",
       "      <th>...</th>\n",
       "      <td>...</td>\n",
       "      <td>...</td>\n",
       "      <td>...</td>\n",
       "      <td>...</td>\n",
       "      <td>...</td>\n",
       "      <td>...</td>\n",
       "      <td>...</td>\n",
       "      <td>...</td>\n",
       "    </tr>\n",
       "    <tr>\n",
       "      <th>188</th>\n",
       "      <td>0.000931</td>\n",
       "      <td>0.000002</td>\n",
       "      <td>0.000059</td>\n",
       "      <td>0.000100</td>\n",
       "      <td>0.000172</td>\n",
       "      <td>0.000027</td>\n",
       "      <td>0.000030</td>\n",
       "      <td>FFm-ZpY7Fbo</td>\n",
       "    </tr>\n",
       "    <tr>\n",
       "      <th>189</th>\n",
       "      <td>0.975875</td>\n",
       "      <td>0.027677</td>\n",
       "      <td>0.960910</td>\n",
       "      <td>0.006665</td>\n",
       "      <td>0.312209</td>\n",
       "      <td>0.001354</td>\n",
       "      <td>0.012716</td>\n",
       "      <td>FFm-ZpY7Fbo</td>\n",
       "    </tr>\n",
       "    <tr>\n",
       "      <th>190</th>\n",
       "      <td>0.001668</td>\n",
       "      <td>0.000003</td>\n",
       "      <td>0.000264</td>\n",
       "      <td>0.000098</td>\n",
       "      <td>0.000340</td>\n",
       "      <td>0.000043</td>\n",
       "      <td>0.000051</td>\n",
       "      <td>FFm-ZpY7Fbo</td>\n",
       "    </tr>\n",
       "    <tr>\n",
       "      <th>191</th>\n",
       "      <td>0.003152</td>\n",
       "      <td>0.000002</td>\n",
       "      <td>0.000101</td>\n",
       "      <td>0.000198</td>\n",
       "      <td>0.000643</td>\n",
       "      <td>0.000108</td>\n",
       "      <td>0.000045</td>\n",
       "      <td>FFm-ZpY7Fbo</td>\n",
       "    </tr>\n",
       "    <tr>\n",
       "      <th>192</th>\n",
       "      <td>0.000504</td>\n",
       "      <td>0.000001</td>\n",
       "      <td>0.000027</td>\n",
       "      <td>0.000080</td>\n",
       "      <td>0.000110</td>\n",
       "      <td>0.000023</td>\n",
       "      <td>0.000013</td>\n",
       "      <td>FFm-ZpY7Fbo</td>\n",
       "    </tr>\n",
       "  </tbody>\n",
       "</table>\n",
       "<p>193 rows × 8 columns</p>\n",
       "</div>"
      ],
      "text/plain": [
       "     toxicity  severe_toxicity   obscene  identity_attack    insult    threat  \\\n",
       "0    0.000349         0.000001  0.000025         0.000071  0.000096  0.000017   \n",
       "1    0.000424         0.000001  0.000030         0.000061  0.000102  0.000020   \n",
       "2    0.195656         0.000097  0.002811         0.002401  0.002793  0.000238   \n",
       "3    0.002555         0.000007  0.000217         0.000516  0.000455  0.000046   \n",
       "4    0.000505         0.000001  0.000037         0.000070  0.000132  0.000022   \n",
       "..        ...              ...       ...              ...       ...       ...   \n",
       "188  0.000931         0.000002  0.000059         0.000100  0.000172  0.000027   \n",
       "189  0.975875         0.027677  0.960910         0.006665  0.312209  0.001354   \n",
       "190  0.001668         0.000003  0.000264         0.000098  0.000340  0.000043   \n",
       "191  0.003152         0.000002  0.000101         0.000198  0.000643  0.000108   \n",
       "192  0.000504         0.000001  0.000027         0.000080  0.000110  0.000023   \n",
       "\n",
       "     sexual_explicit     video_id  \n",
       "0           0.000013  39yZGhaJay8  \n",
       "1           0.000014  39yZGhaJay8  \n",
       "2           0.428493  39yZGhaJay8  \n",
       "3           0.000550  39yZGhaJay8  \n",
       "4           0.000015  39yZGhaJay8  \n",
       "..               ...          ...  \n",
       "188         0.000030  FFm-ZpY7Fbo  \n",
       "189         0.012716  FFm-ZpY7Fbo  \n",
       "190         0.000051  FFm-ZpY7Fbo  \n",
       "191         0.000045  FFm-ZpY7Fbo  \n",
       "192         0.000013  FFm-ZpY7Fbo  \n",
       "\n",
       "[193 rows x 8 columns]"
      ]
     },
     "execution_count": 142,
     "metadata": {},
     "output_type": "execute_result"
    }
   ],
   "source": [
    "toxic_df"
   ]
  },
  {
   "cell_type": "code",
   "execution_count": null,
   "id": "0282325b",
   "metadata": {},
   "outputs": [],
   "source": [
    "#working on dictionaries"
   ]
  },
  {
   "cell_type": "code",
   "execution_count": 151,
   "id": "cd14926c",
   "metadata": {},
   "outputs": [],
   "source": [
    "from collections import Counter"
   ]
  },
  {
   "cell_type": "code",
   "execution_count": 148,
   "id": "c281ebdc",
   "metadata": {},
   "outputs": [],
   "source": [
    "Z=df_comments.loc[13,\"comments\"]\n",
    "new_list_1=df_list(Z)\n",
    "dict1=Detoxify('unbiased').predict(new_list_1)\n",
    "dict2=data_detoxify"
   ]
  },
  {
   "cell_type": "code",
   "execution_count": 153,
   "id": "827524c7",
   "metadata": {},
   "outputs": [
    {
     "ename": "TypeError",
     "evalue": "'>' not supported between instances of 'list' and 'int'",
     "output_type": "error",
     "traceback": [
      "\u001b[1;31m---------------------------------------------------------------------------\u001b[0m",
      "\u001b[1;31mTypeError\u001b[0m                                 Traceback (most recent call last)",
      "Input \u001b[1;32mIn [153]\u001b[0m, in \u001b[0;36m<cell line: 3>\u001b[1;34m()\u001b[0m\n\u001b[0;32m      1\u001b[0m dict1 \u001b[38;5;241m=\u001b[39m Counter(dict1)\n\u001b[0;32m      2\u001b[0m dict2 \u001b[38;5;241m=\u001b[39m Counter(dict2)\n\u001b[1;32m----> 3\u001b[0m dict3 \u001b[38;5;241m=\u001b[39m \u001b[38;5;28mdict\u001b[39m(\u001b[43mdict1\u001b[49m\u001b[43m \u001b[49m\u001b[38;5;241;43m+\u001b[39;49m\u001b[43m \u001b[49m\u001b[43mdict2\u001b[49m)\n\u001b[0;32m      4\u001b[0m \u001b[38;5;28mprint\u001b[39m (dict3)\n",
      "File \u001b[1;32m~\\anaconda3\\lib\\collections\\__init__.py:718\u001b[0m, in \u001b[0;36mCounter.__add__\u001b[1;34m(self, other)\u001b[0m\n\u001b[0;32m    716\u001b[0m \u001b[38;5;28;01mfor\u001b[39;00m elem, count \u001b[38;5;129;01min\u001b[39;00m \u001b[38;5;28mself\u001b[39m\u001b[38;5;241m.\u001b[39mitems():\n\u001b[0;32m    717\u001b[0m     newcount \u001b[38;5;241m=\u001b[39m count \u001b[38;5;241m+\u001b[39m other[elem]\n\u001b[1;32m--> 718\u001b[0m     \u001b[38;5;28;01mif\u001b[39;00m \u001b[43mnewcount\u001b[49m\u001b[43m \u001b[49m\u001b[38;5;241;43m>\u001b[39;49m\u001b[43m \u001b[49m\u001b[38;5;241;43m0\u001b[39;49m:\n\u001b[0;32m    719\u001b[0m         result[elem] \u001b[38;5;241m=\u001b[39m newcount\n\u001b[0;32m    720\u001b[0m \u001b[38;5;28;01mfor\u001b[39;00m elem, count \u001b[38;5;129;01min\u001b[39;00m other\u001b[38;5;241m.\u001b[39mitems():\n",
      "\u001b[1;31mTypeError\u001b[0m: '>' not supported between instances of 'list' and 'int'"
     ]
    }
   ],
   "source": [
    "dict1 = Counter(dict1)\n",
    "dict2 = Counter(dict2)\n",
    "dict3 = dict(dict1 + dict2)\n",
    "print (dict3)"
   ]
  },
  {
   "cell_type": "code",
   "execution_count": 150,
   "id": "a21e0645",
   "metadata": {},
   "outputs": [
    {
     "ename": "TypeError",
     "evalue": "unsupported operand type(s) for +: 'dict' and 'dict'",
     "output_type": "error",
     "traceback": [
      "\u001b[1;31m---------------------------------------------------------------------------\u001b[0m",
      "\u001b[1;31mTypeError\u001b[0m                                 Traceback (most recent call last)",
      "Input \u001b[1;32mIn [150]\u001b[0m, in \u001b[0;36m<cell line: 1>\u001b[1;34m()\u001b[0m\n\u001b[1;32m----> 1\u001b[0m \u001b[43mdict1\u001b[49m\u001b[38;5;241;43m+\u001b[39;49m\u001b[43mdict2\u001b[49m\n",
      "\u001b[1;31mTypeError\u001b[0m: unsupported operand type(s) for +: 'dict' and 'dict'"
     ]
    }
   ],
   "source": [
    "dict1+dict2"
   ]
  },
  {
   "cell_type": "code",
   "execution_count": null,
   "id": "2b412222",
   "metadata": {},
   "outputs": [],
   "source": []
  },
  {
   "cell_type": "markdown",
   "id": "9d0c7075",
   "metadata": {},
   "source": [
    "### Turning one line of df_comments into a dataframe"
   ]
  },
  {
   "cell_type": "code",
   "execution_count": 10,
   "id": "aff3f1f9",
   "metadata": {},
   "outputs": [],
   "source": [
    "X=df_comments.loc[3,\"comments\"]\n",
    "video_id=df_comments.loc[3, \"video_id\"]"
   ]
  },
  {
   "cell_type": "code",
   "execution_count": 11,
   "id": "af31ac90",
   "metadata": {},
   "outputs": [
    {
     "name": "stdout",
     "output_type": "stream",
     "text": [
      "runtime= 0.0019936561584472656\n"
     ]
    }
   ],
   "source": [
    "t=time.time()\n",
    "df_list(X)\n",
    "print('runtime=', time.time()-t)"
   ]
  },
  {
   "cell_type": "code",
   "execution_count": 12,
   "id": "c62e7a60",
   "metadata": {},
   "outputs": [],
   "source": [
    "# Turned 2 loops into one (no idea how to do it without a for loop)\n",
    "\n",
    "new_list_=[] #creates a list with approximately one comment per item\n",
    "n=0\n",
    "\n",
    "for i in X.split(\"'id': \"):\n",
    "    if n!=0: #condition to avoid taking the very first i which doesn't have anything important\n",
    "        [no_keep, keep]=i.split(\" 'text': \")\n",
    "        [text, no_keep]=keep.split(\", 'likes'\")\n",
    "        new_list_.append(text)\n",
    "    n+=1"
   ]
  },
  {
   "cell_type": "code",
   "execution_count": 13,
   "id": "d6debf31",
   "metadata": {},
   "outputs": [
    {
     "name": "stdout",
     "output_type": "stream",
     "text": [
      "runtime= 81.34286689758301\n"
     ]
    }
   ],
   "source": [
    "#running time= 2 min 30\n",
    "\n",
    "t=time.time()\n",
    "data_detoxify=Detoxify('unbiased').predict(new_list_)\n",
    "print('runtime=', time.time()-t)"
   ]
  },
  {
   "cell_type": "code",
   "execution_count": 14,
   "id": "e9b42b71",
   "metadata": {},
   "outputs": [],
   "source": [
    "toxic_df=pd.DataFrame(data=data_detoxify)\n",
    "toxic_df.insert(0, \"video_id\", video_id, False) #inserts the columns video_id as the first column in the dataset"
   ]
  },
  {
   "cell_type": "code",
   "execution_count": 15,
   "id": "a399f9d6",
   "metadata": {},
   "outputs": [
    {
     "data": {
      "text/html": [
       "<div>\n",
       "<style scoped>\n",
       "    .dataframe tbody tr th:only-of-type {\n",
       "        vertical-align: middle;\n",
       "    }\n",
       "\n",
       "    .dataframe tbody tr th {\n",
       "        vertical-align: top;\n",
       "    }\n",
       "\n",
       "    .dataframe thead th {\n",
       "        text-align: right;\n",
       "    }\n",
       "</style>\n",
       "<table border=\"1\" class=\"dataframe\">\n",
       "  <thead>\n",
       "    <tr style=\"text-align: right;\">\n",
       "      <th></th>\n",
       "      <th>video_id</th>\n",
       "      <th>toxicity</th>\n",
       "      <th>severe_toxicity</th>\n",
       "      <th>obscene</th>\n",
       "      <th>identity_attack</th>\n",
       "      <th>insult</th>\n",
       "      <th>threat</th>\n",
       "      <th>sexual_explicit</th>\n",
       "    </tr>\n",
       "  </thead>\n",
       "  <tbody>\n",
       "    <tr>\n",
       "      <th>0</th>\n",
       "      <td>lCR0QTdSJfA</td>\n",
       "      <td>0.000836</td>\n",
       "      <td>0.000002</td>\n",
       "      <td>0.000077</td>\n",
       "      <td>0.000065</td>\n",
       "      <td>0.000125</td>\n",
       "      <td>0.000073</td>\n",
       "      <td>0.000035</td>\n",
       "    </tr>\n",
       "    <tr>\n",
       "      <th>1</th>\n",
       "      <td>lCR0QTdSJfA</td>\n",
       "      <td>0.001311</td>\n",
       "      <td>0.000003</td>\n",
       "      <td>0.000118</td>\n",
       "      <td>0.000088</td>\n",
       "      <td>0.000234</td>\n",
       "      <td>0.000052</td>\n",
       "      <td>0.000055</td>\n",
       "    </tr>\n",
       "    <tr>\n",
       "      <th>2</th>\n",
       "      <td>lCR0QTdSJfA</td>\n",
       "      <td>0.000434</td>\n",
       "      <td>0.000001</td>\n",
       "      <td>0.000031</td>\n",
       "      <td>0.000075</td>\n",
       "      <td>0.000100</td>\n",
       "      <td>0.000019</td>\n",
       "      <td>0.000011</td>\n",
       "    </tr>\n",
       "    <tr>\n",
       "      <th>3</th>\n",
       "      <td>lCR0QTdSJfA</td>\n",
       "      <td>0.993024</td>\n",
       "      <td>0.000667</td>\n",
       "      <td>0.005575</td>\n",
       "      <td>0.005020</td>\n",
       "      <td>0.966770</td>\n",
       "      <td>0.084171</td>\n",
       "      <td>0.000864</td>\n",
       "    </tr>\n",
       "    <tr>\n",
       "      <th>4</th>\n",
       "      <td>lCR0QTdSJfA</td>\n",
       "      <td>0.002584</td>\n",
       "      <td>0.000003</td>\n",
       "      <td>0.000126</td>\n",
       "      <td>0.000204</td>\n",
       "      <td>0.000545</td>\n",
       "      <td>0.000101</td>\n",
       "      <td>0.000048</td>\n",
       "    </tr>\n",
       "    <tr>\n",
       "      <th>...</th>\n",
       "      <td>...</td>\n",
       "      <td>...</td>\n",
       "      <td>...</td>\n",
       "      <td>...</td>\n",
       "      <td>...</td>\n",
       "      <td>...</td>\n",
       "      <td>...</td>\n",
       "      <td>...</td>\n",
       "    </tr>\n",
       "    <tr>\n",
       "      <th>111</th>\n",
       "      <td>lCR0QTdSJfA</td>\n",
       "      <td>0.009181</td>\n",
       "      <td>0.000007</td>\n",
       "      <td>0.000251</td>\n",
       "      <td>0.001008</td>\n",
       "      <td>0.003268</td>\n",
       "      <td>0.000196</td>\n",
       "      <td>0.000050</td>\n",
       "    </tr>\n",
       "    <tr>\n",
       "      <th>112</th>\n",
       "      <td>lCR0QTdSJfA</td>\n",
       "      <td>0.069598</td>\n",
       "      <td>0.000053</td>\n",
       "      <td>0.002156</td>\n",
       "      <td>0.002092</td>\n",
       "      <td>0.002339</td>\n",
       "      <td>0.000084</td>\n",
       "      <td>0.117386</td>\n",
       "    </tr>\n",
       "    <tr>\n",
       "      <th>113</th>\n",
       "      <td>lCR0QTdSJfA</td>\n",
       "      <td>0.001757</td>\n",
       "      <td>0.000002</td>\n",
       "      <td>0.000064</td>\n",
       "      <td>0.000181</td>\n",
       "      <td>0.000272</td>\n",
       "      <td>0.000075</td>\n",
       "      <td>0.000035</td>\n",
       "    </tr>\n",
       "    <tr>\n",
       "      <th>114</th>\n",
       "      <td>lCR0QTdSJfA</td>\n",
       "      <td>0.045794</td>\n",
       "      <td>0.000073</td>\n",
       "      <td>0.000478</td>\n",
       "      <td>0.021208</td>\n",
       "      <td>0.005299</td>\n",
       "      <td>0.001618</td>\n",
       "      <td>0.004148</td>\n",
       "    </tr>\n",
       "    <tr>\n",
       "      <th>115</th>\n",
       "      <td>lCR0QTdSJfA</td>\n",
       "      <td>0.000626</td>\n",
       "      <td>0.000002</td>\n",
       "      <td>0.000044</td>\n",
       "      <td>0.000065</td>\n",
       "      <td>0.000130</td>\n",
       "      <td>0.000025</td>\n",
       "      <td>0.000019</td>\n",
       "    </tr>\n",
       "  </tbody>\n",
       "</table>\n",
       "<p>116 rows × 8 columns</p>\n",
       "</div>"
      ],
      "text/plain": [
       "        video_id  toxicity  severe_toxicity   obscene  identity_attack  \\\n",
       "0    lCR0QTdSJfA  0.000836         0.000002  0.000077         0.000065   \n",
       "1    lCR0QTdSJfA  0.001311         0.000003  0.000118         0.000088   \n",
       "2    lCR0QTdSJfA  0.000434         0.000001  0.000031         0.000075   \n",
       "3    lCR0QTdSJfA  0.993024         0.000667  0.005575         0.005020   \n",
       "4    lCR0QTdSJfA  0.002584         0.000003  0.000126         0.000204   \n",
       "..           ...       ...              ...       ...              ...   \n",
       "111  lCR0QTdSJfA  0.009181         0.000007  0.000251         0.001008   \n",
       "112  lCR0QTdSJfA  0.069598         0.000053  0.002156         0.002092   \n",
       "113  lCR0QTdSJfA  0.001757         0.000002  0.000064         0.000181   \n",
       "114  lCR0QTdSJfA  0.045794         0.000073  0.000478         0.021208   \n",
       "115  lCR0QTdSJfA  0.000626         0.000002  0.000044         0.000065   \n",
       "\n",
       "       insult    threat  sexual_explicit  \n",
       "0    0.000125  0.000073         0.000035  \n",
       "1    0.000234  0.000052         0.000055  \n",
       "2    0.000100  0.000019         0.000011  \n",
       "3    0.966770  0.084171         0.000864  \n",
       "4    0.000545  0.000101         0.000048  \n",
       "..        ...       ...              ...  \n",
       "111  0.003268  0.000196         0.000050  \n",
       "112  0.002339  0.000084         0.117386  \n",
       "113  0.000272  0.000075         0.000035  \n",
       "114  0.005299  0.001618         0.004148  \n",
       "115  0.000130  0.000025         0.000019  \n",
       "\n",
       "[116 rows x 8 columns]"
      ]
     },
     "execution_count": 15,
     "metadata": {},
     "output_type": "execute_result"
    }
   ],
   "source": [
    "toxic_df"
   ]
  },
  {
   "cell_type": "code",
   "execution_count": 16,
   "id": "49c31d02",
   "metadata": {},
   "outputs": [
    {
     "name": "stdout",
     "output_type": "stream",
     "text": [
      "runtime= 0.002992868423461914\n"
     ]
    }
   ],
   "source": [
    "t=time.time()\n",
    "new_df=toxic_df.groupby(by='video_id').mean()\n",
    "print('runtime=', time.time()-t)"
   ]
  },
  {
   "cell_type": "code",
   "execution_count": 17,
   "id": "ed8efb78",
   "metadata": {},
   "outputs": [
    {
     "data": {
      "text/html": [
       "<div>\n",
       "<style scoped>\n",
       "    .dataframe tbody tr th:only-of-type {\n",
       "        vertical-align: middle;\n",
       "    }\n",
       "\n",
       "    .dataframe tbody tr th {\n",
       "        vertical-align: top;\n",
       "    }\n",
       "\n",
       "    .dataframe thead th {\n",
       "        text-align: right;\n",
       "    }\n",
       "</style>\n",
       "<table border=\"1\" class=\"dataframe\">\n",
       "  <thead>\n",
       "    <tr style=\"text-align: right;\">\n",
       "      <th></th>\n",
       "      <th>toxicity</th>\n",
       "      <th>severe_toxicity</th>\n",
       "      <th>obscene</th>\n",
       "      <th>identity_attack</th>\n",
       "      <th>insult</th>\n",
       "      <th>threat</th>\n",
       "      <th>sexual_explicit</th>\n",
       "    </tr>\n",
       "    <tr>\n",
       "      <th>video_id</th>\n",
       "      <th></th>\n",
       "      <th></th>\n",
       "      <th></th>\n",
       "      <th></th>\n",
       "      <th></th>\n",
       "      <th></th>\n",
       "      <th></th>\n",
       "    </tr>\n",
       "  </thead>\n",
       "  <tbody>\n",
       "    <tr>\n",
       "      <th>lCR0QTdSJfA</th>\n",
       "      <td>0.208492</td>\n",
       "      <td>0.008254</td>\n",
       "      <td>0.16791</td>\n",
       "      <td>0.004402</td>\n",
       "      <td>0.086535</td>\n",
       "      <td>0.00195</td>\n",
       "      <td>0.057095</td>\n",
       "    </tr>\n",
       "  </tbody>\n",
       "</table>\n",
       "</div>"
      ],
      "text/plain": [
       "             toxicity  severe_toxicity  obscene  identity_attack    insult  \\\n",
       "video_id                                                                     \n",
       "lCR0QTdSJfA  0.208492         0.008254  0.16791         0.004402  0.086535   \n",
       "\n",
       "              threat  sexual_explicit  \n",
       "video_id                               \n",
       "lCR0QTdSJfA  0.00195         0.057095  "
      ]
     },
     "execution_count": 17,
     "metadata": {},
     "output_type": "execute_result"
    }
   ],
   "source": [
    "new_df"
   ]
  },
  {
   "cell_type": "code",
   "execution_count": 18,
   "id": "aed07938",
   "metadata": {},
   "outputs": [
    {
     "data": {
      "text/plain": [
       "toxicity           0.208492\n",
       "severe_toxicity    0.008254\n",
       "obscene            0.167910\n",
       "identity_attack    0.004402\n",
       "insult             0.086535\n",
       "threat             0.001950\n",
       "sexual_explicit    0.057095\n",
       "Name: lCR0QTdSJfA, dtype: float64"
      ]
     },
     "execution_count": 18,
     "metadata": {},
     "output_type": "execute_result"
    }
   ],
   "source": [
    "new_df.iloc[0,:]"
   ]
  },
  {
   "cell_type": "markdown",
   "id": "afb9c9e4",
   "metadata": {},
   "source": [
    "### Improving the \"spliting\" part"
   ]
  },
  {
   "cell_type": "code",
   "execution_count": 19,
   "id": "049c8b59",
   "metadata": {},
   "outputs": [
    {
     "name": "stdout",
     "output_type": "stream",
     "text": [
      "muffins are good, cookies are bad\n"
     ]
    }
   ],
   "source": [
    "import re\n",
    "text = \"muffins are good, cookies are bad. sauce is awesome, veggies too. fmooo mfasss, fdssaaaa.\"\n",
    "pattern = \"\\.?(?P<sentence>.*?good.*?)\\.\"\n",
    "match = re.search(pattern, text)\n",
    "if match != None:\n",
    "    print (match.group(\"sentence\"))"
   ]
  },
  {
   "cell_type": "code",
   "execution_count": 5,
   "id": "41d2d777",
   "metadata": {},
   "outputs": [
    {
     "name": "stdout",
     "output_type": "stream",
     "text": [
      "runtime= 0.00252532958984375\n"
     ]
    }
   ],
   "source": [
    "X=df_comments.loc[19,\"comments\"]\n",
    "t=time.time()\n",
    "new_list=df_list(X)\n",
    "print('runtime=', time.time()-t)"
   ]
  },
  {
   "cell_type": "code",
   "execution_count": 21,
   "id": "a8d2bf40",
   "metadata": {},
   "outputs": [],
   "source": [
    "import re\n",
    "text = X\n",
    "pattern = \"(?<= r'text r': \\s).*(?=\\s r, r'likes r')\"\n",
    "match = re.search(pattern, text)\n",
    "if match != None:\n",
    "    print (match.group(\"sentence\"))"
   ]
  },
  {
   "cell_type": "code",
   "execution_count": 7,
   "id": "70eb55e1",
   "metadata": {},
   "outputs": [],
   "source": [
    "import re"
   ]
  },
  {
   "cell_type": "code",
   "execution_count": null,
   "id": "b4ab191d",
   "metadata": {},
   "outputs": [],
   "source": [
    "#do not touch !!!!!!\n",
    "X=df_comments.loc[19,\"comments\"]\n",
    "t=time.time()\n",
    "my_text=re.findall(r\"('text':)\\s*(.*?)\\s*(?!\\1)(?:, 'likes')\",X)\n",
    "print('runtime=', time.time()-t)\n",
    "#do not touch !!!!"
   ]
  },
  {
   "cell_type": "code",
   "execution_count": 27,
   "id": "4ee8b128",
   "metadata": {},
   "outputs": [
    {
     "name": "stdout",
     "output_type": "stream",
     "text": [
      "runtime= 0.006699085235595703\n"
     ]
    }
   ],
   "source": [
    "X=df_comments.loc[3,\"comments\"]\n",
    "t=time.time()\n",
    "my_text=re.findall(r\"(?:, 'text':)\\s*(.*?)\\s*(?!\\1)(?:, 'likes')\",X)\n",
    "print('runtime=', time.time()-t)"
   ]
  },
  {
   "cell_type": "code",
   "execution_count": 28,
   "id": "40eace8f",
   "metadata": {},
   "outputs": [
    {
     "data": {
      "text/plain": [
       "116"
      ]
     },
     "execution_count": 28,
     "metadata": {},
     "output_type": "execute_result"
    }
   ],
   "source": [
    "len(my_text)"
   ]
  },
  {
   "cell_type": "code",
   "execution_count": 30,
   "id": "2015521a",
   "metadata": {},
   "outputs": [
    {
     "data": {
      "text/plain": [
       "\"'This is one of those videos I’ll be coming back to. There is a lot of value here. A lot. Thank you. Time for me to step it up'\""
      ]
     },
     "execution_count": 30,
     "metadata": {},
     "output_type": "execute_result"
    }
   ],
   "source": [
    "my_text[0]"
   ]
  },
  {
   "cell_type": "code",
   "execution_count": null,
   "id": "f9ef8830",
   "metadata": {},
   "outputs": [],
   "source": []
  }
 ],
 "metadata": {
  "kernelspec": {
   "display_name": "Python 3 (ipykernel)",
   "language": "python",
   "name": "python3"
  },
  "language_info": {
   "codemirror_mode": {
    "name": "ipython",
    "version": 3
   },
   "file_extension": ".py",
   "mimetype": "text/x-python",
   "name": "python",
   "nbconvert_exporter": "python",
   "pygments_lexer": "ipython3",
   "version": "3.8.13"
  }
 },
 "nbformat": 4,
 "nbformat_minor": 5
}
