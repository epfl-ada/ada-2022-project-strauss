{
 "cells": [
  {
   "cell_type": "code",
   "execution_count": 1,
   "metadata": {},
   "outputs": [
    {
     "name": "stdout",
     "output_type": "stream",
     "text": [
      "split comments is executing ... \n",
      "                                            comments     video_id\n",
      "0  [{'id': 'UggVln6AUMSQxngCoAEC', 'author': 'KEL...  --TAcjFfpkk\n",
      "1  [{'id': 'UgyeCFHejqNn8PPZD5Z4AaABAg', 'author'...  --jx503YPAo\n",
      "                                            comments     video_id\n",
      "0  [{'id': 'UgwEw8ySWqf-2-EAGiV4AaABAg', 'author'...  --7fJVjjWBk\n",
      "1  [{'id': 'UgywoqilLuIrdR2wf1N4AaABAg', 'author'...  --Ei-s29xsg\n"
     ]
    }
   ],
   "source": [
    "import pandas as pd\n",
    "import time\n",
    "import os\n",
    "\n",
    "#has a very very small runing-time, don't think it should be optimized\n",
    "def df_list(X):\n",
    "    new_list_=[] #creates a list with approximately one comment per item\n",
    "    n=0\n",
    "    for i in X.split(\"'id': \"):\n",
    "        if n!=0: #condition to avoid taking the very first i which doesn't have anything important\n",
    "            [_, keep]=i.split(\" 'text': \")\n",
    "            [text, _]=keep.split(\", 'likes'\")\n",
    "            new_list_.append(text)\n",
    "        n+=1\n",
    "    return new_list_\n",
    "\n",
    "print(\"split comments is executing ... \")\n",
    "\n",
    "data_folder = './youtube_radicalization/cm/' # all my data is in one folder \n",
    "df_final = pd.DataFrame()\n",
    "n = 0\n",
    "for file_name in os.listdir(data_folder):\n",
    "    if n>=2: break\n",
    "    path_file = os.path.join(data_folder, file_name)\n",
    "    if os.path.isfile(path_file):\n",
    "        df_comments = pd.read_csv(path_file, compression='gzip').dropna(axis=0)\n",
    "        df_head = df_comments.head(2)\n",
    "        print(df_head)\n",
    "        df_results = pd.DataFrame(df_head[\"comments\"].apply(df_list))\n",
    "        df_results['video_id'] = df_head['video_id']\n",
    "        df_results['channel_id'] = file_name[:-7]\n",
    "        \n",
    "        if n==0:\n",
    "            df_final = df_results\n",
    "        else:\n",
    "            df_final = pd.concat([df_final, df_results])\n",
    "    n+=1\n",
    "\n",
    "df_final.to_csv('out.csv')"
   ]
  },
  {
   "cell_type": "code",
   "execution_count": null,
   "metadata": {},
   "outputs": [],
   "source": [
    "import numpy as np\n",
    "comment = df_final.iloc[0].comments\n",
    "print(comment)\n",
    "print(len(comment))\n",
    "splits = pd.DataFrame(data = comment)\n",
    "print(splits)"
   ]
  },
  {
   "cell_type": "code",
   "execution_count": null,
   "metadata": {},
   "outputs": [],
   "source": [
    "print(\"split comments is executing ... \")\n",
    "\n",
    "data_folder = './youtube_radicalization/cm/' # all my data is in one folder \n",
    "df_final = pd.DataFrame()\n",
    "n = 0\n",
    "for file_name in os.listdir(data_folder):\n",
    "    if n>=1: break\n",
    "    path_file = os.path.join(data_folder, file_name)\n",
    "    if os.path.isfile(path_file):\n",
    "        df_comments = pd.read_csv(path_file, compression='gzip').dropna(axis=0)\n",
    "        df_head = df_comments.head(2)\n",
    "        print(df_head)\n",
    "        comments = df_head[\"comments\"].apply(df_list)\n",
    "        all_comments = [item for sublist in comments for item in sublist]\n",
    "        df_comments = pd.DataFrame(data= all_comments)\n",
    "        df_results = df_comments\n",
    "\n",
    "        df_results['video_id'] = df_head['video_id']\n",
    "        df_results['channel_id'] = file_name[:-7]\n",
    "        \n",
    "        if n==0:\n",
    "            df_final = df_results\n",
    "        else:\n",
    "            df_final = pd.concat([df_final, df_results])\n",
    "    n+=1\n",
    "\n",
    "df_final.to_csv('out.csv')"
   ]
  },
  {
   "cell_type": "code",
   "execution_count": null,
   "metadata": {},
   "outputs": [],
   "source": [
    "df_final"
   ]
  },
  {
   "cell_type": "code",
   "execution_count": null,
   "metadata": {},
   "outputs": [],
   "source": [
    "flat_list = [item for sublist in comments for item in sublist]\n",
    "flat_list"
   ]
  },
  {
   "cell_type": "code",
   "execution_count": null,
   "metadata": {},
   "outputs": [],
   "source": []
  }
 ],
 "metadata": {
  "kernelspec": {
   "display_name": "Python 3.9.13 ('ada')",
   "language": "python",
   "name": "python3"
  },
  "language_info": {
   "codemirror_mode": {
    "name": "ipython",
    "version": 3
   },
   "file_extension": ".py",
   "mimetype": "text/x-python",
   "name": "python",
   "nbconvert_exporter": "python",
   "pygments_lexer": "ipython3",
   "version": "3.9.13"
  },
  "orig_nbformat": 4,
  "vscode": {
   "interpreter": {
    "hash": "21ecc7ece11aab438e76ae7b78798a3b5253dd9ed3bc1f640a921abf4bfc412e"
   }
  }
 },
 "nbformat": 4,
 "nbformat_minor": 2
}
