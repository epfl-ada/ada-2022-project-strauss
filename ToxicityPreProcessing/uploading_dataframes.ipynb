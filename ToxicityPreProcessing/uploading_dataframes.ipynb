{
 "cells": [
  {
   "attachments": {},
   "cell_type": "markdown",
   "id": "dcb14726",
   "metadata": {},
   "source": [
    "# Create the files `df_1.csv` and `df_2.csv`\n",
    "From the private preprocessed source `cm_Bartul`, generates the files `df_1.csv` and `df_2.csv` \n"
   ]
  },
  {
   "cell_type": "code",
   "execution_count": 1,
   "id": "e8fae37d",
   "metadata": {},
   "outputs": [],
   "source": [
    "import pandas as pd\n",
    "import os\n",
    "import pyarrow.feather as feather #all this to load the data from the zip folders\n",
    "from zipfile import ZipFile\n",
    "import time"
   ]
  },
  {
   "cell_type": "code",
   "execution_count": 2,
   "id": "268eab8d",
   "metadata": {},
   "outputs": [],
   "source": [
    "data_folder_cm = '../Data/cm_Bartul/' # all my data is in one folder \n",
    "data_folder='../Data/'\n",
    "path_sources_final='sources_final.csv'"
   ]
  },
  {
   "cell_type": "code",
   "execution_count": 3,
   "id": "f17505b4",
   "metadata": {},
   "outputs": [],
   "source": [
    "df_final=pd.read_csv(data_folder + path_sources_final)"
   ]
  },
  {
   "cell_type": "code",
   "execution_count": 4,
   "id": "87d3e654",
   "metadata": {},
   "outputs": [
    {
     "data": {
      "text/html": [
       "<div>\n",
       "<style scoped>\n",
       "    .dataframe tbody tr th:only-of-type {\n",
       "        vertical-align: middle;\n",
       "    }\n",
       "\n",
       "    .dataframe tbody tr th {\n",
       "        vertical-align: top;\n",
       "    }\n",
       "\n",
       "    .dataframe thead th {\n",
       "        text-align: right;\n",
       "    }\n",
       "</style>\n",
       "<table border=\"1\" class=\"dataframe\">\n",
       "  <thead>\n",
       "    <tr style=\"text-align: right;\">\n",
       "      <th></th>\n",
       "      <th>Name</th>\n",
       "      <th>Category</th>\n",
       "      <th>Data Collection step</th>\n",
       "      <th>Id</th>\n",
       "    </tr>\n",
       "  </thead>\n",
       "  <tbody>\n",
       "    <tr>\n",
       "      <th>0</th>\n",
       "      <td>DailyCallerVideo</td>\n",
       "      <td>Alt-lite</td>\n",
       "      <td>2</td>\n",
       "      <td>UCfDdlNLRVb1h3_7Xh-WhL3w</td>\n",
       "    </tr>\n",
       "    <tr>\n",
       "      <th>1</th>\n",
       "      <td>Liberty Machine News</td>\n",
       "      <td>Alt-lite</td>\n",
       "      <td>2</td>\n",
       "      <td>UCso6oQ3qy7z61Fr8b0WNBMw</td>\n",
       "    </tr>\n",
       "    <tr>\n",
       "      <th>2</th>\n",
       "      <td>AIU-Resurrection</td>\n",
       "      <td>Alt-lite</td>\n",
       "      <td>2</td>\n",
       "      <td>UCplXdu0g94UynzYCmO2zOjw</td>\n",
       "    </tr>\n",
       "    <tr>\n",
       "      <th>3</th>\n",
       "      <td>Tree Of Logic</td>\n",
       "      <td>Alt-lite</td>\n",
       "      <td>2</td>\n",
       "      <td>UCl3RCEtooHD5bhPCHJw3btA</td>\n",
       "    </tr>\n",
       "    <tr>\n",
       "      <th>4</th>\n",
       "      <td>DailyKenn</td>\n",
       "      <td>Alt-lite</td>\n",
       "      <td>2</td>\n",
       "      <td>UCbukZErY9SjdGTHabMzY7qg</td>\n",
       "    </tr>\n",
       "  </tbody>\n",
       "</table>\n",
       "</div>"
      ],
      "text/plain": [
       "                   Name  Category  Data Collection step  \\\n",
       "0      DailyCallerVideo  Alt-lite                     2   \n",
       "1  Liberty Machine News  Alt-lite                     2   \n",
       "2      AIU-Resurrection  Alt-lite                     2   \n",
       "3         Tree Of Logic  Alt-lite                     2   \n",
       "4             DailyKenn  Alt-lite                     2   \n",
       "\n",
       "                         Id  \n",
       "0  UCfDdlNLRVb1h3_7Xh-WhL3w  \n",
       "1  UCso6oQ3qy7z61Fr8b0WNBMw  \n",
       "2  UCplXdu0g94UynzYCmO2zOjw  \n",
       "3  UCl3RCEtooHD5bhPCHJw3btA  \n",
       "4  UCbukZErY9SjdGTHabMzY7qg  "
      ]
     },
     "execution_count": 4,
     "metadata": {},
     "output_type": "execute_result"
    }
   ],
   "source": [
    "df_final.head()"
   ]
  },
  {
   "cell_type": "code",
   "execution_count": 5,
   "id": "30ad8db0",
   "metadata": {},
   "outputs": [
    {
     "name": "stdout",
     "output_type": "stream",
     "text": [
      "channel_ids.txt\n",
      "df_1.csv\n",
      "df_2.csv\n",
      "pagerank_2018_2019.txt\n",
      "pagerank_all.txt\n",
      "rec_base.jsonl\n",
      "sources_1.csv\n",
      "sources_final.csv\n"
     ]
    }
   ],
   "source": [
    "for file_name in os.listdir(data_folder):\n",
    "    print(file_name)"
   ]
  },
  {
   "cell_type": "code",
   "execution_count": 6,
   "id": "54280634",
   "metadata": {},
   "outputs": [],
   "source": [
    "def get_channel(i): #extracting name of the channel from the name of the file\n",
    "    [no_keep, keep]=i.split(\"city/\")\n",
    "    [keep_, no_keep_]=keep.split('_toxi')\n",
    "    return keep_"
   ]
  },
  {
   "cell_type": "code",
   "execution_count": 10,
   "id": "32e43773",
   "metadata": {},
   "outputs": [
    {
     "name": "stdout",
     "output_type": "stream",
     "text": [
      "execution_time: 97.1460440158844\n"
     ]
    }
   ],
   "source": [
    "#doing it for the first zip folder\n",
    "Start=time.time() #takes 234 seconds= less than 4 minutes\n",
    "df_list=[]\n",
    "path_file='../Data/cm_Bartul/toxicity-20221217T170206Z-001.zip'\n",
    "for i in ZipFile(path_file).namelist():\n",
    "    df_1=pd.read_feather(ZipFile(path_file).open(i))\n",
    "    df_1=df_1.groupby(by=['video_map', 'view_count', 'upload_date']).mean()\n",
    "    df_1.reset_index(inplace=True)\n",
    "    channel_id_list=[get_channel(i)]*len(df_1['toxicity'])\n",
    "    df_1['channel_id']=channel_id_list\n",
    "    df_list.append(df_1)\n",
    "    \n",
    "execution_time=time.time()-Start\n",
    "print('execution_time:', execution_time)"
   ]
  },
  {
   "cell_type": "code",
   "execution_count": 11,
   "id": "368f6ed8",
   "metadata": {},
   "outputs": [
    {
     "name": "stdout",
     "output_type": "stream",
     "text": [
      "0.08730602264404297\n"
     ]
    }
   ],
   "source": [
    "Start=time.time() #really fast, that's nice! \n",
    "df=pd.concat(df_list,ignore_index=True)\n",
    "execution=time.time()-Start\n",
    "print(execution)"
   ]
  },
  {
   "cell_type": "code",
   "execution_count": 12,
   "id": "95ea1015",
   "metadata": {},
   "outputs": [],
   "source": [
    "# save the csv \n",
    "df.to_csv('..\\Data\\df_1.csv')"
   ]
  },
  {
   "cell_type": "code",
   "execution_count": 13,
   "id": "0905c415",
   "metadata": {},
   "outputs": [
    {
     "name": "stdout",
     "output_type": "stream",
     "text": [
      "execution_time: 65.02169275283813\n"
     ]
    }
   ],
   "source": [
    "#doing it for the second zip folder\n",
    "Start=time.time() #takes 234 seconds= less than 4 minutes\n",
    "df_list=[]\n",
    "path_file='../Data/cm_Bartul/toxicity-20221217T170206Z-002.zip'\n",
    "for i in ZipFile(path_file).namelist():\n",
    "    df_1=pd.read_feather(ZipFile(path_file).open(i))\n",
    "    df_1=df_1.groupby(by=['video_map', 'view_count', 'upload_date']).mean()\n",
    "    df_1.reset_index(inplace=True)\n",
    "    channel_id_list=[get_channel(i)]*len(df_1['toxicity'])\n",
    "    df_1['channel_id']=channel_id_list\n",
    "    df_list.append(df_1)\n",
    "    \n",
    "execution_time=time.time()-Start\n",
    "print('execution_time:', execution_time)"
   ]
  },
  {
   "cell_type": "code",
   "execution_count": 14,
   "id": "4f514b3d",
   "metadata": {},
   "outputs": [
    {
     "name": "stdout",
     "output_type": "stream",
     "text": [
      "0.013874053955078125\n"
     ]
    }
   ],
   "source": [
    "Start=time.time() #really fast, that's nice! \n",
    "df=pd.concat(df_list,ignore_index=True)\n",
    "execution=time.time()-Start\n",
    "print(execution)"
   ]
  },
  {
   "cell_type": "code",
   "execution_count": 15,
   "id": "a1d90577",
   "metadata": {},
   "outputs": [],
   "source": [
    "#saving as a csv (couldn't save as feather because we have strings)\n",
    "df.to_csv('..\\Data\\df_2.csv')"
   ]
  },
  {
   "cell_type": "code",
   "execution_count": null,
   "id": "e0e4d564",
   "metadata": {},
   "outputs": [],
   "source": [
    "#how to load the csv \n",
    "df_saved=pd.read_csv('..\\Data\\df_1.csv')"
   ]
  }
 ],
 "metadata": {
  "kernelspec": {
   "display_name": "ada",
   "language": "python",
   "name": "python3"
  },
  "language_info": {
   "codemirror_mode": {
    "name": "ipython",
    "version": 3
   },
   "file_extension": ".py",
   "mimetype": "text/x-python",
   "name": "python",
   "nbconvert_exporter": "python",
   "pygments_lexer": "ipython3",
   "version": "3.9.13"
  },
  "vscode": {
   "interpreter": {
    "hash": "21ecc7ece11aab438e76ae7b78798a3b5253dd9ed3bc1f640a921abf4bfc412e"
   }
  }
 },
 "nbformat": 4,
 "nbformat_minor": 5
}
