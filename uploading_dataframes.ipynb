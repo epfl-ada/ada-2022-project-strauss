{
 "cells": [
  {
   "cell_type": "markdown",
   "id": "dcb14726",
   "metadata": {},
   "source": [
    "### To do, add the channel corresponding (in order to do a maping after to find out to which community are they associated)\n",
    "(it's in the name of the file so should be okay to extract)"
   ]
  },
  {
   "cell_type": "code",
   "execution_count": 1,
   "id": "e8fae37d",
   "metadata": {},
   "outputs": [],
   "source": [
    "import pandas as pd\n",
    "import os\n",
    "import pyarrow.feather as feather #all this to load the data from the zip folders\n",
    "from zipfile import ZipFile\n",
    "import time"
   ]
  },
  {
   "cell_type": "code",
   "execution_count": 2,
   "id": "268eab8d",
   "metadata": {},
   "outputs": [],
   "source": [
    "data_folder = './Data/cm/' # all my data is in one folder "
   ]
  },
  {
   "cell_type": "code",
   "execution_count": 34,
   "id": "30ad8db0",
   "metadata": {},
   "outputs": [
    {
     "name": "stdout",
     "output_type": "stream",
     "text": [
      "toxicity-20221214T101008Z-001.zip\n",
      "toxicity-20221214T101008Z-002.zip\n"
     ]
    }
   ],
   "source": [
    "for file_name in os.listdir(data_folder):\n",
    "    print(file_name)"
   ]
  },
  {
   "cell_type": "code",
   "execution_count": 22,
   "id": "54280634",
   "metadata": {},
   "outputs": [],
   "source": [
    "def get_channel(i): #extracting name of the channel from the name of the file\n",
    "    [no_keep, keep]=i.split(\"city/\")\n",
    "    [keep_, no_keep_]=keep.split('_toxi')\n",
    "    return keep_"
   ]
  },
  {
   "cell_type": "code",
   "execution_count": null,
   "id": "32e43773",
   "metadata": {},
   "outputs": [],
   "source": [
    "#doing it for the first zip folder\n",
    "Start=time.time() #takes 234 seconds= less than 4 minutes\n",
    "df_list=[]\n",
    "path_file='./Data/cm/toxicity-20221214T101008Z-001.zip'\n",
    "for i in ZipFile(path_file).namelist():\n",
    "    df_1=pd.read_feather(ZipFile(path_file).open(i))\n",
    "    df_1=df_1.groupby(by=['video_map', 'view_count', 'upload_date']).mean()\n",
    "    df_1.reset_index(inplace=True)\n",
    "    channel_id_list=[get_channel(i)]*len(df_1['toxicity'])\n",
    "    df_1['channel_id']=channel_id_list\n",
    "    df_list.append(df_1)\n",
    "    \n",
    "execution_time=time.time()-Start\n",
    "print('execution_time:', execution_time)"
   ]
  },
  {
   "cell_type": "code",
   "execution_count": null,
   "id": "368f6ed8",
   "metadata": {},
   "outputs": [],
   "source": [
    "Start=time.time() #really fast, that's nice! \n",
    "df=pd.concat(df_list,ignore_index=True)\n",
    "execution=time.time()-Start\n",
    "print(execution)"
   ]
  },
  {
   "cell_type": "code",
   "execution_count": null,
   "id": "95ea1015",
   "metadata": {},
   "outputs": [],
   "source": [
    "#how to load the csv \n",
    "df.to_csv(r'C:\\Users\\HOURS\\Documents\\GitHub\\ada-2022-project-strauss\\Data\\df_1.csv')"
   ]
  },
  {
   "cell_type": "code",
   "execution_count": 35,
   "id": "0905c415",
   "metadata": {},
   "outputs": [
    {
     "name": "stdout",
     "output_type": "stream",
     "text": [
      "0\n",
      "25\n",
      "50\n",
      "75\n",
      "100\n",
      "125\n",
      "150\n",
      "execution_time: 221.37476897239685\n"
     ]
    }
   ],
   "source": [
    "#doing it for the second zip folder\n",
    "Start=time.time() #takes 234 seconds= less than 4 minutes\n",
    "df_list=[]\n",
    "path_file='./Data/cm/toxicity-20221214T101008Z-002.zip'\n",
    "for i in ZipFile(path_file).namelist():\n",
    "    df_1=pd.read_feather(ZipFile(path_file).open(i))\n",
    "    df_1=df_1.groupby(by=['video_map', 'view_count', 'upload_date']).mean()\n",
    "    df_1.reset_index(inplace=True)\n",
    "    channel_id_list=[get_channel(i)]*len(df_1['toxicity'])\n",
    "    df_1['channel_id']=channel_id_list\n",
    "    df_list.append(df_1)\n",
    "    \n",
    "execution_time=time.time()-Start\n",
    "print('execution_time:', execution_time)"
   ]
  },
  {
   "cell_type": "code",
   "execution_count": 36,
   "id": "4f514b3d",
   "metadata": {},
   "outputs": [
    {
     "name": "stdout",
     "output_type": "stream",
     "text": [
      "0.08121204376220703\n"
     ]
    }
   ],
   "source": [
    "Start=time.time() #really fast, that's nice! \n",
    "df=pd.concat(df_list,ignore_index=True)\n",
    "execution=time.time()-Start\n",
    "print(execution)"
   ]
  },
  {
   "cell_type": "code",
   "execution_count": 38,
   "id": "a1d90577",
   "metadata": {},
   "outputs": [],
   "source": [
    "#saving as a csv (couldn't save as feather because we have strings)\n",
    "df.to_csv(r'C:\\Users\\HOURS\\Documents\\GitHub\\ada-2022-project-strauss\\Data\\df_2.csv')"
   ]
  },
  {
   "cell_type": "code",
   "execution_count": 32,
   "id": "e0e4d564",
   "metadata": {},
   "outputs": [],
   "source": [
    "#how to load the csv \n",
    "df_saved=pd.read_csv(r'C:\\Users\\HOURS\\Documents\\GitHub\\ada-2022-project-strauss\\Data\\df_1.csv')"
   ]
  },
  {
   "cell_type": "code",
   "execution_count": null,
   "id": "91efdc8b",
   "metadata": {},
   "outputs": [],
   "source": []
  }
 ],
 "metadata": {
  "kernelspec": {
   "display_name": "Python 3 (ipykernel)",
   "language": "python",
   "name": "python3"
  },
  "language_info": {
   "codemirror_mode": {
    "name": "ipython",
    "version": 3
   },
   "file_extension": ".py",
   "mimetype": "text/x-python",
   "name": "python",
   "nbconvert_exporter": "python",
   "pygments_lexer": "ipython3",
   "version": "3.8.13"
  }
 },
 "nbformat": 4,
 "nbformat_minor": 5
}
