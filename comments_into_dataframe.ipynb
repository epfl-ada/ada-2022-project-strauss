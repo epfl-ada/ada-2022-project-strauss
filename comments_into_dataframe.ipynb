{
 "cells": [
  {
   "cell_type": "markdown",
   "id": "9aa08e28",
   "metadata": {},
   "source": [
    "### TL; DR\n",
    "\n",
    "This notebook tries to turn a comment into a dataframe and then apply detoxify to that dataframe to get our final result"
   ]
  },
  {
   "cell_type": "code",
   "execution_count": null,
   "id": "5090726c",
   "metadata": {},
   "outputs": [],
   "source": [
    "import pandas as pd\n",
    "from detoxify import Detoxify\n",
    "import time"
   ]
  },
  {
   "cell_type": "code",
   "execution_count": null,
   "id": "730c87fe",
   "metadata": {},
   "outputs": [],
   "source": [
    "data_folder = './Data/' # all my data is in one folder \n",
    "path_comments='comments_glipse.csv.gz'"
   ]
  },
  {
   "cell_type": "code",
   "execution_count": null,
   "id": "b555991f",
   "metadata": {},
   "outputs": [],
   "source": [
    "df_comments = pd.read_csv(data_folder + path_comments, compression='gzip') \n",
    "df_comments"
   ]
  },
  {
   "cell_type": "code",
   "execution_count": null,
   "id": "3d760e91",
   "metadata": {},
   "outputs": [],
   "source": [
    "dict_={'id': 'Ugx0iUXL0VOjEbUWkbV4AaABAg', 'author': 'Oliver Quinn', 'authorLink': '/channel/UCRMTnf9wtY-prkq2-X0Ehwg', 'authorThumb': 'https://yt3.ggpht.com/-UYZxBOkq7ok/AAAAAAAAAAI/AAAAAAAAAAA/SdLSYaSl4y8/s48-c-k-c0x00ffffff-no-rj-mo/photo.jpg\\'', 'text': 'Good subject.. relates to everything. Thanks', 'likes': 0, 'time': '1 week ago', 'edited': False, 'timestamp': 1555070326054, 'hasReplies': False}"
   ]
  },
  {
   "cell_type": "code",
   "execution_count": null,
   "id": "e80decc3",
   "metadata": {},
   "outputs": [],
   "source": [
    "tryout=pd.DataFrame([dict_])"
   ]
  },
  {
   "cell_type": "code",
   "execution_count": null,
   "id": "ab62a542",
   "metadata": {},
   "outputs": [],
   "source": []
  },
  {
   "cell_type": "code",
   "execution_count": null,
   "id": "5acef91b",
   "metadata": {},
   "outputs": [],
   "source": []
  },
  {
   "cell_type": "code",
   "execution_count": null,
   "id": "31374149",
   "metadata": {},
   "outputs": [],
   "source": []
  },
  {
   "cell_type": "code",
   "execution_count": null,
   "id": "4c6e6ad7",
   "metadata": {},
   "outputs": [],
   "source": []
  }
 ],
 "metadata": {
  "kernelspec": {
   "display_name": "Python 3 (ipykernel)",
   "language": "python",
   "name": "python3"
  },
  "language_info": {
   "codemirror_mode": {
    "name": "ipython",
    "version": 3
   },
   "file_extension": ".py",
   "mimetype": "text/x-python",
   "name": "python",
   "nbconvert_exporter": "python",
   "pygments_lexer": "ipython3",
   "version": "3.8.13"
  }
 },
 "nbformat": 4,
 "nbformat_minor": 5
}
