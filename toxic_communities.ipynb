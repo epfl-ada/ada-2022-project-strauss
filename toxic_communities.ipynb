{
 "cells": [
  {
   "cell_type": "code",
   "execution_count": 1,
   "id": "8827ee33",
   "metadata": {},
   "outputs": [],
   "source": [
    "import pandas as pd\n",
    "import time"
   ]
  },
  {
   "cell_type": "code",
   "execution_count": 84,
   "id": "db138154",
   "metadata": {},
   "outputs": [],
   "source": [
    "data_folder = './Data/' # all my data is in one folder \n",
    "path_sources_final='sources_final.csv'\n",
    "path_control_grp='sources_1.csv'\n",
    "path_df1='df_1.csv'\n",
    "path_df2='df_2.csv'"
   ]
  },
  {
   "cell_type": "code",
   "execution_count": 85,
   "id": "7218e598",
   "metadata": {},
   "outputs": [],
   "source": [
    "#getting our necessary datasets\n",
    "df_sources_final=pd.read_csv(data_folder + path_sources_final) #maps channel_id to extreme grp corresponding\n",
    "df_1=pd.read_csv(data_folder + path_df1)\n",
    "df_2=pd.read_csv(data_folder + path_df2)"
   ]
  },
  {
   "cell_type": "code",
   "execution_count": 86,
   "id": "aa48473d",
   "metadata": {},
   "outputs": [],
   "source": [
    "#combining the two dataframes from the two folders \n",
    "#(should do it right from the begining? I was afraid it would slow things to have a dataframe so big)\n",
    "df=pd.concat([df_1, df_2],ignore_index=True)"
   ]
  },
  {
   "cell_type": "code",
   "execution_count": 87,
   "id": "8d7d296c",
   "metadata": {},
   "outputs": [
    {
     "name": "stderr",
     "output_type": "stream",
     "text": [
      "C:\\Users\\HOURS\\AppData\\Local\\Temp\\ipykernel_18720\\2487438044.py:3: SettingWithCopyWarning: \n",
      "A value is trying to be set on a copy of a slice from a DataFrame\n",
      "\n",
      "See the caveats in the documentation: https://pandas.pydata.org/pandas-docs/stable/user_guide/indexing.html#returning-a-view-versus-a-copy\n",
      "  df_sources.rename(columns = {'Id':'channel_id'}, inplace = True)\n"
     ]
    }
   ],
   "source": [
    "#extracting only necessary columns\n",
    "df_sources=df_sources_final[[\"Category\", \"Id\"]]\n",
    "df_sources.rename(columns = {'Id':'channel_id'}, inplace = True)"
   ]
  },
  {
   "cell_type": "code",
   "execution_count": 88,
   "id": "39e4786e",
   "metadata": {},
   "outputs": [
    {
     "data": {
      "text/html": [
       "<div>\n",
       "<style scoped>\n",
       "    .dataframe tbody tr th:only-of-type {\n",
       "        vertical-align: middle;\n",
       "    }\n",
       "\n",
       "    .dataframe tbody tr th {\n",
       "        vertical-align: top;\n",
       "    }\n",
       "\n",
       "    .dataframe thead th {\n",
       "        text-align: right;\n",
       "    }\n",
       "</style>\n",
       "<table border=\"1\" class=\"dataframe\">\n",
       "  <thead>\n",
       "    <tr style=\"text-align: right;\">\n",
       "      <th></th>\n",
       "      <th>Category</th>\n",
       "      <th>channel_id</th>\n",
       "    </tr>\n",
       "  </thead>\n",
       "  <tbody>\n",
       "    <tr>\n",
       "      <th>0</th>\n",
       "      <td>Alt-lite</td>\n",
       "      <td>UCfDdlNLRVb1h3_7Xh-WhL3w</td>\n",
       "    </tr>\n",
       "    <tr>\n",
       "      <th>1</th>\n",
       "      <td>Alt-lite</td>\n",
       "      <td>UCso6oQ3qy7z61Fr8b0WNBMw</td>\n",
       "    </tr>\n",
       "    <tr>\n",
       "      <th>2</th>\n",
       "      <td>Alt-lite</td>\n",
       "      <td>UCplXdu0g94UynzYCmO2zOjw</td>\n",
       "    </tr>\n",
       "    <tr>\n",
       "      <th>3</th>\n",
       "      <td>Alt-lite</td>\n",
       "      <td>UCl3RCEtooHD5bhPCHJw3btA</td>\n",
       "    </tr>\n",
       "    <tr>\n",
       "      <th>4</th>\n",
       "      <td>Alt-lite</td>\n",
       "      <td>UCbukZErY9SjdGTHabMzY7qg</td>\n",
       "    </tr>\n",
       "  </tbody>\n",
       "</table>\n",
       "</div>"
      ],
      "text/plain": [
       "   Category                channel_id\n",
       "0  Alt-lite  UCfDdlNLRVb1h3_7Xh-WhL3w\n",
       "1  Alt-lite  UCso6oQ3qy7z61Fr8b0WNBMw\n",
       "2  Alt-lite  UCplXdu0g94UynzYCmO2zOjw\n",
       "3  Alt-lite  UCl3RCEtooHD5bhPCHJw3btA\n",
       "4  Alt-lite  UCbukZErY9SjdGTHabMzY7qg"
      ]
     },
     "execution_count": 88,
     "metadata": {},
     "output_type": "execute_result"
    }
   ],
   "source": [
    "#checking if there are channels from media in df_sources_final\n",
    "df_sources.head()"
   ]
  },
  {
   "cell_type": "code",
   "execution_count": 89,
   "id": "345269b7",
   "metadata": {},
   "outputs": [
    {
     "data": {
      "text/plain": [
       "True"
      ]
     },
     "execution_count": 89,
     "metadata": {},
     "output_type": "execute_result"
    }
   ],
   "source": [
    "'vox' in df_sources_final.Name.values"
   ]
  },
  {
   "cell_type": "code",
   "execution_count": 90,
   "id": "21fa36ce",
   "metadata": {},
   "outputs": [
    {
     "data": {
      "text/html": [
       "<div>\n",
       "<style scoped>\n",
       "    .dataframe tbody tr th:only-of-type {\n",
       "        vertical-align: middle;\n",
       "    }\n",
       "\n",
       "    .dataframe tbody tr th {\n",
       "        vertical-align: top;\n",
       "    }\n",
       "\n",
       "    .dataframe thead th {\n",
       "        text-align: right;\n",
       "    }\n",
       "</style>\n",
       "<table border=\"1\" class=\"dataframe\">\n",
       "  <thead>\n",
       "    <tr style=\"text-align: right;\">\n",
       "      <th></th>\n",
       "      <th>Name</th>\n",
       "      <th>Category</th>\n",
       "      <th>Data Collection step</th>\n",
       "      <th>Id</th>\n",
       "    </tr>\n",
       "  </thead>\n",
       "  <tbody>\n",
       "    <tr>\n",
       "      <th>624</th>\n",
       "      <td>vox</td>\n",
       "      <td>left</td>\n",
       "      <td>0</td>\n",
       "      <td>UCLXo7UDZvByw2ixzpQCufnA</td>\n",
       "    </tr>\n",
       "  </tbody>\n",
       "</table>\n",
       "</div>"
      ],
      "text/plain": [
       "    Name Category  Data Collection step                        Id\n",
       "624  vox     left                     0  UCLXo7UDZvByw2ixzpQCufnA"
      ]
     },
     "execution_count": 90,
     "metadata": {},
     "output_type": "execute_result"
    }
   ],
   "source": [
    "df_sources_final[df_sources_final[\"Name\"]=='vox']"
   ]
  },
  {
   "cell_type": "code",
   "execution_count": 91,
   "id": "6e908284",
   "metadata": {},
   "outputs": [
    {
     "data": {
      "text/html": [
       "<div>\n",
       "<style scoped>\n",
       "    .dataframe tbody tr th:only-of-type {\n",
       "        vertical-align: middle;\n",
       "    }\n",
       "\n",
       "    .dataframe tbody tr th {\n",
       "        vertical-align: top;\n",
       "    }\n",
       "\n",
       "    .dataframe thead th {\n",
       "        text-align: right;\n",
       "    }\n",
       "</style>\n",
       "<table border=\"1\" class=\"dataframe\">\n",
       "  <thead>\n",
       "    <tr style=\"text-align: right;\">\n",
       "      <th></th>\n",
       "      <th>Category</th>\n",
       "      <th>channel_id</th>\n",
       "    </tr>\n",
       "  </thead>\n",
       "  <tbody>\n",
       "    <tr>\n",
       "      <th>0</th>\n",
       "      <td>Alt-lite</td>\n",
       "      <td>UCfDdlNLRVb1h3_7Xh-WhL3w</td>\n",
       "    </tr>\n",
       "    <tr>\n",
       "      <th>1</th>\n",
       "      <td>Alt-lite</td>\n",
       "      <td>UCso6oQ3qy7z61Fr8b0WNBMw</td>\n",
       "    </tr>\n",
       "    <tr>\n",
       "      <th>2</th>\n",
       "      <td>Alt-lite</td>\n",
       "      <td>UCplXdu0g94UynzYCmO2zOjw</td>\n",
       "    </tr>\n",
       "    <tr>\n",
       "      <th>3</th>\n",
       "      <td>Alt-lite</td>\n",
       "      <td>UCl3RCEtooHD5bhPCHJw3btA</td>\n",
       "    </tr>\n",
       "    <tr>\n",
       "      <th>4</th>\n",
       "      <td>Alt-lite</td>\n",
       "      <td>UCbukZErY9SjdGTHabMzY7qg</td>\n",
       "    </tr>\n",
       "  </tbody>\n",
       "</table>\n",
       "</div>"
      ],
      "text/plain": [
       "   Category                channel_id\n",
       "0  Alt-lite  UCfDdlNLRVb1h3_7Xh-WhL3w\n",
       "1  Alt-lite  UCso6oQ3qy7z61Fr8b0WNBMw\n",
       "2  Alt-lite  UCplXdu0g94UynzYCmO2zOjw\n",
       "3  Alt-lite  UCl3RCEtooHD5bhPCHJw3btA\n",
       "4  Alt-lite  UCbukZErY9SjdGTHabMzY7qg"
      ]
     },
     "execution_count": 91,
     "metadata": {},
     "output_type": "execute_result"
    }
   ],
   "source": [
    "df_sources.head()"
   ]
  },
  {
   "cell_type": "code",
   "execution_count": 92,
   "id": "8a642718",
   "metadata": {},
   "outputs": [
    {
     "name": "stdout",
     "output_type": "stream",
     "text": [
      "there are 0 Nan values\n"
     ]
    }
   ],
   "source": [
    "#checking for NaN values\n",
    "print(\"there are\", len(df_sources[df_sources.isnull().any(axis=1)]), \"Nan values\")"
   ]
  },
  {
   "cell_type": "code",
   "execution_count": 93,
   "id": "6484af30",
   "metadata": {},
   "outputs": [
    {
     "data": {
      "text/html": [
       "<div>\n",
       "<style scoped>\n",
       "    .dataframe tbody tr th:only-of-type {\n",
       "        vertical-align: middle;\n",
       "    }\n",
       "\n",
       "    .dataframe tbody tr th {\n",
       "        vertical-align: top;\n",
       "    }\n",
       "\n",
       "    .dataframe thead th {\n",
       "        text-align: right;\n",
       "    }\n",
       "</style>\n",
       "<table border=\"1\" class=\"dataframe\">\n",
       "  <thead>\n",
       "    <tr style=\"text-align: right;\">\n",
       "      <th></th>\n",
       "      <th>Unnamed: 0</th>\n",
       "      <th>video_map</th>\n",
       "      <th>view_count</th>\n",
       "      <th>upload_date</th>\n",
       "      <th>toxicity</th>\n",
       "      <th>severe_toxicity</th>\n",
       "      <th>obscene</th>\n",
       "      <th>identity_attack</th>\n",
       "      <th>insult</th>\n",
       "      <th>threat</th>\n",
       "      <th>sexual_explicit</th>\n",
       "      <th>channel_id</th>\n",
       "    </tr>\n",
       "  </thead>\n",
       "  <tbody>\n",
       "    <tr>\n",
       "      <th>0</th>\n",
       "      <td>0</td>\n",
       "      <td>0</td>\n",
       "      <td>977.0</td>\n",
       "      <td>20170920</td>\n",
       "      <td>0.136365</td>\n",
       "      <td>0.001002</td>\n",
       "      <td>0.051841</td>\n",
       "      <td>0.006676</td>\n",
       "      <td>0.056322</td>\n",
       "      <td>0.000422</td>\n",
       "      <td>0.072277</td>\n",
       "      <td>UC_7Bt0vnvdJqAwF8Ow8iT0g</td>\n",
       "    </tr>\n",
       "    <tr>\n",
       "      <th>1</th>\n",
       "      <td>1</td>\n",
       "      <td>1</td>\n",
       "      <td>408.0</td>\n",
       "      <td>20170905</td>\n",
       "      <td>0.014895</td>\n",
       "      <td>0.000007</td>\n",
       "      <td>0.000330</td>\n",
       "      <td>0.000946</td>\n",
       "      <td>0.000885</td>\n",
       "      <td>0.002700</td>\n",
       "      <td>0.000118</td>\n",
       "      <td>UC_7Bt0vnvdJqAwF8Ow8iT0g</td>\n",
       "    </tr>\n",
       "    <tr>\n",
       "      <th>2</th>\n",
       "      <td>2</td>\n",
       "      <td>2</td>\n",
       "      <td>523.0</td>\n",
       "      <td>20170828</td>\n",
       "      <td>0.034177</td>\n",
       "      <td>0.000006</td>\n",
       "      <td>0.000391</td>\n",
       "      <td>0.000210</td>\n",
       "      <td>0.017617</td>\n",
       "      <td>0.000103</td>\n",
       "      <td>0.000400</td>\n",
       "      <td>UC_7Bt0vnvdJqAwF8Ow8iT0g</td>\n",
       "    </tr>\n",
       "    <tr>\n",
       "      <th>3</th>\n",
       "      <td>3</td>\n",
       "      <td>3</td>\n",
       "      <td>1446.0</td>\n",
       "      <td>20170628</td>\n",
       "      <td>0.073253</td>\n",
       "      <td>0.000177</td>\n",
       "      <td>0.039672</td>\n",
       "      <td>0.005961</td>\n",
       "      <td>0.020233</td>\n",
       "      <td>0.002046</td>\n",
       "      <td>0.000521</td>\n",
       "      <td>UC_7Bt0vnvdJqAwF8Ow8iT0g</td>\n",
       "    </tr>\n",
       "    <tr>\n",
       "      <th>4</th>\n",
       "      <td>4</td>\n",
       "      <td>4</td>\n",
       "      <td>1859.0</td>\n",
       "      <td>20170531</td>\n",
       "      <td>0.108773</td>\n",
       "      <td>0.008326</td>\n",
       "      <td>0.049040</td>\n",
       "      <td>0.025089</td>\n",
       "      <td>0.033552</td>\n",
       "      <td>0.019227</td>\n",
       "      <td>0.009504</td>\n",
       "      <td>UC_7Bt0vnvdJqAwF8Ow8iT0g</td>\n",
       "    </tr>\n",
       "  </tbody>\n",
       "</table>\n",
       "</div>"
      ],
      "text/plain": [
       "   Unnamed: 0  video_map  view_count  upload_date  toxicity  severe_toxicity  \\\n",
       "0           0          0       977.0     20170920  0.136365         0.001002   \n",
       "1           1          1       408.0     20170905  0.014895         0.000007   \n",
       "2           2          2       523.0     20170828  0.034177         0.000006   \n",
       "3           3          3      1446.0     20170628  0.073253         0.000177   \n",
       "4           4          4      1859.0     20170531  0.108773         0.008326   \n",
       "\n",
       "    obscene  identity_attack    insult    threat  sexual_explicit  \\\n",
       "0  0.051841         0.006676  0.056322  0.000422         0.072277   \n",
       "1  0.000330         0.000946  0.000885  0.002700         0.000118   \n",
       "2  0.000391         0.000210  0.017617  0.000103         0.000400   \n",
       "3  0.039672         0.005961  0.020233  0.002046         0.000521   \n",
       "4  0.049040         0.025089  0.033552  0.019227         0.009504   \n",
       "\n",
       "                 channel_id  \n",
       "0  UC_7Bt0vnvdJqAwF8Ow8iT0g  \n",
       "1  UC_7Bt0vnvdJqAwF8Ow8iT0g  \n",
       "2  UC_7Bt0vnvdJqAwF8Ow8iT0g  \n",
       "3  UC_7Bt0vnvdJqAwF8Ow8iT0g  \n",
       "4  UC_7Bt0vnvdJqAwF8Ow8iT0g  "
      ]
     },
     "execution_count": 93,
     "metadata": {},
     "output_type": "execute_result"
    }
   ],
   "source": [
    "df.head()"
   ]
  },
  {
   "cell_type": "code",
   "execution_count": 94,
   "id": "048732d9",
   "metadata": {},
   "outputs": [
    {
     "name": "stdout",
     "output_type": "stream",
     "text": [
      "there are 0 Nan values\n"
     ]
    }
   ],
   "source": [
    "#checking for NaN values\n",
    "print(\"there are\", len(df[df.isnull().any(axis=1)]), \"Nan values\")"
   ]
  },
  {
   "cell_type": "code",
   "execution_count": 95,
   "id": "71d641e9",
   "metadata": {},
   "outputs": [
    {
     "name": "stdout",
     "output_type": "stream",
     "text": [
      "697 676\n"
     ]
    }
   ],
   "source": [
    "#checking if nb of channels in df_1 is the same as in df_sources\n",
    "print(len(pd.unique(df['channel_id'])), len(pd.unique(df_sources['channel_id'])))"
   ]
  },
  {
   "cell_type": "code",
   "execution_count": 96,
   "id": "138dfd42",
   "metadata": {},
   "outputs": [],
   "source": [
    "#we have more channels in df than in df_sources but the difference is small"
   ]
  },
  {
   "cell_type": "code",
   "execution_count": 97,
   "id": "d5f59de4",
   "metadata": {},
   "outputs": [],
   "source": [
    "df_final=df.merge(df_sources, how='left', on='channel_id')"
   ]
  },
  {
   "cell_type": "code",
   "execution_count": 98,
   "id": "f857eb3b",
   "metadata": {},
   "outputs": [
    {
     "data": {
      "text/html": [
       "<div>\n",
       "<style scoped>\n",
       "    .dataframe tbody tr th:only-of-type {\n",
       "        vertical-align: middle;\n",
       "    }\n",
       "\n",
       "    .dataframe tbody tr th {\n",
       "        vertical-align: top;\n",
       "    }\n",
       "\n",
       "    .dataframe thead th {\n",
       "        text-align: right;\n",
       "    }\n",
       "</style>\n",
       "<table border=\"1\" class=\"dataframe\">\n",
       "  <thead>\n",
       "    <tr style=\"text-align: right;\">\n",
       "      <th></th>\n",
       "      <th>Unnamed: 0</th>\n",
       "      <th>video_map</th>\n",
       "      <th>view_count</th>\n",
       "      <th>upload_date</th>\n",
       "      <th>toxicity</th>\n",
       "      <th>severe_toxicity</th>\n",
       "      <th>obscene</th>\n",
       "      <th>identity_attack</th>\n",
       "      <th>insult</th>\n",
       "      <th>threat</th>\n",
       "      <th>sexual_explicit</th>\n",
       "      <th>channel_id</th>\n",
       "      <th>Category</th>\n",
       "    </tr>\n",
       "  </thead>\n",
       "  <tbody>\n",
       "    <tr>\n",
       "      <th>0</th>\n",
       "      <td>0</td>\n",
       "      <td>0</td>\n",
       "      <td>977.0</td>\n",
       "      <td>20170920</td>\n",
       "      <td>0.136365</td>\n",
       "      <td>0.001002</td>\n",
       "      <td>0.051841</td>\n",
       "      <td>0.006676</td>\n",
       "      <td>0.056322</td>\n",
       "      <td>0.000422</td>\n",
       "      <td>0.072277</td>\n",
       "      <td>UC_7Bt0vnvdJqAwF8Ow8iT0g</td>\n",
       "      <td>MRA</td>\n",
       "    </tr>\n",
       "    <tr>\n",
       "      <th>1</th>\n",
       "      <td>1</td>\n",
       "      <td>1</td>\n",
       "      <td>408.0</td>\n",
       "      <td>20170905</td>\n",
       "      <td>0.014895</td>\n",
       "      <td>0.000007</td>\n",
       "      <td>0.000330</td>\n",
       "      <td>0.000946</td>\n",
       "      <td>0.000885</td>\n",
       "      <td>0.002700</td>\n",
       "      <td>0.000118</td>\n",
       "      <td>UC_7Bt0vnvdJqAwF8Ow8iT0g</td>\n",
       "      <td>MRA</td>\n",
       "    </tr>\n",
       "    <tr>\n",
       "      <th>2</th>\n",
       "      <td>2</td>\n",
       "      <td>2</td>\n",
       "      <td>523.0</td>\n",
       "      <td>20170828</td>\n",
       "      <td>0.034177</td>\n",
       "      <td>0.000006</td>\n",
       "      <td>0.000391</td>\n",
       "      <td>0.000210</td>\n",
       "      <td>0.017617</td>\n",
       "      <td>0.000103</td>\n",
       "      <td>0.000400</td>\n",
       "      <td>UC_7Bt0vnvdJqAwF8Ow8iT0g</td>\n",
       "      <td>MRA</td>\n",
       "    </tr>\n",
       "    <tr>\n",
       "      <th>3</th>\n",
       "      <td>3</td>\n",
       "      <td>3</td>\n",
       "      <td>1446.0</td>\n",
       "      <td>20170628</td>\n",
       "      <td>0.073253</td>\n",
       "      <td>0.000177</td>\n",
       "      <td>0.039672</td>\n",
       "      <td>0.005961</td>\n",
       "      <td>0.020233</td>\n",
       "      <td>0.002046</td>\n",
       "      <td>0.000521</td>\n",
       "      <td>UC_7Bt0vnvdJqAwF8Ow8iT0g</td>\n",
       "      <td>MRA</td>\n",
       "    </tr>\n",
       "    <tr>\n",
       "      <th>4</th>\n",
       "      <td>4</td>\n",
       "      <td>4</td>\n",
       "      <td>1859.0</td>\n",
       "      <td>20170531</td>\n",
       "      <td>0.108773</td>\n",
       "      <td>0.008326</td>\n",
       "      <td>0.049040</td>\n",
       "      <td>0.025089</td>\n",
       "      <td>0.033552</td>\n",
       "      <td>0.019227</td>\n",
       "      <td>0.009504</td>\n",
       "      <td>UC_7Bt0vnvdJqAwF8Ow8iT0g</td>\n",
       "      <td>MRA</td>\n",
       "    </tr>\n",
       "    <tr>\n",
       "      <th>...</th>\n",
       "      <td>...</td>\n",
       "      <td>...</td>\n",
       "      <td>...</td>\n",
       "      <td>...</td>\n",
       "      <td>...</td>\n",
       "      <td>...</td>\n",
       "      <td>...</td>\n",
       "      <td>...</td>\n",
       "      <td>...</td>\n",
       "      <td>...</td>\n",
       "      <td>...</td>\n",
       "      <td>...</td>\n",
       "      <td>...</td>\n",
       "    </tr>\n",
       "    <tr>\n",
       "      <th>518458</th>\n",
       "      <td>150459</td>\n",
       "      <td>798</td>\n",
       "      <td>56069.0</td>\n",
       "      <td>20170127</td>\n",
       "      <td>0.327090</td>\n",
       "      <td>0.013587</td>\n",
       "      <td>0.205679</td>\n",
       "      <td>0.050272</td>\n",
       "      <td>0.182447</td>\n",
       "      <td>0.001762</td>\n",
       "      <td>0.053731</td>\n",
       "      <td>UC0aVoboXBUx2-tVIWHc3W2Q</td>\n",
       "      <td>Alt-lite</td>\n",
       "    </tr>\n",
       "    <tr>\n",
       "      <th>518459</th>\n",
       "      <td>150460</td>\n",
       "      <td>799</td>\n",
       "      <td>154838.0</td>\n",
       "      <td>20161018</td>\n",
       "      <td>0.209794</td>\n",
       "      <td>0.007211</td>\n",
       "      <td>0.134747</td>\n",
       "      <td>0.027038</td>\n",
       "      <td>0.094364</td>\n",
       "      <td>0.010686</td>\n",
       "      <td>0.024407</td>\n",
       "      <td>UC0aVoboXBUx2-tVIWHc3W2Q</td>\n",
       "      <td>Alt-lite</td>\n",
       "    </tr>\n",
       "    <tr>\n",
       "      <th>518460</th>\n",
       "      <td>150461</td>\n",
       "      <td>800</td>\n",
       "      <td>30093.0</td>\n",
       "      <td>20180326</td>\n",
       "      <td>0.237014</td>\n",
       "      <td>0.004566</td>\n",
       "      <td>0.083292</td>\n",
       "      <td>0.062911</td>\n",
       "      <td>0.147315</td>\n",
       "      <td>0.001810</td>\n",
       "      <td>0.019613</td>\n",
       "      <td>UC0aVoboXBUx2-tVIWHc3W2Q</td>\n",
       "      <td>Alt-lite</td>\n",
       "    </tr>\n",
       "    <tr>\n",
       "      <th>518461</th>\n",
       "      <td>150462</td>\n",
       "      <td>801</td>\n",
       "      <td>93406.0</td>\n",
       "      <td>20171219</td>\n",
       "      <td>0.309945</td>\n",
       "      <td>0.009368</td>\n",
       "      <td>0.155549</td>\n",
       "      <td>0.086939</td>\n",
       "      <td>0.165149</td>\n",
       "      <td>0.011248</td>\n",
       "      <td>0.023771</td>\n",
       "      <td>UC0aVoboXBUx2-tVIWHc3W2Q</td>\n",
       "      <td>Alt-lite</td>\n",
       "    </tr>\n",
       "    <tr>\n",
       "      <th>518462</th>\n",
       "      <td>150463</td>\n",
       "      <td>802</td>\n",
       "      <td>136713.0</td>\n",
       "      <td>20171012</td>\n",
       "      <td>0.222783</td>\n",
       "      <td>0.007256</td>\n",
       "      <td>0.102101</td>\n",
       "      <td>0.039300</td>\n",
       "      <td>0.123024</td>\n",
       "      <td>0.010856</td>\n",
       "      <td>0.036459</td>\n",
       "      <td>UC0aVoboXBUx2-tVIWHc3W2Q</td>\n",
       "      <td>Alt-lite</td>\n",
       "    </tr>\n",
       "  </tbody>\n",
       "</table>\n",
       "<p>518463 rows × 13 columns</p>\n",
       "</div>"
      ],
      "text/plain": [
       "        Unnamed: 0  video_map  view_count  upload_date  toxicity  \\\n",
       "0                0          0       977.0     20170920  0.136365   \n",
       "1                1          1       408.0     20170905  0.014895   \n",
       "2                2          2       523.0     20170828  0.034177   \n",
       "3                3          3      1446.0     20170628  0.073253   \n",
       "4                4          4      1859.0     20170531  0.108773   \n",
       "...            ...        ...         ...          ...       ...   \n",
       "518458      150459        798     56069.0     20170127  0.327090   \n",
       "518459      150460        799    154838.0     20161018  0.209794   \n",
       "518460      150461        800     30093.0     20180326  0.237014   \n",
       "518461      150462        801     93406.0     20171219  0.309945   \n",
       "518462      150463        802    136713.0     20171012  0.222783   \n",
       "\n",
       "        severe_toxicity   obscene  identity_attack    insult    threat  \\\n",
       "0              0.001002  0.051841         0.006676  0.056322  0.000422   \n",
       "1              0.000007  0.000330         0.000946  0.000885  0.002700   \n",
       "2              0.000006  0.000391         0.000210  0.017617  0.000103   \n",
       "3              0.000177  0.039672         0.005961  0.020233  0.002046   \n",
       "4              0.008326  0.049040         0.025089  0.033552  0.019227   \n",
       "...                 ...       ...              ...       ...       ...   \n",
       "518458         0.013587  0.205679         0.050272  0.182447  0.001762   \n",
       "518459         0.007211  0.134747         0.027038  0.094364  0.010686   \n",
       "518460         0.004566  0.083292         0.062911  0.147315  0.001810   \n",
       "518461         0.009368  0.155549         0.086939  0.165149  0.011248   \n",
       "518462         0.007256  0.102101         0.039300  0.123024  0.010856   \n",
       "\n",
       "        sexual_explicit                channel_id  Category  \n",
       "0              0.072277  UC_7Bt0vnvdJqAwF8Ow8iT0g       MRA  \n",
       "1              0.000118  UC_7Bt0vnvdJqAwF8Ow8iT0g       MRA  \n",
       "2              0.000400  UC_7Bt0vnvdJqAwF8Ow8iT0g       MRA  \n",
       "3              0.000521  UC_7Bt0vnvdJqAwF8Ow8iT0g       MRA  \n",
       "4              0.009504  UC_7Bt0vnvdJqAwF8Ow8iT0g       MRA  \n",
       "...                 ...                       ...       ...  \n",
       "518458         0.053731  UC0aVoboXBUx2-tVIWHc3W2Q  Alt-lite  \n",
       "518459         0.024407  UC0aVoboXBUx2-tVIWHc3W2Q  Alt-lite  \n",
       "518460         0.019613  UC0aVoboXBUx2-tVIWHc3W2Q  Alt-lite  \n",
       "518461         0.023771  UC0aVoboXBUx2-tVIWHc3W2Q  Alt-lite  \n",
       "518462         0.036459  UC0aVoboXBUx2-tVIWHc3W2Q  Alt-lite  \n",
       "\n",
       "[518463 rows x 13 columns]"
      ]
     },
     "execution_count": 98,
     "metadata": {},
     "output_type": "execute_result"
    }
   ],
   "source": [
    "df_final"
   ]
  },
  {
   "cell_type": "code",
   "execution_count": 105,
   "id": "5b1f6fe3",
   "metadata": {},
   "outputs": [],
   "source": [
    "#overwriting the category for the channels belonging to the control group\n",
    "df_control_=pd.read_csv(data_folder + path_control_grp) #maps channel_id to extreme grp corresponding"
   ]
  },
  {
   "cell_type": "code",
   "execution_count": 106,
   "id": "232c3214",
   "metadata": {},
   "outputs": [],
   "source": [
    "#list of channels belonging to control grp\n",
    "list_control_=(df_control_[df_control_[\"Data Collection step\"]=='control'].Id).tolist()"
   ]
  },
  {
   "cell_type": "code",
   "execution_count": 107,
   "id": "53e7f847",
   "metadata": {},
   "outputs": [],
   "source": [
    "df_final[df_final[\"channel_id\"].isin(list_control)] = 'control'"
   ]
  },
  {
   "cell_type": "code",
   "execution_count": 108,
   "id": "21833cdc",
   "metadata": {},
   "outputs": [
    {
     "name": "stdout",
     "output_type": "stream",
     "text": [
      "there are 1998 Nan values which corresponds to 0.3853698335271755 % of the dataframe\n"
     ]
    }
   ],
   "source": [
    "#checking for NaN values\n",
    "nb_Nan=len(df_final[df_final.isnull().any(axis=1)])\n",
    "print(\"there are\", nb_Nan, \"Nan values which corresponds to\", nb_Nan*100/len(df_final), \"% of the dataframe\")"
   ]
  },
  {
   "cell_type": "code",
   "execution_count": 110,
   "id": "446e8d91",
   "metadata": {},
   "outputs": [],
   "source": [
    "#very little Nan values, we won't be using channels where the category is Nan (unknown)"
   ]
  },
  {
   "cell_type": "code",
   "execution_count": 109,
   "id": "275decb5",
   "metadata": {},
   "outputs": [
    {
     "data": {
      "text/plain": [
       "control                  332815\n",
       "Alt-lite                  63667\n",
       "Intellectual Dark Web     34252\n",
       "PUA                       27508\n",
       "MGTOW                     19932\n",
       "NONE                      14793\n",
       "Alt-right                 14208\n",
       "MRA                        5613\n",
       "Incel                      3468\n",
       "PUA                         209\n",
       "Name: Category, dtype: int64"
      ]
     },
     "execution_count": 109,
     "metadata": {},
     "output_type": "execute_result"
    }
   ],
   "source": [
    "#Notice None means \"not associated to anything\" and not \"Nan\" \n",
    "df_final.Category.value_counts()"
   ]
  },
  {
   "cell_type": "code",
   "execution_count": 60,
   "id": "745b4be2",
   "metadata": {},
   "outputs": [],
   "source": [
    "#MGTOW men going their own way, anti feminist misogynistic politic group\n",
    "\n",
    "#MRA men's rights activist (again anti feminist)\n",
    "\n",
    "#Incel a member of an online community of young men who consider themselves unable to attract women sexually, \n",
    "#typically associated with views that are hostile towards women and men who are sexually active:\n",
    "\n",
    "#Pick up : online community sharing tips on how to pick up women"
   ]
  },
  {
   "cell_type": "markdown",
   "id": "c0b67c52",
   "metadata": {},
   "source": [
    "### Let's start our analysis"
   ]
  },
  {
   "cell_type": "markdown",
   "id": "65dafe2d",
   "metadata": {},
   "source": [
    "Now that we have our dataframe and all the values we want we can start our analysis. \n",
    "We're keeping only Alt-lite, Alt-right, Intellectual Dark Web channels and control channels. "
   ]
  },
  {
   "cell_type": "code",
   "execution_count": 121,
   "id": "4a3f94b6",
   "metadata": {},
   "outputs": [],
   "source": [
    "#several questions, should I divide into many sub-dataFrames? Not? Should definitely plot boxplot to compare them. \n",
    "#Check distribution also with histogram? "
   ]
  },
  {
   "cell_type": "code",
   "execution_count": 125,
   "id": "1fd5d23a",
   "metadata": {},
   "outputs": [
    {
     "ename": "KeyError",
     "evalue": "\"['video_map', 'view_count', 'upload_date', 'channel_id', 'Category'] not found in axis\"",
     "output_type": "error",
     "traceback": [
      "\u001b[1;31m---------------------------------------------------------------------------\u001b[0m",
      "\u001b[1;31mKeyError\u001b[0m                                  Traceback (most recent call last)",
      "Input \u001b[1;32mIn [125]\u001b[0m, in \u001b[0;36m<cell line: 3>\u001b[1;34m()\u001b[0m\n\u001b[0;32m      1\u001b[0m \u001b[38;5;66;03m#for simplicity/clearness of the code we create 4 dataframes corresponding to Alt-lite, Alt-right, \u001b[39;00m\n\u001b[0;32m      2\u001b[0m \u001b[38;5;66;03m#Intellectual Dark Web channels and control channels.\u001b[39;00m\n\u001b[1;32m----> 3\u001b[0m df_alt_lite\u001b[38;5;241m=\u001b[39m\u001b[43mdf_final\u001b[49m\u001b[43m[\u001b[49m\u001b[43mdf_final\u001b[49m\u001b[43m[\u001b[49m\u001b[38;5;124;43m'\u001b[39;49m\u001b[38;5;124;43mCategory\u001b[39;49m\u001b[38;5;124;43m'\u001b[39;49m\u001b[43m]\u001b[49m\u001b[38;5;241;43m==\u001b[39;49m\u001b[38;5;124;43m'\u001b[39;49m\u001b[38;5;124;43mAlt-lite\u001b[39;49m\u001b[38;5;124;43m'\u001b[39;49m\u001b[43m]\u001b[49m\u001b[38;5;241;43m.\u001b[39;49m\u001b[43mdrop\u001b[49m\u001b[43m(\u001b[49m\u001b[43m[\u001b[49m\u001b[38;5;124;43m'\u001b[39;49m\u001b[38;5;124;43mvideo_map\u001b[39;49m\u001b[38;5;124;43m'\u001b[39;49m\u001b[43m,\u001b[49m\u001b[43m \u001b[49m\u001b[38;5;124;43m'\u001b[39;49m\u001b[38;5;124;43mview_count\u001b[39;49m\u001b[38;5;124;43m'\u001b[39;49m\u001b[43m,\u001b[49m\u001b[43m \u001b[49m\u001b[38;5;124;43m'\u001b[39;49m\u001b[38;5;124;43mupload_date\u001b[39;49m\u001b[38;5;124;43m'\u001b[39;49m\u001b[43m,\u001b[49m\u001b[43m \u001b[49m\u001b[38;5;124;43m'\u001b[39;49m\u001b[38;5;124;43mchannel_id\u001b[39;49m\u001b[38;5;124;43m'\u001b[39;49m\u001b[43m,\u001b[49m\u001b[43m \u001b[49m\u001b[38;5;124;43m'\u001b[39;49m\u001b[38;5;124;43mCategory\u001b[39;49m\u001b[38;5;124;43m'\u001b[39;49m\u001b[43m]\u001b[49m\u001b[43m)\u001b[49m\n\u001b[0;32m      4\u001b[0m df_alt_right\u001b[38;5;241m=\u001b[39mdf_final[df_final[\u001b[38;5;124m'\u001b[39m\u001b[38;5;124mCategory\u001b[39m\u001b[38;5;124m'\u001b[39m]\u001b[38;5;241m==\u001b[39m\u001b[38;5;124m'\u001b[39m\u001b[38;5;124mAlt-right\u001b[39m\u001b[38;5;124m'\u001b[39m]\n\u001b[0;32m      5\u001b[0m df_idw\u001b[38;5;241m=\u001b[39mdf_final[df_final[\u001b[38;5;124m'\u001b[39m\u001b[38;5;124mCategory\u001b[39m\u001b[38;5;124m'\u001b[39m]\u001b[38;5;241m==\u001b[39m\u001b[38;5;124m'\u001b[39m\u001b[38;5;124mIntellectual Dark Web\u001b[39m\u001b[38;5;124m'\u001b[39m]\n",
      "File \u001b[1;32m~\\anaconda3\\lib\\site-packages\\pandas\\util\\_decorators.py:311\u001b[0m, in \u001b[0;36mdeprecate_nonkeyword_arguments.<locals>.decorate.<locals>.wrapper\u001b[1;34m(*args, **kwargs)\u001b[0m\n\u001b[0;32m    305\u001b[0m \u001b[38;5;28;01mif\u001b[39;00m \u001b[38;5;28mlen\u001b[39m(args) \u001b[38;5;241m>\u001b[39m num_allow_args:\n\u001b[0;32m    306\u001b[0m     warnings\u001b[38;5;241m.\u001b[39mwarn(\n\u001b[0;32m    307\u001b[0m         msg\u001b[38;5;241m.\u001b[39mformat(arguments\u001b[38;5;241m=\u001b[39marguments),\n\u001b[0;32m    308\u001b[0m         \u001b[38;5;167;01mFutureWarning\u001b[39;00m,\n\u001b[0;32m    309\u001b[0m         stacklevel\u001b[38;5;241m=\u001b[39mstacklevel,\n\u001b[0;32m    310\u001b[0m     )\n\u001b[1;32m--> 311\u001b[0m \u001b[38;5;28;01mreturn\u001b[39;00m \u001b[43mfunc\u001b[49m\u001b[43m(\u001b[49m\u001b[38;5;241;43m*\u001b[39;49m\u001b[43margs\u001b[49m\u001b[43m,\u001b[49m\u001b[43m \u001b[49m\u001b[38;5;241;43m*\u001b[39;49m\u001b[38;5;241;43m*\u001b[39;49m\u001b[43mkwargs\u001b[49m\u001b[43m)\u001b[49m\n",
      "File \u001b[1;32m~\\anaconda3\\lib\\site-packages\\pandas\\core\\frame.py:4957\u001b[0m, in \u001b[0;36mDataFrame.drop\u001b[1;34m(self, labels, axis, index, columns, level, inplace, errors)\u001b[0m\n\u001b[0;32m   4809\u001b[0m \u001b[38;5;129m@deprecate_nonkeyword_arguments\u001b[39m(version\u001b[38;5;241m=\u001b[39m\u001b[38;5;28;01mNone\u001b[39;00m, allowed_args\u001b[38;5;241m=\u001b[39m[\u001b[38;5;124m\"\u001b[39m\u001b[38;5;124mself\u001b[39m\u001b[38;5;124m\"\u001b[39m, \u001b[38;5;124m\"\u001b[39m\u001b[38;5;124mlabels\u001b[39m\u001b[38;5;124m\"\u001b[39m])\n\u001b[0;32m   4810\u001b[0m \u001b[38;5;28;01mdef\u001b[39;00m \u001b[38;5;21mdrop\u001b[39m(\n\u001b[0;32m   4811\u001b[0m     \u001b[38;5;28mself\u001b[39m,\n\u001b[1;32m   (...)\u001b[0m\n\u001b[0;32m   4818\u001b[0m     errors: \u001b[38;5;28mstr\u001b[39m \u001b[38;5;241m=\u001b[39m \u001b[38;5;124m\"\u001b[39m\u001b[38;5;124mraise\u001b[39m\u001b[38;5;124m\"\u001b[39m,\n\u001b[0;32m   4819\u001b[0m ):\n\u001b[0;32m   4820\u001b[0m     \u001b[38;5;124;03m\"\"\"\u001b[39;00m\n\u001b[0;32m   4821\u001b[0m \u001b[38;5;124;03m    Drop specified labels from rows or columns.\u001b[39;00m\n\u001b[0;32m   4822\u001b[0m \n\u001b[1;32m   (...)\u001b[0m\n\u001b[0;32m   4955\u001b[0m \u001b[38;5;124;03m            weight  1.0     0.8\u001b[39;00m\n\u001b[0;32m   4956\u001b[0m \u001b[38;5;124;03m    \"\"\"\u001b[39;00m\n\u001b[1;32m-> 4957\u001b[0m     \u001b[38;5;28;01mreturn\u001b[39;00m \u001b[38;5;28;43msuper\u001b[39;49m\u001b[43m(\u001b[49m\u001b[43m)\u001b[49m\u001b[38;5;241;43m.\u001b[39;49m\u001b[43mdrop\u001b[49m\u001b[43m(\u001b[49m\n\u001b[0;32m   4958\u001b[0m \u001b[43m        \u001b[49m\u001b[43mlabels\u001b[49m\u001b[38;5;241;43m=\u001b[39;49m\u001b[43mlabels\u001b[49m\u001b[43m,\u001b[49m\n\u001b[0;32m   4959\u001b[0m \u001b[43m        \u001b[49m\u001b[43maxis\u001b[49m\u001b[38;5;241;43m=\u001b[39;49m\u001b[43maxis\u001b[49m\u001b[43m,\u001b[49m\n\u001b[0;32m   4960\u001b[0m \u001b[43m        \u001b[49m\u001b[43mindex\u001b[49m\u001b[38;5;241;43m=\u001b[39;49m\u001b[43mindex\u001b[49m\u001b[43m,\u001b[49m\n\u001b[0;32m   4961\u001b[0m \u001b[43m        \u001b[49m\u001b[43mcolumns\u001b[49m\u001b[38;5;241;43m=\u001b[39;49m\u001b[43mcolumns\u001b[49m\u001b[43m,\u001b[49m\n\u001b[0;32m   4962\u001b[0m \u001b[43m        \u001b[49m\u001b[43mlevel\u001b[49m\u001b[38;5;241;43m=\u001b[39;49m\u001b[43mlevel\u001b[49m\u001b[43m,\u001b[49m\n\u001b[0;32m   4963\u001b[0m \u001b[43m        \u001b[49m\u001b[43minplace\u001b[49m\u001b[38;5;241;43m=\u001b[39;49m\u001b[43minplace\u001b[49m\u001b[43m,\u001b[49m\n\u001b[0;32m   4964\u001b[0m \u001b[43m        \u001b[49m\u001b[43merrors\u001b[49m\u001b[38;5;241;43m=\u001b[39;49m\u001b[43merrors\u001b[49m\u001b[43m,\u001b[49m\n\u001b[0;32m   4965\u001b[0m \u001b[43m    \u001b[49m\u001b[43m)\u001b[49m\n",
      "File \u001b[1;32m~\\anaconda3\\lib\\site-packages\\pandas\\core\\generic.py:4267\u001b[0m, in \u001b[0;36mNDFrame.drop\u001b[1;34m(self, labels, axis, index, columns, level, inplace, errors)\u001b[0m\n\u001b[0;32m   4265\u001b[0m \u001b[38;5;28;01mfor\u001b[39;00m axis, labels \u001b[38;5;129;01min\u001b[39;00m axes\u001b[38;5;241m.\u001b[39mitems():\n\u001b[0;32m   4266\u001b[0m     \u001b[38;5;28;01mif\u001b[39;00m labels \u001b[38;5;129;01mis\u001b[39;00m \u001b[38;5;129;01mnot\u001b[39;00m \u001b[38;5;28;01mNone\u001b[39;00m:\n\u001b[1;32m-> 4267\u001b[0m         obj \u001b[38;5;241m=\u001b[39m \u001b[43mobj\u001b[49m\u001b[38;5;241;43m.\u001b[39;49m\u001b[43m_drop_axis\u001b[49m\u001b[43m(\u001b[49m\u001b[43mlabels\u001b[49m\u001b[43m,\u001b[49m\u001b[43m \u001b[49m\u001b[43maxis\u001b[49m\u001b[43m,\u001b[49m\u001b[43m \u001b[49m\u001b[43mlevel\u001b[49m\u001b[38;5;241;43m=\u001b[39;49m\u001b[43mlevel\u001b[49m\u001b[43m,\u001b[49m\u001b[43m \u001b[49m\u001b[43merrors\u001b[49m\u001b[38;5;241;43m=\u001b[39;49m\u001b[43merrors\u001b[49m\u001b[43m)\u001b[49m\n\u001b[0;32m   4269\u001b[0m \u001b[38;5;28;01mif\u001b[39;00m inplace:\n\u001b[0;32m   4270\u001b[0m     \u001b[38;5;28mself\u001b[39m\u001b[38;5;241m.\u001b[39m_update_inplace(obj)\n",
      "File \u001b[1;32m~\\anaconda3\\lib\\site-packages\\pandas\\core\\generic.py:4311\u001b[0m, in \u001b[0;36mNDFrame._drop_axis\u001b[1;34m(self, labels, axis, level, errors, consolidate, only_slice)\u001b[0m\n\u001b[0;32m   4309\u001b[0m         new_axis \u001b[38;5;241m=\u001b[39m axis\u001b[38;5;241m.\u001b[39mdrop(labels, level\u001b[38;5;241m=\u001b[39mlevel, errors\u001b[38;5;241m=\u001b[39merrors)\n\u001b[0;32m   4310\u001b[0m     \u001b[38;5;28;01melse\u001b[39;00m:\n\u001b[1;32m-> 4311\u001b[0m         new_axis \u001b[38;5;241m=\u001b[39m \u001b[43maxis\u001b[49m\u001b[38;5;241;43m.\u001b[39;49m\u001b[43mdrop\u001b[49m\u001b[43m(\u001b[49m\u001b[43mlabels\u001b[49m\u001b[43m,\u001b[49m\u001b[43m \u001b[49m\u001b[43merrors\u001b[49m\u001b[38;5;241;43m=\u001b[39;49m\u001b[43merrors\u001b[49m\u001b[43m)\u001b[49m\n\u001b[0;32m   4312\u001b[0m     indexer \u001b[38;5;241m=\u001b[39m axis\u001b[38;5;241m.\u001b[39mget_indexer(new_axis)\n\u001b[0;32m   4314\u001b[0m \u001b[38;5;66;03m# Case for non-unique axis\u001b[39;00m\n\u001b[0;32m   4315\u001b[0m \u001b[38;5;28;01melse\u001b[39;00m:\n",
      "File \u001b[1;32m~\\anaconda3\\lib\\site-packages\\pandas\\core\\indexes\\base.py:6661\u001b[0m, in \u001b[0;36mIndex.drop\u001b[1;34m(self, labels, errors)\u001b[0m\n\u001b[0;32m   6659\u001b[0m \u001b[38;5;28;01mif\u001b[39;00m mask\u001b[38;5;241m.\u001b[39many():\n\u001b[0;32m   6660\u001b[0m     \u001b[38;5;28;01mif\u001b[39;00m errors \u001b[38;5;241m!=\u001b[39m \u001b[38;5;124m\"\u001b[39m\u001b[38;5;124mignore\u001b[39m\u001b[38;5;124m\"\u001b[39m:\n\u001b[1;32m-> 6661\u001b[0m         \u001b[38;5;28;01mraise\u001b[39;00m \u001b[38;5;167;01mKeyError\u001b[39;00m(\u001b[38;5;124mf\u001b[39m\u001b[38;5;124m\"\u001b[39m\u001b[38;5;132;01m{\u001b[39;00m\u001b[38;5;28mlist\u001b[39m(labels[mask])\u001b[38;5;132;01m}\u001b[39;00m\u001b[38;5;124m not found in axis\u001b[39m\u001b[38;5;124m\"\u001b[39m)\n\u001b[0;32m   6662\u001b[0m     indexer \u001b[38;5;241m=\u001b[39m indexer[\u001b[38;5;241m~\u001b[39mmask]\n\u001b[0;32m   6663\u001b[0m \u001b[38;5;28;01mreturn\u001b[39;00m \u001b[38;5;28mself\u001b[39m\u001b[38;5;241m.\u001b[39mdelete(indexer)\n",
      "\u001b[1;31mKeyError\u001b[0m: \"['video_map', 'view_count', 'upload_date', 'channel_id', 'Category'] not found in axis\""
     ]
    }
   ],
   "source": [
    "#for simplicity/clearness of the code we create 4 dataframes corresponding to Alt-lite, Alt-right, \n",
    "#Intellectual Dark Web channels and control channels.\n",
    "df_alt_lite=df_final[df_final['Category']=='Alt-lite']#.drop(['video_map', 'view_count', 'upload_date', 'channel_id', 'Category'])\n",
    "df_alt_right=df_final[df_final['Category']=='Alt-right']\n",
    "df_idw=df_final[df_final['Category']=='Intellectual Dark Web']\n",
    "df_control=df_final[df_final['Category']=='control']"
   ]
  },
  {
   "cell_type": "code",
   "execution_count": 123,
   "id": "9797e314",
   "metadata": {},
   "outputs": [
    {
     "data": {
      "text/html": [
       "<div>\n",
       "<style scoped>\n",
       "    .dataframe tbody tr th:only-of-type {\n",
       "        vertical-align: middle;\n",
       "    }\n",
       "\n",
       "    .dataframe tbody tr th {\n",
       "        vertical-align: top;\n",
       "    }\n",
       "\n",
       "    .dataframe thead th {\n",
       "        text-align: right;\n",
       "    }\n",
       "</style>\n",
       "<table border=\"1\" class=\"dataframe\">\n",
       "  <thead>\n",
       "    <tr style=\"text-align: right;\">\n",
       "      <th></th>\n",
       "      <th>Unnamed: 0</th>\n",
       "      <th>video_map</th>\n",
       "      <th>view_count</th>\n",
       "      <th>upload_date</th>\n",
       "      <th>toxicity</th>\n",
       "      <th>severe_toxicity</th>\n",
       "      <th>obscene</th>\n",
       "      <th>identity_attack</th>\n",
       "      <th>insult</th>\n",
       "      <th>threat</th>\n",
       "      <th>sexual_explicit</th>\n",
       "      <th>channel_id</th>\n",
       "      <th>Category</th>\n",
       "    </tr>\n",
       "  </thead>\n",
       "  <tbody>\n",
       "    <tr>\n",
       "      <th>count</th>\n",
       "      <td>63667</td>\n",
       "      <td>63667</td>\n",
       "      <td>63667.0</td>\n",
       "      <td>63667</td>\n",
       "      <td>63667.000000</td>\n",
       "      <td>63667.000000</td>\n",
       "      <td>63667.000000</td>\n",
       "      <td>63667.000000</td>\n",
       "      <td>63667.000000</td>\n",
       "      <td>63667.00000</td>\n",
       "      <td>63667.000000</td>\n",
       "      <td>63667</td>\n",
       "      <td>63667</td>\n",
       "    </tr>\n",
       "    <tr>\n",
       "      <th>unique</th>\n",
       "      <td>61840</td>\n",
       "      <td>10956</td>\n",
       "      <td>36272.0</td>\n",
       "      <td>3799</td>\n",
       "      <td>63643.000000</td>\n",
       "      <td>63641.000000</td>\n",
       "      <td>63643.000000</td>\n",
       "      <td>63641.000000</td>\n",
       "      <td>63644.000000</td>\n",
       "      <td>63641.00000</td>\n",
       "      <td>63634.000000</td>\n",
       "      <td>112</td>\n",
       "      <td>1</td>\n",
       "    </tr>\n",
       "    <tr>\n",
       "      <th>top</th>\n",
       "      <td>80923</td>\n",
       "      <td>2</td>\n",
       "      <td>270.0</td>\n",
       "      <td>20181213</td>\n",
       "      <td>0.000356</td>\n",
       "      <td>0.000002</td>\n",
       "      <td>0.000026</td>\n",
       "      <td>0.000088</td>\n",
       "      <td>0.000088</td>\n",
       "      <td>0.00002</td>\n",
       "      <td>0.000014</td>\n",
       "      <td>UCGy6uV7yqGWDeUWTZzT3ZEg</td>\n",
       "      <td>Alt-lite</td>\n",
       "    </tr>\n",
       "    <tr>\n",
       "      <th>freq</th>\n",
       "      <td>2</td>\n",
       "      <td>108</td>\n",
       "      <td>21.0</td>\n",
       "      <td>90</td>\n",
       "      <td>9.000000</td>\n",
       "      <td>9.000000</td>\n",
       "      <td>5.000000</td>\n",
       "      <td>9.000000</td>\n",
       "      <td>5.000000</td>\n",
       "      <td>5.00000</td>\n",
       "      <td>9.000000</td>\n",
       "      <td>10908</td>\n",
       "      <td>63667</td>\n",
       "    </tr>\n",
       "  </tbody>\n",
       "</table>\n",
       "</div>"
      ],
      "text/plain": [
       "        Unnamed: 0  video_map  view_count  upload_date      toxicity  \\\n",
       "count        63667      63667     63667.0        63667  63667.000000   \n",
       "unique       61840      10956     36272.0         3799  63643.000000   \n",
       "top          80923          2       270.0     20181213      0.000356   \n",
       "freq             2        108        21.0           90      9.000000   \n",
       "\n",
       "        severe_toxicity       obscene  identity_attack        insult  \\\n",
       "count      63667.000000  63667.000000     63667.000000  63667.000000   \n",
       "unique     63641.000000  63643.000000     63641.000000  63644.000000   \n",
       "top            0.000002      0.000026         0.000088      0.000088   \n",
       "freq           9.000000      5.000000         9.000000      5.000000   \n",
       "\n",
       "             threat  sexual_explicit                channel_id  Category  \n",
       "count   63667.00000     63667.000000                     63667     63667  \n",
       "unique  63641.00000     63634.000000                       112         1  \n",
       "top         0.00002         0.000014  UCGy6uV7yqGWDeUWTZzT3ZEg  Alt-lite  \n",
       "freq        5.00000         9.000000                     10908     63667  "
      ]
     },
     "execution_count": 123,
     "metadata": {},
     "output_type": "execute_result"
    }
   ],
   "source": [
    "#getting some basic information \n",
    "df_alt_lite.describe()"
   ]
  },
  {
   "cell_type": "code",
   "execution_count": null,
   "id": "dea82599",
   "metadata": {},
   "outputs": [],
   "source": []
  }
 ],
 "metadata": {
  "kernelspec": {
   "display_name": "Python 3 (ipykernel)",
   "language": "python",
   "name": "python3"
  },
  "language_info": {
   "codemirror_mode": {
    "name": "ipython",
    "version": 3
   },
   "file_extension": ".py",
   "mimetype": "text/x-python",
   "name": "python",
   "nbconvert_exporter": "python",
   "pygments_lexer": "ipython3",
   "version": "3.8.13"
  }
 },
 "nbformat": 4,
 "nbformat_minor": 5
}
