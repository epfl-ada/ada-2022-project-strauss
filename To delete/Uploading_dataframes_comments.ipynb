{
 "cells": [
  {
   "cell_type": "code",
   "execution_count": 5,
   "id": "37bc53b2",
   "metadata": {},
   "outputs": [],
   "source": [
    "import pandas as pd\n",
    "import os\n",
    "import pyarrow.feather as feather #all this to load the data from the zip folders\n",
    "from zipfile import ZipFile\n",
    "import time\n",
    "import seaborn as sns\n",
    "import matplotlib.pyplot as plt\n",
    "%matplotlib inline\n",
    "import sys"
   ]
  },
  {
   "cell_type": "code",
   "execution_count": 2,
   "id": "348ce2b2",
   "metadata": {},
   "outputs": [],
   "source": [
    "data_folder='./Data/'\n",
    "path_sources_final='sources_final.csv'\n",
    "path_control_grp='sources_1.csv'"
   ]
  },
  {
   "cell_type": "code",
   "execution_count": 3,
   "id": "0a550279",
   "metadata": {},
   "outputs": [],
   "source": [
    "df_final=pd.read_csv(data_folder + path_sources_final)\n",
    "df_control_grp=pd.read_csv(data_folder + path_control_grp)"
   ]
  },
  {
   "cell_type": "code",
   "execution_count": 4,
   "id": "7346241f",
   "metadata": {},
   "outputs": [],
   "source": [
    "list_Alt_lite=(df_final[df_final['Category']=='Alt-lite'].Id).tolist()\n",
    "list_Alt_right=(df_final[df_final['Category']=='Alt-right'].Id).tolist()\n",
    "list_IDW=(df_final[df_final['Category']=='Intellectual Dark Web'].Id).tolist()"
   ]
  },
  {
   "cell_type": "code",
   "execution_count": 5,
   "id": "17a567dd",
   "metadata": {},
   "outputs": [],
   "source": [
    "#list of channels belonging to control group\n",
    "list_control=(df_control_grp[df_control_grp[\"Data Collection step\"]=='control'].Id).tolist() "
   ]
  },
  {
   "cell_type": "code",
   "execution_count": 12,
   "id": "31d9f3f6",
   "metadata": {},
   "outputs": [
    {
     "name": "stdout",
     "output_type": "stream",
     "text": [
      "execution_time: 72.48565983772278 Nb channels not found: 1\n"
     ]
    }
   ],
   "source": [
    "Start=time.time() #takes 234 seconds= less than 4 minutes\n",
    "df_list_Alt_lite=[]\n",
    "path_file_1='./Data/cm_Bartul/toxicity-20221214T101008Z-001.zip'\n",
    "path_file_2='./Data/cm_Bartul/toxicity-20221214T101008Z-002.zip'\n",
    "n=0\n",
    "not_found=[]\n",
    "\n",
    "for i in list_Alt_lite:\n",
    "    channel_file='toxicity/'+i+'_toxicity.feather'\n",
    "    if channel_file in ZipFile(path_file_1).namelist():\n",
    "        path_file=path_file_1\n",
    "    elif channel_file in ZipFile(path_file_2).namelist():\n",
    "        path_file=path_file_2\n",
    "    else:\n",
    "        n+=1\n",
    "        path_file='nope'\n",
    "        not_found.append(i)\n",
    "    if path_file!='nope':\n",
    "        df_1=pd.read_feather(ZipFile(path_file).open(channel_file))\n",
    "        channel_id_list=[i]*len(df_1['toxicity'])\n",
    "        df_1['channel_id']=channel_id_list\n",
    "        df_list_Alt_lite.append(df_1)\n",
    "    \n",
    "execution_time=time.time()-Start\n",
    "print('execution_time:', execution_time, 'Nb channels not found:', n)"
   ]
  },
  {
   "cell_type": "code",
   "execution_count": 14,
   "id": "8408eb81",
   "metadata": {},
   "outputs": [
    {
     "data": {
      "text/plain": [
       "30139288"
      ]
     },
     "execution_count": 14,
     "metadata": {},
     "output_type": "execute_result"
    }
   ],
   "source": [
    "df_Alt_lite=pd.concat(df_list_Alt_lite,ignore_index=True)\n",
    "len(df_Alt_lite)"
   ]
  },
  {
   "cell_type": "code",
   "execution_count": 15,
   "id": "d0fb298f",
   "metadata": {},
   "outputs": [],
   "source": [
    "#saving as a csv (couldn't save as feather because we have strings)\n",
    "#if (os.path.exists(r'C:\\Users\\HOURS\\Documents\\GitHub\\ada-2022-project-strauss\\Data\\df_Alt_lite_comments.csv')):\n",
    "#    print('already exists')\n",
    "#else:\n",
    "#    df_Alt_lite.to_csv(r'C:\\Users\\HOURS\\Documents\\GitHub\\ada-2022-project-strauss\\Data\\df_Alt_lite_comments.csv')"
   ]
  },
  {
   "cell_type": "code",
   "execution_count": null,
   "id": "e410182a",
   "metadata": {},
   "outputs": [],
   "source": [
    "Start=time.time() #takes 234 seconds= less than 4 minutes\n",
    "df_list_Alt_right=[]\n",
    "path_file_1='./Data/cm_Bartul/toxicity-20221214T101008Z-001.zip'\n",
    "path_file_2='./Data/cm_Bartul/toxicity-20221214T101008Z-002.zip'\n",
    "n=0\n",
    "not_found=[]\n",
    "\n",
    "for i in list_Alt_right:\n",
    "    channel_file='toxicity/'+i+'_toxicity.feather'\n",
    "    if channel_file in ZipFile(path_file_1).namelist():\n",
    "        path_file=path_file_1\n",
    "    elif channel_file in ZipFile(path_file_2).namelist():\n",
    "        path_file=path_file_2\n",
    "    else:\n",
    "        n+=1\n",
    "        path_file='nope'\n",
    "        not_found.append(i)\n",
    "    if path_file!='nope':\n",
    "        df_1=pd.read_feather(ZipFile(path_file).open(channel_file))\n",
    "        channel_id_list=[i]*len(df_1['toxicity'])\n",
    "        df_1['channel_id']=channel_id_list\n",
    "        df_list_Alt_right.append(df_1)\n",
    "    \n",
    "execution_time=time.time()-Start\n",
    "print('execution_time:', execution_time, 'Nb channels not found:', n)"
   ]
  },
  {
   "cell_type": "code",
   "execution_count": null,
   "id": "c08f2e94",
   "metadata": {},
   "outputs": [],
   "source": [
    "df_Alt_right=pd.concat(df_list_Alt_right,ignore_index=True)\n",
    "len(df_Alt_right)"
   ]
  },
  {
   "cell_type": "code",
   "execution_count": null,
   "id": "0445ad6e",
   "metadata": {},
   "outputs": [],
   "source": [
    "Start=time.time() #takes 234 seconds= less than 4 minutes\n",
    "df_list_IDW=[]\n",
    "path_file_1='./Data/cm_Bartul/toxicity-20221214T101008Z-001.zip'\n",
    "path_file_2='./Data/cm_Bartul/toxicity-20221214T101008Z-002.zip'\n",
    "n=0\n",
    "not_found=[]\n",
    "\n",
    "for i in list_IDW:\n",
    "    channel_file='toxicity/'+i+'_toxicity.feather'\n",
    "    if channel_file in ZipFile(path_file_1).namelist():\n",
    "        path_file=path_file_1\n",
    "    elif channel_file in ZipFile(path_file_2).namelist():\n",
    "        path_file=path_file_2\n",
    "    else:\n",
    "        n+=1\n",
    "        path_file='nope'\n",
    "        not_found.append(i)\n",
    "    if path_file!='nope':\n",
    "        df_1=pd.read_feather(ZipFile(path_file).open(channel_file))\n",
    "        channel_id_list=[i]*len(df_1['toxicity'])\n",
    "        df_1['channel_id']=channel_id_list\n",
    "        df_list_IDW.append(df_1)\n",
    "    \n",
    "execution_time=time.time()-Start\n",
    "print('execution_time:', execution_time, 'Nb channels not found:', n)"
   ]
  },
  {
   "cell_type": "code",
   "execution_count": null,
   "id": "8d2c9251",
   "metadata": {},
   "outputs": [],
   "source": [
    "df_IDW=pd.concat(df_list_IDW,ignore_index=True)\n",
    "len(df_IDW)"
   ]
  },
  {
   "cell_type": "code",
   "execution_count": null,
   "id": "745a4a74",
   "metadata": {},
   "outputs": [],
   "source": [
    "Start=time.time() #takes 234 seconds= less than 4 minutes\n",
    "df_list_control=[]\n",
    "path_file_1='./Data/cm_Bartul/toxicity-20221214T101008Z-001.zip'\n",
    "path_file_2='./Data/cm_Bartul/toxicity-20221214T101008Z-002.zip'\n",
    "n=0\n",
    "not_found=[]\n",
    "\n",
    "for i in list_control:\n",
    "    channel_file='toxicity/'+i+'_toxicity.feather'\n",
    "    if channel_file in ZipFile(path_file_1).namelist():\n",
    "        path_file=path_file_1\n",
    "    elif channel_file in ZipFile(path_file_2).namelist():\n",
    "        path_file=path_file_2\n",
    "    else:\n",
    "        n+=1\n",
    "        path_file='nope'\n",
    "        not_found.append(i)\n",
    "    if path_file!='nope':\n",
    "        df_1=pd.read_feather(ZipFile(path_file).open(channel_file))\n",
    "        channel_id_list=[i]*len(df_1['toxicity'])\n",
    "        df_1['channel_id']=channel_id_list\n",
    "        df_list_control.append(df_1)\n",
    "    \n",
    "execution_time=time.time()-Start\n",
    "print('execution_time:', execution_time, 'Nb channels not found:', n)"
   ]
  },
  {
   "cell_type": "code",
   "execution_count": null,
   "id": "4f70399d",
   "metadata": {},
   "outputs": [],
   "source": [
    "#amazing, from previous computations we know 13 channels aren't in our dataset"
   ]
  },
  {
   "cell_type": "code",
   "execution_count": null,
   "id": "72ed4e2c",
   "metadata": {},
   "outputs": [],
   "source": [
    "df_control=pd.concat(df_list_control,ignore_index=True)\n",
    "len(df_control)"
   ]
  },
  {
   "cell_type": "code",
   "execution_count": null,
   "id": "62128e9b",
   "metadata": {},
   "outputs": [],
   "source": []
  },
  {
   "cell_type": "code",
   "execution_count": null,
   "id": "f4faadb7",
   "metadata": {},
   "outputs": [],
   "source": [
    "#saving as a csv (couldn't save as feather because we have strings)\n",
    "#if (os.path.exists(r'C:\\Users\\HOURS\\Documents\\GitHub\\ada-2022-project-strauss\\Data\\df_control_comments.csv')):\n",
    "#    print('already exists')\n",
    "#else:\n",
    "#    df_control.to_csv(r'C:\\Users\\HOURS\\Documents\\GitHub\\ada-2022-project-strauss\\Data\\df_control_comments.csv')"
   ]
  },
  {
   "cell_type": "code",
   "execution_count": 22,
   "id": "2ea8abb8",
   "metadata": {},
   "outputs": [
    {
     "data": {
      "text/html": [
       "<div>\n",
       "<style scoped>\n",
       "    .dataframe tbody tr th:only-of-type {\n",
       "        vertical-align: middle;\n",
       "    }\n",
       "\n",
       "    .dataframe tbody tr th {\n",
       "        vertical-align: top;\n",
       "    }\n",
       "\n",
       "    .dataframe thead th {\n",
       "        text-align: right;\n",
       "    }\n",
       "</style>\n",
       "<table border=\"1\" class=\"dataframe\">\n",
       "  <thead>\n",
       "    <tr style=\"text-align: right;\">\n",
       "      <th></th>\n",
       "      <th>toxicity</th>\n",
       "      <th>severe_toxicity</th>\n",
       "      <th>obscene</th>\n",
       "      <th>identity_attack</th>\n",
       "      <th>insult</th>\n",
       "      <th>threat</th>\n",
       "      <th>sexual_explicit</th>\n",
       "      <th>video_map</th>\n",
       "      <th>view_count</th>\n",
       "      <th>upload_date</th>\n",
       "      <th>channel_id</th>\n",
       "    </tr>\n",
       "  </thead>\n",
       "  <tbody>\n",
       "    <tr>\n",
       "      <th>0</th>\n",
       "      <td>0.660011</td>\n",
       "      <td>0.000345</td>\n",
       "      <td>0.003026</td>\n",
       "      <td>0.648004</td>\n",
       "      <td>0.076715</td>\n",
       "      <td>0.005255</td>\n",
       "      <td>0.000774</td>\n",
       "      <td>278</td>\n",
       "      <td>5426.0</td>\n",
       "      <td>20190417</td>\n",
       "      <td>UCfDdlNLRVb1h3_7Xh-WhL3w</td>\n",
       "    </tr>\n",
       "    <tr>\n",
       "      <th>1</th>\n",
       "      <td>0.985120</td>\n",
       "      <td>0.000355</td>\n",
       "      <td>0.051304</td>\n",
       "      <td>0.001338</td>\n",
       "      <td>0.960622</td>\n",
       "      <td>0.000358</td>\n",
       "      <td>0.001094</td>\n",
       "      <td>278</td>\n",
       "      <td>5426.0</td>\n",
       "      <td>20190417</td>\n",
       "      <td>UCfDdlNLRVb1h3_7Xh-WhL3w</td>\n",
       "    </tr>\n",
       "    <tr>\n",
       "      <th>2</th>\n",
       "      <td>0.374003</td>\n",
       "      <td>0.000245</td>\n",
       "      <td>0.146076</td>\n",
       "      <td>0.001628</td>\n",
       "      <td>0.012286</td>\n",
       "      <td>0.002498</td>\n",
       "      <td>0.001478</td>\n",
       "      <td>278</td>\n",
       "      <td>5426.0</td>\n",
       "      <td>20190417</td>\n",
       "      <td>UCfDdlNLRVb1h3_7Xh-WhL3w</td>\n",
       "    </tr>\n",
       "    <tr>\n",
       "      <th>3</th>\n",
       "      <td>0.813031</td>\n",
       "      <td>0.000397</td>\n",
       "      <td>0.141845</td>\n",
       "      <td>0.002908</td>\n",
       "      <td>0.702594</td>\n",
       "      <td>0.000308</td>\n",
       "      <td>0.008147</td>\n",
       "      <td>278</td>\n",
       "      <td>5426.0</td>\n",
       "      <td>20190417</td>\n",
       "      <td>UCfDdlNLRVb1h3_7Xh-WhL3w</td>\n",
       "    </tr>\n",
       "    <tr>\n",
       "      <th>4</th>\n",
       "      <td>0.021611</td>\n",
       "      <td>0.000006</td>\n",
       "      <td>0.000408</td>\n",
       "      <td>0.001802</td>\n",
       "      <td>0.008016</td>\n",
       "      <td>0.000268</td>\n",
       "      <td>0.000074</td>\n",
       "      <td>278</td>\n",
       "      <td>5426.0</td>\n",
       "      <td>20190417</td>\n",
       "      <td>UCfDdlNLRVb1h3_7Xh-WhL3w</td>\n",
       "    </tr>\n",
       "  </tbody>\n",
       "</table>\n",
       "</div>"
      ],
      "text/plain": [
       "   toxicity  severe_toxicity   obscene  identity_attack    insult    threat  \\\n",
       "0  0.660011         0.000345  0.003026         0.648004  0.076715  0.005255   \n",
       "1  0.985120         0.000355  0.051304         0.001338  0.960622  0.000358   \n",
       "2  0.374003         0.000245  0.146076         0.001628  0.012286  0.002498   \n",
       "3  0.813031         0.000397  0.141845         0.002908  0.702594  0.000308   \n",
       "4  0.021611         0.000006  0.000408         0.001802  0.008016  0.000268   \n",
       "\n",
       "   sexual_explicit  video_map  view_count  upload_date  \\\n",
       "0         0.000774        278      5426.0     20190417   \n",
       "1         0.001094        278      5426.0     20190417   \n",
       "2         0.001478        278      5426.0     20190417   \n",
       "3         0.008147        278      5426.0     20190417   \n",
       "4         0.000074        278      5426.0     20190417   \n",
       "\n",
       "                 channel_id  \n",
       "0  UCfDdlNLRVb1h3_7Xh-WhL3w  \n",
       "1  UCfDdlNLRVb1h3_7Xh-WhL3w  \n",
       "2  UCfDdlNLRVb1h3_7Xh-WhL3w  \n",
       "3  UCfDdlNLRVb1h3_7Xh-WhL3w  \n",
       "4  UCfDdlNLRVb1h3_7Xh-WhL3w  "
      ]
     },
     "execution_count": 22,
     "metadata": {},
     "output_type": "execute_result"
    }
   ],
   "source": [
    "df_Alt_lite.head()"
   ]
  },
  {
   "cell_type": "code",
   "execution_count": 2,
   "id": "9e427e51",
   "metadata": {},
   "outputs": [],
   "source": [
    "Start=time.time()\n",
    "df_Alt_lite_loade=pd.read_csv(r'C:\\Users\\HOURS\\Documents\\GitHub\\ada-2022-project-strauss\\Data\\df_Alt_lite_comments.csv')\n",
    "execution=time.time()-Start"
   ]
  },
  {
   "cell_type": "code",
   "execution_count": 3,
   "id": "e5c9ac9b",
   "metadata": {},
   "outputs": [
    {
     "data": {
      "text/plain": [
       "95.58694124221802"
      ]
     },
     "execution_count": 3,
     "metadata": {},
     "output_type": "execute_result"
    }
   ],
   "source": [
    "execution"
   ]
  },
  {
   "cell_type": "code",
   "execution_count": null,
   "id": "338acfcd",
   "metadata": {},
   "outputs": [],
   "source": []
  }
 ],
 "metadata": {
  "kernelspec": {
   "display_name": "Python 3 (ipykernel)",
   "language": "python",
   "name": "python3"
  },
  "language_info": {
   "codemirror_mode": {
    "name": "ipython",
    "version": 3
   },
   "file_extension": ".py",
   "mimetype": "text/x-python",
   "name": "python",
   "nbconvert_exporter": "python",
   "pygments_lexer": "ipython3",
   "version": "3.8.13"
  }
 },
 "nbformat": 4,
 "nbformat_minor": 5
}
