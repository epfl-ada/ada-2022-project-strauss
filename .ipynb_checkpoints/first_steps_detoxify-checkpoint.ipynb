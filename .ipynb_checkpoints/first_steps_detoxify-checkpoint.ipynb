{
 "cells": [
  {
   "cell_type": "code",
   "execution_count": 48,
   "id": "abffd23d",
   "metadata": {},
   "outputs": [],
   "source": [
    "import pandas as pd\n",
    "from detoxify import Detoxify\n",
    "import time"
   ]
  },
  {
   "cell_type": "markdown",
   "id": "5987595c",
   "metadata": {},
   "source": [
    "### Choice of detoxify version"
   ]
  },
  {
   "cell_type": "code",
   "execution_count": 44,
   "id": "167ac1ea",
   "metadata": {},
   "outputs": [
    {
     "name": "stdout",
     "output_type": "stream",
     "text": [
      "   toxicity  severe_toxicity  obscene   threat   insult  identity_attack\n",
      "0   0.48834          0.00817  0.02151  0.00384  0.04116          0.39211\n"
     ]
    }
   ],
   "source": [
    "results=Detoxify('original').predict('jew')\n",
    "print(pd.DataFrame(results, index=[0]).round(5))"
   ]
  },
  {
   "cell_type": "code",
   "execution_count": 45,
   "id": "283a6c88",
   "metadata": {},
   "outputs": [
    {
     "name": "stdout",
     "output_type": "stream",
     "text": [
      "   toxicity  severe_toxicity  obscene  identity_attack   insult   threat  \\\n",
      "0   0.04057          0.00011  0.00627          0.00825  0.00636  0.00025   \n",
      "\n",
      "   sexual_explicit  \n",
      "0          0.00094  \n"
     ]
    }
   ],
   "source": [
    "results=Detoxify('unbiased').predict('jew')\n",
    "print(pd.DataFrame(results, index=[0]).round(5))"
   ]
  },
  {
   "cell_type": "markdown",
   "id": "34af33c5",
   "metadata": {},
   "source": [
    "We notice that the original version of detoxify is extremely biased towards terms that describe minorities(in the paper, the owner of the model explained that the model was trained on data where toxic comments were mostly oriented towards minorities that's why the have a toxicity score high even if the sentence itself isn't toxic)\n",
    "\n",
    "We choose to use the second model, the unbiased one. "
   ]
  },
  {
   "cell_type": "code",
   "execution_count": 47,
   "id": "a2fd5115",
   "metadata": {},
   "outputs": [
    {
     "name": "stdout",
     "output_type": "stream",
     "text": [
      "   toxicity  severe_toxicity  obscene  identity_attack   insult   threat  \\\n",
      "0    0.0012              0.0  0.00003           0.0006  0.00021  0.00004   \n",
      "\n",
      "   sexual_explicit  \n",
      "0          0.00001  \n"
     ]
    }
   ],
   "source": [
    "results=Detoxify('unbiased').predict('9-11 really taught a good lesson to americans')\n",
    "print(pd.DataFrame(results, index=[0]).round(5))"
   ]
  },
  {
   "cell_type": "markdown",
   "id": "ade90fa8",
   "metadata": {},
   "source": [
    "Notice also that detoxify doesn't understand the meaning of a sentence, it just identifies words. "
   ]
  },
  {
   "cell_type": "markdown",
   "id": "c8ee76ed",
   "metadata": {},
   "source": [
    "### Testing detoxify on a comment"
   ]
  },
  {
   "cell_type": "code",
   "execution_count": 50,
   "id": "b3a6977b",
   "metadata": {},
   "outputs": [],
   "source": [
    "text='My brother is 12 years older than me and got me into game by having me read The Mystery Method towards the end of my senior year of highschool. \\\\nI love watching videos from you older guys and seeing how those older styles of pickup have been refined and matured into the styles that you are using and teaching today.🤙'"
   ]
  },
  {
   "cell_type": "code",
   "execution_count": 52,
   "id": "8934d4f4",
   "metadata": {},
   "outputs": [
    {
     "name": "stdout",
     "output_type": "stream",
     "text": [
      "   toxicity  severe_toxicity  obscene  identity_attack   insult   threat  \\\n",
      "0   0.00065              0.0  0.00008           0.0001  0.00016  0.00004   \n",
      "\n",
      "   sexual_explicit  \n",
      "0          0.00002  \n"
     ]
    }
   ],
   "source": [
    "results=Detoxify('unbiased').predict(text)\n",
    "print(pd.DataFrame(results, index=[0]).round(5))"
   ]
  }
 ],
 "metadata": {
  "kernelspec": {
   "display_name": "Python 3 (ipykernel)",
   "language": "python",
   "name": "python3"
  },
  "language_info": {
   "codemirror_mode": {
    "name": "ipython",
    "version": 3
   },
   "file_extension": ".py",
   "mimetype": "text/x-python",
   "name": "python",
   "nbconvert_exporter": "python",
   "pygments_lexer": "ipython3",
   "version": "3.8.13"
  }
 },
 "nbformat": 4,
 "nbformat_minor": 5
}
