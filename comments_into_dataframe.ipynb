{
 "cells": [
  {
   "cell_type": "markdown",
   "id": "68593ca6",
   "metadata": {},
   "source": [
    "### TL; DR\n",
    "\n",
    "This notebook tries to turn the comment indexed 3 into a dataframe and then apply detoxify to that dataframe to get our final result"
   ]
  },
  {
   "cell_type": "code",
   "execution_count": 1,
   "id": "f9b614e2",
   "metadata": {},
   "outputs": [],
   "source": [
    "import pandas as pd\n",
    "from detoxify import Detoxify\n",
    "import time"
   ]
  },
  {
   "cell_type": "code",
   "execution_count": 2,
   "id": "f19fe8c3",
   "metadata": {},
   "outputs": [],
   "source": [
    "data_folder = './Data/' # all my data is in one folder \n",
    "path_comments='comments_glipse.csv.gz'"
   ]
  },
  {
   "cell_type": "code",
   "execution_count": 3,
   "id": "2ab44c65",
   "metadata": {},
   "outputs": [
    {
     "data": {
      "text/html": [
       "<div>\n",
       "<style scoped>\n",
       "    .dataframe tbody tr th:only-of-type {\n",
       "        vertical-align: middle;\n",
       "    }\n",
       "\n",
       "    .dataframe tbody tr th {\n",
       "        vertical-align: top;\n",
       "    }\n",
       "\n",
       "    .dataframe thead th {\n",
       "        text-align: right;\n",
       "    }\n",
       "</style>\n",
       "<table border=\"1\" class=\"dataframe\">\n",
       "  <thead>\n",
       "    <tr style=\"text-align: right;\">\n",
       "      <th></th>\n",
       "      <th>comments</th>\n",
       "      <th>video_id</th>\n",
       "    </tr>\n",
       "  </thead>\n",
       "  <tbody>\n",
       "    <tr>\n",
       "      <th>0</th>\n",
       "      <td>[{'id': 'UgwG1f67Ru5kL3JXmDZ4AaABAg', 'author'...</td>\n",
       "      <td>39yZGhaJay8</td>\n",
       "    </tr>\n",
       "    <tr>\n",
       "      <th>1</th>\n",
       "      <td>[{'id': 'UgwDdeP0GiKI4ld_5Uh4AaABAg', 'author'...</td>\n",
       "      <td>FFm-ZpY7Fbo</td>\n",
       "    </tr>\n",
       "    <tr>\n",
       "      <th>2</th>\n",
       "      <td>[{'id': 'UgySPeVqINUhtngAtbx4AaABAg', 'author'...</td>\n",
       "      <td>yfNKExa846M</td>\n",
       "    </tr>\n",
       "    <tr>\n",
       "      <th>3</th>\n",
       "      <td>[{'id': 'UgyrDdhrXsWtzfv1Fbl4AaABAg', 'author'...</td>\n",
       "      <td>lCR0QTdSJfA</td>\n",
       "    </tr>\n",
       "    <tr>\n",
       "      <th>4</th>\n",
       "      <td>[{'id': 'UgzHfM3U-Jx3oueGlEp4AaABAg', 'author'...</td>\n",
       "      <td>nY4EB01ldOE</td>\n",
       "    </tr>\n",
       "    <tr>\n",
       "      <th>...</th>\n",
       "      <td>...</td>\n",
       "      <td>...</td>\n",
       "    </tr>\n",
       "    <tr>\n",
       "      <th>209</th>\n",
       "      <td>[{'id': 'UgxRhHxqrascp2Wl9XR4AaABAg', 'author'...</td>\n",
       "      <td>QAeoUItnQpE</td>\n",
       "    </tr>\n",
       "    <tr>\n",
       "      <th>210</th>\n",
       "      <td>[{'id': 'UgwUu708JnCOMWgqEI54AaABAg', 'author'...</td>\n",
       "      <td>aEafDmdID70</td>\n",
       "    </tr>\n",
       "    <tr>\n",
       "      <th>211</th>\n",
       "      <td>[{'id': 'UgySC3F8dJnjv0ALIW94AaABAg', 'author'...</td>\n",
       "      <td>2OVoINOkLys</td>\n",
       "    </tr>\n",
       "    <tr>\n",
       "      <th>212</th>\n",
       "      <td>[{'id': 'UgwtUJyordw0yKULN6F4AaABAg', 'author'...</td>\n",
       "      <td>Ti2OUx3c6Ss</td>\n",
       "    </tr>\n",
       "    <tr>\n",
       "      <th>213</th>\n",
       "      <td>[{'id': 'UgwJNNN7oR-l3w8tk0Z4AaABAg', 'author'...</td>\n",
       "      <td>V9MDl4RC2_8</td>\n",
       "    </tr>\n",
       "  </tbody>\n",
       "</table>\n",
       "<p>214 rows × 2 columns</p>\n",
       "</div>"
      ],
      "text/plain": [
       "                                              comments     video_id\n",
       "0    [{'id': 'UgwG1f67Ru5kL3JXmDZ4AaABAg', 'author'...  39yZGhaJay8\n",
       "1    [{'id': 'UgwDdeP0GiKI4ld_5Uh4AaABAg', 'author'...  FFm-ZpY7Fbo\n",
       "2    [{'id': 'UgySPeVqINUhtngAtbx4AaABAg', 'author'...  yfNKExa846M\n",
       "3    [{'id': 'UgyrDdhrXsWtzfv1Fbl4AaABAg', 'author'...  lCR0QTdSJfA\n",
       "4    [{'id': 'UgzHfM3U-Jx3oueGlEp4AaABAg', 'author'...  nY4EB01ldOE\n",
       "..                                                 ...          ...\n",
       "209  [{'id': 'UgxRhHxqrascp2Wl9XR4AaABAg', 'author'...  QAeoUItnQpE\n",
       "210  [{'id': 'UgwUu708JnCOMWgqEI54AaABAg', 'author'...  aEafDmdID70\n",
       "211  [{'id': 'UgySC3F8dJnjv0ALIW94AaABAg', 'author'...  2OVoINOkLys\n",
       "212  [{'id': 'UgwtUJyordw0yKULN6F4AaABAg', 'author'...  Ti2OUx3c6Ss\n",
       "213  [{'id': 'UgwJNNN7oR-l3w8tk0Z4AaABAg', 'author'...  V9MDl4RC2_8\n",
       "\n",
       "[214 rows x 2 columns]"
      ]
     },
     "execution_count": 3,
     "metadata": {},
     "output_type": "execute_result"
    }
   ],
   "source": [
    "df_comments = pd.read_csv(data_folder + path_comments, compression='gzip') \n",
    "df_comments"
   ]
  },
  {
   "cell_type": "code",
   "execution_count": 6,
   "id": "aff3f1f9",
   "metadata": {},
   "outputs": [],
   "source": [
    "X=df_comments.loc[3,\"comments\"]"
   ]
  },
  {
   "cell_type": "code",
   "execution_count": 7,
   "id": "3989ba43",
   "metadata": {},
   "outputs": [],
   "source": [
    "list_=[] #creates a list with approximately one comment per item\n",
    "for i in X.split(\"'id': \"):\n",
    "    list_.append(i)"
   ]
  },
  {
   "cell_type": "code",
   "execution_count": 8,
   "id": "e411119b",
   "metadata": {},
   "outputs": [],
   "source": [
    "list_df=[] #creates a list with just the comment text per item\n",
    "for i in range (1,len(list_)): #we don't want list_[0] it's just \"garbage\"\n",
    "    [no_keep, keep]=list_[i].split(\" 'text': \")\n",
    "    [text, no_keep]=keep.split(\", 'likes'\")\n",
    "    list_df.append(text)"
   ]
  },
  {
   "cell_type": "code",
   "execution_count": 19,
   "id": "4556f997",
   "metadata": {},
   "outputs": [],
   "source": [
    "df_com=pd.DataFrame(data=list_df, columns=['comments'])"
   ]
  },
  {
   "cell_type": "code",
   "execution_count": 20,
   "id": "53c95a42",
   "metadata": {},
   "outputs": [
    {
     "data": {
      "text/html": [
       "<div>\n",
       "<style scoped>\n",
       "    .dataframe tbody tr th:only-of-type {\n",
       "        vertical-align: middle;\n",
       "    }\n",
       "\n",
       "    .dataframe tbody tr th {\n",
       "        vertical-align: top;\n",
       "    }\n",
       "\n",
       "    .dataframe thead th {\n",
       "        text-align: right;\n",
       "    }\n",
       "</style>\n",
       "<table border=\"1\" class=\"dataframe\">\n",
       "  <thead>\n",
       "    <tr style=\"text-align: right;\">\n",
       "      <th></th>\n",
       "      <th>comments</th>\n",
       "    </tr>\n",
       "  </thead>\n",
       "  <tbody>\n",
       "    <tr>\n",
       "      <th>0</th>\n",
       "      <td>'This is one of those videos I’ll be coming ba...</td>\n",
       "    </tr>\n",
       "    <tr>\n",
       "      <th>1</th>\n",
       "      <td>'Yo Jeff , Upload these kinds of vids as Podca...</td>\n",
       "    </tr>\n",
       "    <tr>\n",
       "      <th>2</th>\n",
       "      <td>'BrainForce95 I second that'</td>\n",
       "    </tr>\n",
       "    <tr>\n",
       "      <th>3</th>\n",
       "      <td>'People who espouse socialism NEED to be slapp...</td>\n",
       "    </tr>\n",
       "    <tr>\n",
       "      <th>4</th>\n",
       "      <td>'Someone resolve this mystery for me plz, I sa...</td>\n",
       "    </tr>\n",
       "    <tr>\n",
       "      <th>...</th>\n",
       "      <td>...</td>\n",
       "    </tr>\n",
       "    <tr>\n",
       "      <th>111</th>\n",
       "      <td>'Old guys'</td>\n",
       "    </tr>\n",
       "    <tr>\n",
       "      <th>112</th>\n",
       "      <td>'Creepy=unattractive+tension\\nSexy=attractive+...</td>\n",
       "    </tr>\n",
       "    <tr>\n",
       "      <th>113</th>\n",
       "      <td>\"Interest level. If she likes you, it flies. I...</td>\n",
       "    </tr>\n",
       "    <tr>\n",
       "      <th>114</th>\n",
       "      <td>\"some women will find you creepy for the small...</td>\n",
       "    </tr>\n",
       "    <tr>\n",
       "      <th>115</th>\n",
       "      <td>'FIRST'</td>\n",
       "    </tr>\n",
       "  </tbody>\n",
       "</table>\n",
       "<p>116 rows × 1 columns</p>\n",
       "</div>"
      ],
      "text/plain": [
       "                                              comments\n",
       "0    'This is one of those videos I’ll be coming ba...\n",
       "1    'Yo Jeff , Upload these kinds of vids as Podca...\n",
       "2                         'BrainForce95 I second that'\n",
       "3    'People who espouse socialism NEED to be slapp...\n",
       "4    'Someone resolve this mystery for me plz, I sa...\n",
       "..                                                 ...\n",
       "111                                         'Old guys'\n",
       "112  'Creepy=unattractive+tension\\nSexy=attractive+...\n",
       "113  \"Interest level. If she likes you, it flies. I...\n",
       "114  \"some women will find you creepy for the small...\n",
       "115                                            'FIRST'\n",
       "\n",
       "[116 rows x 1 columns]"
      ]
     },
     "execution_count": 20,
     "metadata": {},
     "output_type": "execute_result"
    }
   ],
   "source": [
    "df_com"
   ]
  },
  {
   "cell_type": "code",
   "execution_count": 11,
   "id": "b7f55be1",
   "metadata": {},
   "outputs": [
    {
     "name": "stdout",
     "output_type": "stream",
     "text": [
      "   toxicity  severe_toxicity  obscene  identity_attack   insult   threat  \\\n",
      "0   0.04057          0.00011  0.00627          0.00825  0.00636  0.00025   \n",
      "\n",
      "   sexual_explicit  \n",
      "0          0.00094  \n"
     ]
    }
   ],
   "source": [
    "results=Detoxify('unbiased').predict('jew')\n",
    "print(pd.DataFrame(results, index=[0]).round(5))"
   ]
  },
  {
   "cell_type": "code",
   "execution_count": 24,
   "id": "2514df78",
   "metadata": {},
   "outputs": [
    {
     "data": {
      "text/plain": [
       "116"
      ]
     },
     "execution_count": 24,
     "metadata": {},
     "output_type": "execute_result"
    }
   ],
   "source": [
    "df_com.shape[0]"
   ]
  },
  {
   "cell_type": "code",
   "execution_count": 35,
   "id": "1f7a3d81",
   "metadata": {},
   "outputs": [
    {
     "data": {
      "text/plain": [
       "\"'BrainForce95 I second that'\""
      ]
     },
     "execution_count": 35,
     "metadata": {},
     "output_type": "execute_result"
    }
   ],
   "source": [
    "df_com.loc[2, \"comments\"]"
   ]
  },
  {
   "cell_type": "code",
   "execution_count": 38,
   "id": "2feba293",
   "metadata": {},
   "outputs": [],
   "source": [
    "N=df_com.shape[0]\n",
    "N=3\n",
    "list_detox_results=[]\n",
    "for i in range(0, N):\n",
    "    list_detox_results.append(Detoxify('unbiased').predict(df_com.loc[i, \"comments\"]))"
   ]
  },
  {
   "cell_type": "code",
   "execution_count": 39,
   "id": "3e35fff3",
   "metadata": {},
   "outputs": [
    {
     "data": {
      "text/plain": [
       "[{'toxicity': 0.0008361365,\n",
       "  'severe_toxicity': 2.495947e-06,\n",
       "  'obscene': 7.704473e-05,\n",
       "  'identity_attack': 6.4939675e-05,\n",
       "  'insult': 0.00012523835,\n",
       "  'threat': 7.3382296e-05,\n",
       "  'sexual_explicit': 3.5200217e-05},\n",
       " {'toxicity': 0.0013111982,\n",
       "  'severe_toxicity': 2.672507e-06,\n",
       "  'obscene': 0.00011780793,\n",
       "  'identity_attack': 8.7914836e-05,\n",
       "  'insult': 0.0002341912,\n",
       "  'threat': 5.2079897e-05,\n",
       "  'sexual_explicit': 5.508744e-05},\n",
       " {'toxicity': 0.0004342294,\n",
       "  'severe_toxicity': 1.2943016e-06,\n",
       "  'obscene': 3.108801e-05,\n",
       "  'identity_attack': 7.480877e-05,\n",
       "  'insult': 0.000100246514,\n",
       "  'threat': 1.9219853e-05,\n",
       "  'sexual_explicit': 1.090102e-05}]"
      ]
     },
     "execution_count": 39,
     "metadata": {},
     "output_type": "execute_result"
    }
   ],
   "source": [
    "list_detox_results"
   ]
  },
  {
   "cell_type": "code",
   "execution_count": 40,
   "id": "134092a8",
   "metadata": {},
   "outputs": [],
   "source": [
    "toxic_df=pd.DataFrame(data=list_detox_results)"
   ]
  },
  {
   "cell_type": "code",
   "execution_count": 41,
   "id": "5b685c66",
   "metadata": {},
   "outputs": [
    {
     "data": {
      "text/html": [
       "<div>\n",
       "<style scoped>\n",
       "    .dataframe tbody tr th:only-of-type {\n",
       "        vertical-align: middle;\n",
       "    }\n",
       "\n",
       "    .dataframe tbody tr th {\n",
       "        vertical-align: top;\n",
       "    }\n",
       "\n",
       "    .dataframe thead th {\n",
       "        text-align: right;\n",
       "    }\n",
       "</style>\n",
       "<table border=\"1\" class=\"dataframe\">\n",
       "  <thead>\n",
       "    <tr style=\"text-align: right;\">\n",
       "      <th></th>\n",
       "      <th>toxicity</th>\n",
       "      <th>severe_toxicity</th>\n",
       "      <th>obscene</th>\n",
       "      <th>identity_attack</th>\n",
       "      <th>insult</th>\n",
       "      <th>threat</th>\n",
       "      <th>sexual_explicit</th>\n",
       "    </tr>\n",
       "  </thead>\n",
       "  <tbody>\n",
       "    <tr>\n",
       "      <th>0</th>\n",
       "      <td>0.000836</td>\n",
       "      <td>0.000002</td>\n",
       "      <td>0.000077</td>\n",
       "      <td>0.000065</td>\n",
       "      <td>0.000125</td>\n",
       "      <td>0.000073</td>\n",
       "      <td>0.000035</td>\n",
       "    </tr>\n",
       "    <tr>\n",
       "      <th>1</th>\n",
       "      <td>0.001311</td>\n",
       "      <td>0.000003</td>\n",
       "      <td>0.000118</td>\n",
       "      <td>0.000088</td>\n",
       "      <td>0.000234</td>\n",
       "      <td>0.000052</td>\n",
       "      <td>0.000055</td>\n",
       "    </tr>\n",
       "    <tr>\n",
       "      <th>2</th>\n",
       "      <td>0.000434</td>\n",
       "      <td>0.000001</td>\n",
       "      <td>0.000031</td>\n",
       "      <td>0.000075</td>\n",
       "      <td>0.000100</td>\n",
       "      <td>0.000019</td>\n",
       "      <td>0.000011</td>\n",
       "    </tr>\n",
       "  </tbody>\n",
       "</table>\n",
       "</div>"
      ],
      "text/plain": [
       "   toxicity  severe_toxicity   obscene  identity_attack    insult    threat  \\\n",
       "0  0.000836         0.000002  0.000077         0.000065  0.000125  0.000073   \n",
       "1  0.001311         0.000003  0.000118         0.000088  0.000234  0.000052   \n",
       "2  0.000434         0.000001  0.000031         0.000075  0.000100  0.000019   \n",
       "\n",
       "   sexual_explicit  \n",
       "0         0.000035  \n",
       "1         0.000055  \n",
       "2         0.000011  "
      ]
     },
     "execution_count": 41,
     "metadata": {},
     "output_type": "execute_result"
    }
   ],
   "source": [
    "toxic_df"
   ]
  },
  {
   "cell_type": "code",
   "execution_count": null,
   "id": "c43a55e3",
   "metadata": {},
   "outputs": [],
   "source": []
  }
 ],
 "metadata": {
  "kernelspec": {
   "display_name": "Python 3 (ipykernel)",
   "language": "python",
   "name": "python3"
  },
  "language_info": {
   "codemirror_mode": {
    "name": "ipython",
    "version": 3
   },
   "file_extension": ".py",
   "mimetype": "text/x-python",
   "name": "python",
   "nbconvert_exporter": "python",
   "pygments_lexer": "ipython3",
   "version": "3.8.13"
  }
 },
 "nbformat": 4,
 "nbformat_minor": 5
}
