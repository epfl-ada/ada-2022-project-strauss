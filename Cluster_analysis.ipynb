{
 "cells": [
  {
   "cell_type": "code",
   "execution_count": 82,
   "id": "bae19f65",
   "metadata": {},
   "outputs": [],
   "source": [
    "import pandas as pd\n",
    "import os\n",
    "import time"
   ]
  },
  {
   "cell_type": "code",
   "execution_count": 83,
   "id": "c44a666a",
   "metadata": {},
   "outputs": [],
   "source": [
    "data_folder='./Data/'"
   ]
  },
  {
   "cell_type": "code",
   "execution_count": 84,
   "id": "114f38d6",
   "metadata": {},
   "outputs": [],
   "source": [
    "file_channels = open(data_folder + \"channel_ids.txt\", \"r\")\n",
    "file_pagerank_all= open(data_folder + \"pagerank_all.txt\", \"r\")\n",
    "file_pagerank_2018= open(data_folder + \"pagerank_2018_2019.txt\", \"r\")\n",
    "\n",
    "data_channels = file_channels.read()\n",
    "data_pagerank_all = file_pagerank_all.read()\n",
    "data_pagerank_2018 = file_pagerank_2018.read()\n",
    "\n",
    "list_channels = data_channels.split(\"\\n\")\n",
    "list_channels = list_channels[:-1] #discrading the last entry as it contains no information (residual from the split)\n",
    "list_pagerank_all = data_pagerank_all.split(\"\\n\")\n",
    "list_pagerank_all= list_pagerank_all[3:-2]#discrading first 3 values and the last one as they are not channel\n",
    "#and the one before the last one as it doesn't contain anything (residual from the split)\n",
    "list_pagerank_2018 = data_pagerank_2018.split(\"\\n\")\n",
    "list_pagerank_2018= list_pagerank_2018[3:-2]#discrading first 3 values and the last one as they are not channel\n",
    "#and the one before the last one as it doesn't contain anything (residual from the split)"
   ]
  },
  {
   "cell_type": "code",
   "execution_count": 85,
   "id": "08c2a5c9",
   "metadata": {},
   "outputs": [
    {
     "name": "stdout",
     "output_type": "stream",
     "text": [
      "136470 136470 136470\n"
     ]
    }
   ],
   "source": [
    "print(len(list_channels), len(list_pagerank_all), len(list_pagerank_2018)) #all good the lengths match"
   ]
  },
  {
   "cell_type": "code",
   "execution_count": 86,
   "id": "fea6c937",
   "metadata": {},
   "outputs": [],
   "source": [
    "#creating a dataframe\n",
    "zipped = list(zip(list_channels, list_pagerank_all, list_pagerank_2018))\n",
    "df_cluster=pd.DataFrame(zipped, columns=['channel_id', 'pagerank', 'pagerank_2018'])"
   ]
  },
  {
   "cell_type": "code",
   "execution_count": 99,
   "id": "321f3202",
   "metadata": {},
   "outputs": [
    {
     "data": {
      "text/html": [
       "<div>\n",
       "<style scoped>\n",
       "    .dataframe tbody tr th:only-of-type {\n",
       "        vertical-align: middle;\n",
       "    }\n",
       "\n",
       "    .dataframe tbody tr th {\n",
       "        vertical-align: top;\n",
       "    }\n",
       "\n",
       "    .dataframe thead th {\n",
       "        text-align: right;\n",
       "    }\n",
       "</style>\n",
       "<table border=\"1\" class=\"dataframe\">\n",
       "  <thead>\n",
       "    <tr style=\"text-align: right;\">\n",
       "      <th></th>\n",
       "      <th>channel_id</th>\n",
       "      <th>pagerank</th>\n",
       "      <th>pagerank_2018</th>\n",
       "    </tr>\n",
       "  </thead>\n",
       "  <tbody>\n",
       "    <tr>\n",
       "      <th>0</th>\n",
       "      <td>UC-lHJZR3Gqxm24_Vd_AJ5Yw</td>\n",
       "      <td>176.551392</td>\n",
       "      <td>195.492874</td>\n",
       "    </tr>\n",
       "    <tr>\n",
       "      <th>1</th>\n",
       "      <td>UCbCmjCuTUZos6Inko4u57UQ</td>\n",
       "      <td>0.895367</td>\n",
       "      <td>1.312383</td>\n",
       "    </tr>\n",
       "    <tr>\n",
       "      <th>2</th>\n",
       "      <td>UCpEhnqL0y41EpW2TvWAHD7Q</td>\n",
       "      <td>6.800401</td>\n",
       "      <td>6.447253</td>\n",
       "    </tr>\n",
       "    <tr>\n",
       "      <th>3</th>\n",
       "      <td>UC295-Dw_tDNtZXFeAPAW6Aw</td>\n",
       "      <td>28.799509</td>\n",
       "      <td>37.452736</td>\n",
       "    </tr>\n",
       "    <tr>\n",
       "      <th>4</th>\n",
       "      <td>UCJ5v_MCY6GNUBTO8-D3XoAg</td>\n",
       "      <td>32.658581</td>\n",
       "      <td>32.937046</td>\n",
       "    </tr>\n",
       "    <tr>\n",
       "      <th>...</th>\n",
       "      <td>...</td>\n",
       "      <td>...</td>\n",
       "      <td>...</td>\n",
       "    </tr>\n",
       "    <tr>\n",
       "      <th>136465</th>\n",
       "      <td>UCuM-9AajUOwKw6ipOzu2DRQ</td>\n",
       "      <td>0.005047</td>\n",
       "      <td>0.009096</td>\n",
       "    </tr>\n",
       "    <tr>\n",
       "      <th>136466</th>\n",
       "      <td>UCtW9jp5TH0YrgYpwiRf9t-Q</td>\n",
       "      <td>0.014430</td>\n",
       "      <td>0.004309</td>\n",
       "    </tr>\n",
       "    <tr>\n",
       "      <th>136467</th>\n",
       "      <td>UCTsxFTIUs8vFDzGccDm6i7Q</td>\n",
       "      <td>0.186187</td>\n",
       "      <td>0.260013</td>\n",
       "    </tr>\n",
       "    <tr>\n",
       "      <th>136468</th>\n",
       "      <td>UC1HOArgRCMGPjlcmkThERwA</td>\n",
       "      <td>0.008244</td>\n",
       "      <td>0.000000</td>\n",
       "    </tr>\n",
       "    <tr>\n",
       "      <th>136469</th>\n",
       "      <td>UCITKvry4fW50iU4FSw9WERQ</td>\n",
       "      <td>0.000000</td>\n",
       "      <td>0.000000</td>\n",
       "    </tr>\n",
       "  </tbody>\n",
       "</table>\n",
       "<p>136470 rows × 3 columns</p>\n",
       "</div>"
      ],
      "text/plain": [
       "                      channel_id    pagerank  pagerank_2018\n",
       "0       UC-lHJZR3Gqxm24_Vd_AJ5Yw  176.551392     195.492874\n",
       "1       UCbCmjCuTUZos6Inko4u57UQ    0.895367       1.312383\n",
       "2       UCpEhnqL0y41EpW2TvWAHD7Q    6.800401       6.447253\n",
       "3       UC295-Dw_tDNtZXFeAPAW6Aw   28.799509      37.452736\n",
       "4       UCJ5v_MCY6GNUBTO8-D3XoAg   32.658581      32.937046\n",
       "...                          ...         ...            ...\n",
       "136465  UCuM-9AajUOwKw6ipOzu2DRQ    0.005047       0.009096\n",
       "136466  UCtW9jp5TH0YrgYpwiRf9t-Q    0.014430       0.004309\n",
       "136467  UCTsxFTIUs8vFDzGccDm6i7Q    0.186187       0.260013\n",
       "136468  UC1HOArgRCMGPjlcmkThERwA    0.008244       0.000000\n",
       "136469  UCITKvry4fW50iU4FSw9WERQ    0.000000       0.000000\n",
       "\n",
       "[136470 rows x 3 columns]"
      ]
     },
     "execution_count": 99,
     "metadata": {},
     "output_type": "execute_result"
    }
   ],
   "source": [
    "#notice that the way our data was stored was so that if we stack them next to each other, each line had a channel_id and\n",
    "#the channel's associated pagerank cluster coefficient for all videos and the associated pagerank cluster coefficient\n",
    "#for the time window 2018-2019\n",
    "#converting our values into floats as they were under the string format\n",
    "df_cluster['pagerank']=df_cluster['pagerank'].astype('float')\n",
    "df_cluster['pagerank_2018']=df_cluster['pagerank_2018'].astype('float')\n",
    "df_cluster"
   ]
  },
  {
   "cell_type": "code",
   "execution_count": 103,
   "id": "c8a1f7e0",
   "metadata": {},
   "outputs": [
    {
     "name": "stdout",
     "output_type": "stream",
     "text": [
      "there are 0 Nan values which corresponds to 0.0 % of the dataframe\n"
     ]
    }
   ],
   "source": [
    "#counting the nomber of Nan values\n",
    "nb_Nan=len(df_cluster[df_cluster.isnull().any(axis=1)])\n",
    "print(\"there are\", nb_Nan, \"Nan values which corresponds to\", nb_Nan*100/len(df_cluster), \"% of the dataframe\")"
   ]
  },
  {
   "cell_type": "code",
   "execution_count": 108,
   "id": "87b5bc64",
   "metadata": {},
   "outputs": [
    {
     "data": {
      "text/html": [
       "<div>\n",
       "<style scoped>\n",
       "    .dataframe tbody tr th:only-of-type {\n",
       "        vertical-align: middle;\n",
       "    }\n",
       "\n",
       "    .dataframe tbody tr th {\n",
       "        vertical-align: top;\n",
       "    }\n",
       "\n",
       "    .dataframe thead th {\n",
       "        text-align: right;\n",
       "    }\n",
       "</style>\n",
       "<table border=\"1\" class=\"dataframe\">\n",
       "  <thead>\n",
       "    <tr style=\"text-align: right;\">\n",
       "      <th></th>\n",
       "      <th>pagerank</th>\n",
       "      <th>pagerank_2018</th>\n",
       "    </tr>\n",
       "  </thead>\n",
       "  <tbody>\n",
       "    <tr>\n",
       "      <th>count</th>\n",
       "      <td>136470.000000</td>\n",
       "      <td>136470.000000</td>\n",
       "    </tr>\n",
       "    <tr>\n",
       "      <th>mean</th>\n",
       "      <td>0.482503</td>\n",
       "      <td>0.434065</td>\n",
       "    </tr>\n",
       "    <tr>\n",
       "      <th>std</th>\n",
       "      <td>2.118560</td>\n",
       "      <td>2.053294</td>\n",
       "    </tr>\n",
       "    <tr>\n",
       "      <th>min</th>\n",
       "      <td>0.000000</td>\n",
       "      <td>0.000000</td>\n",
       "    </tr>\n",
       "    <tr>\n",
       "      <th>25%</th>\n",
       "      <td>0.020596</td>\n",
       "      <td>0.004830</td>\n",
       "    </tr>\n",
       "    <tr>\n",
       "      <th>50%</th>\n",
       "      <td>0.079321</td>\n",
       "      <td>0.042644</td>\n",
       "    </tr>\n",
       "    <tr>\n",
       "      <th>75%</th>\n",
       "      <td>0.277383</td>\n",
       "      <td>0.217053</td>\n",
       "    </tr>\n",
       "    <tr>\n",
       "      <th>max</th>\n",
       "      <td>176.551392</td>\n",
       "      <td>195.492874</td>\n",
       "    </tr>\n",
       "  </tbody>\n",
       "</table>\n",
       "</div>"
      ],
      "text/plain": [
       "            pagerank  pagerank_2018\n",
       "count  136470.000000  136470.000000\n",
       "mean        0.482503       0.434065\n",
       "std         2.118560       2.053294\n",
       "min         0.000000       0.000000\n",
       "25%         0.020596       0.004830\n",
       "50%         0.079321       0.042644\n",
       "75%         0.277383       0.217053\n",
       "max       176.551392     195.492874"
      ]
     },
     "execution_count": 108,
     "metadata": {},
     "output_type": "execute_result"
    }
   ],
   "source": [
    "df_cluster[[\"pagerank\", \"pagerank_2018\"]].describe()"
   ]
  },
  {
   "cell_type": "markdown",
   "id": "99fd565a",
   "metadata": {},
   "source": [
    "### Comparing these values with the ones of the extreme communities channels"
   ]
  },
  {
   "cell_type": "code",
   "execution_count": 109,
   "id": "455f8a11",
   "metadata": {},
   "outputs": [
    {
     "name": "stderr",
     "output_type": "stream",
     "text": [
      "C:\\Users\\HOURS\\AppData\\Local\\Temp\\ipykernel_5984\\100672720.py:4: SettingWithCopyWarning: \n",
      "A value is trying to be set on a copy of a slice from a DataFrame\n",
      "\n",
      "See the caveats in the documentation: https://pandas.pydata.org/pandas-docs/stable/user_guide/indexing.html#returning-a-view-versus-a-copy\n",
      "  df_sources.rename(columns = {'Id':'channel_id'}, inplace = True)\n"
     ]
    }
   ],
   "source": [
    "path_sources_final='sources_final.csv'\n",
    "df_sources_final=pd.read_csv(data_folder + path_sources_final) #maps channel_id to extreme grp corresponding\n",
    "df_sources=df_sources_final[[\"Category\", \"Id\"]]\n",
    "df_sources.rename(columns = {'Id':'channel_id'}, inplace = True)"
   ]
  },
  {
   "cell_type": "code",
   "execution_count": 110,
   "id": "199b5ba7",
   "metadata": {},
   "outputs": [],
   "source": [
    "df_sources_interest=df_sources[df_sources['Category'].isin(['Alt-lite', 'Alt-right', 'Intellectual Dark Web'])]"
   ]
  },
  {
   "cell_type": "code",
   "execution_count": 119,
   "id": "a4da1e35",
   "metadata": {},
   "outputs": [
    {
     "data": {
      "text/plain": [
       "Alt-lite                 113\n",
       "Intellectual Dark Web     89\n",
       "Alt-right                 88\n",
       "Name: Category, dtype: int64"
      ]
     },
     "execution_count": 119,
     "metadata": {},
     "output_type": "execute_result"
    }
   ],
   "source": [
    "df_sources_interest['Category'].value_counts()"
   ]
  },
  {
   "cell_type": "code",
   "execution_count": 111,
   "id": "7b42d6d8",
   "metadata": {},
   "outputs": [],
   "source": [
    "#page rank coeff for all and only 2018-2019 for only the channels of interest\n",
    "df_cluster_interest=df_cluster[df_cluster['channel_id'].isin(list_channels_interest)]"
   ]
  },
  {
   "cell_type": "code",
   "execution_count": 117,
   "id": "2832b595",
   "metadata": {},
   "outputs": [
    {
     "data": {
      "text/html": [
       "<div>\n",
       "<style scoped>\n",
       "    .dataframe tbody tr th:only-of-type {\n",
       "        vertical-align: middle;\n",
       "    }\n",
       "\n",
       "    .dataframe tbody tr th {\n",
       "        vertical-align: top;\n",
       "    }\n",
       "\n",
       "    .dataframe thead th {\n",
       "        text-align: right;\n",
       "    }\n",
       "</style>\n",
       "<table border=\"1\" class=\"dataframe\">\n",
       "  <thead>\n",
       "    <tr style=\"text-align: right;\">\n",
       "      <th></th>\n",
       "      <th>channel_id</th>\n",
       "      <th>pagerank</th>\n",
       "      <th>pagerank_2018</th>\n",
       "      <th>Category</th>\n",
       "    </tr>\n",
       "  </thead>\n",
       "  <tbody>\n",
       "    <tr>\n",
       "      <th>0</th>\n",
       "      <td>UCfDdlNLRVb1h3_7Xh-WhL3w</td>\n",
       "      <td>11.852910</td>\n",
       "      <td>22.547094</td>\n",
       "      <td>Alt-lite</td>\n",
       "    </tr>\n",
       "    <tr>\n",
       "      <th>1</th>\n",
       "      <td>UCso6oQ3qy7z61Fr8b0WNBMw</td>\n",
       "      <td>NaN</td>\n",
       "      <td>NaN</td>\n",
       "      <td>Alt-lite</td>\n",
       "    </tr>\n",
       "    <tr>\n",
       "      <th>2</th>\n",
       "      <td>UCplXdu0g94UynzYCmO2zOjw</td>\n",
       "      <td>0.502852</td>\n",
       "      <td>0.948694</td>\n",
       "      <td>Alt-lite</td>\n",
       "    </tr>\n",
       "    <tr>\n",
       "      <th>3</th>\n",
       "      <td>UCl3RCEtooHD5bhPCHJw3btA</td>\n",
       "      <td>1.433627</td>\n",
       "      <td>0.683660</td>\n",
       "      <td>Alt-lite</td>\n",
       "    </tr>\n",
       "    <tr>\n",
       "      <th>4</th>\n",
       "      <td>UCbukZErY9SjdGTHabMzY7qg</td>\n",
       "      <td>0.000000</td>\n",
       "      <td>0.000000</td>\n",
       "      <td>Alt-lite</td>\n",
       "    </tr>\n",
       "  </tbody>\n",
       "</table>\n",
       "</div>"
      ],
      "text/plain": [
       "                 channel_id   pagerank  pagerank_2018  Category\n",
       "0  UCfDdlNLRVb1h3_7Xh-WhL3w  11.852910      22.547094  Alt-lite\n",
       "1  UCso6oQ3qy7z61Fr8b0WNBMw        NaN            NaN  Alt-lite\n",
       "2  UCplXdu0g94UynzYCmO2zOjw   0.502852       0.948694  Alt-lite\n",
       "3  UCl3RCEtooHD5bhPCHJw3btA   1.433627       0.683660  Alt-lite\n",
       "4  UCbukZErY9SjdGTHabMzY7qg   0.000000       0.000000  Alt-lite"
      ]
     },
     "execution_count": 117,
     "metadata": {},
     "output_type": "execute_result"
    }
   ],
   "source": [
    "df_cluster_interest=df_cluster.merge(df_sources_interest, how='right', on='channel_id')\n",
    "df_cluster_interest.head()"
   ]
  },
  {
   "cell_type": "code",
   "execution_count": 113,
   "id": "680cc182",
   "metadata": {},
   "outputs": [
    {
     "name": "stdout",
     "output_type": "stream",
     "text": [
      "there are 134 Nan values which corresponds to 46.206896551724135 % of the dataframe\n"
     ]
    }
   ],
   "source": [
    "#counting the nomber of Nan values\n",
    "nb_Nan=len(df_cluster_interest[df_cluster_interest.isnull().any(axis=1)])\n",
    "print(\"there are\", nb_Nan, \"Nan values which corresponds to\", nb_Nan*100/len(df_cluster_interest), \"% of the dataframe\")"
   ]
  },
  {
   "cell_type": "code",
   "execution_count": 114,
   "id": "84999787",
   "metadata": {},
   "outputs": [
    {
     "data": {
      "text/plain": [
       "True"
      ]
     },
     "execution_count": 114,
     "metadata": {},
     "output_type": "execute_result"
    }
   ],
   "source": [
    "#checking if rows where pagerank is Nan are also rows where pagerank_2018 is Nan\n",
    "(df_cluster_interest[df_cluster_interest['pagerank'].isnull()]).equals(df_cluster_interest[df_cluster_interest['pagerank_2018'].isnull()])"
   ]
  },
  {
   "cell_type": "code",
   "execution_count": 115,
   "id": "194e833e",
   "metadata": {},
   "outputs": [
    {
     "name": "stdout",
     "output_type": "stream",
     "text": [
      "there are 0 Nan values which corresponds to 0.0 % of the dataframe\n"
     ]
    }
   ],
   "source": [
    "#we choose to discard these rows as they don't bring new information\n",
    "#dropping NaN values\n",
    "df_cluster_interest.dropna(inplace=True)\n",
    "nb_Nan=len(df_cluster_interest[df_cluster_interest.isnull().any(axis=1)])\n",
    "print(\"there are\", nb_Nan, \"Nan values which corresponds to\", nb_Nan*100/len(df_cluster_interest), \"% of the dataframe\")"
   ]
  },
  {
   "cell_type": "code",
   "execution_count": 116,
   "id": "b9501486",
   "metadata": {},
   "outputs": [
    {
     "data": {
      "text/plain": [
       "Alt-lite                 79\n",
       "Intellectual Dark Web    57\n",
       "Alt-right                20\n",
       "Name: Category, dtype: int64"
      ]
     },
     "execution_count": 116,
     "metadata": {},
     "output_type": "execute_result"
    }
   ],
   "source": [
    "df_cluster_interest['Category'].value_counts()"
   ]
  },
  {
   "cell_type": "markdown",
   "id": "4777d690",
   "metadata": {},
   "source": [
    "**Comment:** We have lost some information, all the extreme communities channel weren't in our cluster analysis. That could be because we discarded edges where less 1% of the commentators commented on another channel. As it reduced the size of our graph by 90%, it makes sense that we discarded the channels that had to little influence."
   ]
  },
  {
   "cell_type": "code",
   "execution_count": 120,
   "id": "2f48364f",
   "metadata": {},
   "outputs": [],
   "source": [
    "#converting our values into floats as they were under the string format\n",
    "df_cluster_interest['pagerank']=df_cluster_interest['pagerank'].astype('float')\n",
    "df_cluster_interest['pagerank_2018']=df_cluster_interest['pagerank_2018'].astype('float')"
   ]
  },
  {
   "cell_type": "code",
   "execution_count": 121,
   "id": "bb2d5dc6",
   "metadata": {},
   "outputs": [
    {
     "data": {
      "text/html": [
       "<div>\n",
       "<style scoped>\n",
       "    .dataframe tbody tr th:only-of-type {\n",
       "        vertical-align: middle;\n",
       "    }\n",
       "\n",
       "    .dataframe tbody tr th {\n",
       "        vertical-align: top;\n",
       "    }\n",
       "\n",
       "    .dataframe thead th {\n",
       "        text-align: right;\n",
       "    }\n",
       "</style>\n",
       "<table border=\"1\" class=\"dataframe\">\n",
       "  <thead>\n",
       "    <tr style=\"text-align: right;\">\n",
       "      <th></th>\n",
       "      <th>pagerank</th>\n",
       "      <th>pagerank_2018</th>\n",
       "    </tr>\n",
       "    <tr>\n",
       "      <th>Category</th>\n",
       "      <th></th>\n",
       "      <th></th>\n",
       "    </tr>\n",
       "  </thead>\n",
       "  <tbody>\n",
       "    <tr>\n",
       "      <th>Alt-lite</th>\n",
       "      <td>4.854888</td>\n",
       "      <td>6.121196</td>\n",
       "    </tr>\n",
       "    <tr>\n",
       "      <th>Alt-right</th>\n",
       "      <td>1.105379</td>\n",
       "      <td>1.435813</td>\n",
       "    </tr>\n",
       "    <tr>\n",
       "      <th>Intellectual Dark Web</th>\n",
       "      <td>3.202381</td>\n",
       "      <td>4.015690</td>\n",
       "    </tr>\n",
       "  </tbody>\n",
       "</table>\n",
       "</div>"
      ],
      "text/plain": [
       "                       pagerank  pagerank_2018\n",
       "Category                                      \n",
       "Alt-lite               4.854888       6.121196\n",
       "Alt-right              1.105379       1.435813\n",
       "Intellectual Dark Web  3.202381       4.015690"
      ]
     },
     "execution_count": 121,
     "metadata": {},
     "output_type": "execute_result"
    }
   ],
   "source": [
    "df_temp=df_cluster_interest.drop(['channel_id'], axis=1)\n",
    "df_cluster_interest.groupby(by='Category').mean()"
   ]
  },
  {
   "cell_type": "code",
   "execution_count": null,
   "id": "31c3caa8",
   "metadata": {},
   "outputs": [],
   "source": []
  }
 ],
 "metadata": {
  "kernelspec": {
   "display_name": "Python 3 (ipykernel)",
   "language": "python",
   "name": "python3"
  },
  "language_info": {
   "codemirror_mode": {
    "name": "ipython",
    "version": 3
   },
   "file_extension": ".py",
   "mimetype": "text/x-python",
   "name": "python",
   "nbconvert_exporter": "python",
   "pygments_lexer": "ipython3",
   "version": "3.8.13"
  }
 },
 "nbformat": 4,
 "nbformat_minor": 5
}
