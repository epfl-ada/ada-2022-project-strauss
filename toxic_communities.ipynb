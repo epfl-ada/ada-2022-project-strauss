{
 "cells": [
  {
   "cell_type": "code",
   "execution_count": 37,
   "id": "8827ee33",
   "metadata": {},
   "outputs": [],
   "source": [
    "import pandas as pd\n",
    "import numpy as np\n",
    "import seaborn as sns\n",
    "import matplotlib.pyplot as plt\n",
    "%matplotlib inline\n",
    "import time\n",
    "import math\n",
    "from scipy.stats import spearmanr #to compute spearman correlation\n",
    "from scipy.stats import pearsonr #to compute pearson correlation\n",
    "from scipy.stats import kendalltau #to compute kendall tau correlation"
   ]
  },
  {
   "cell_type": "code",
   "execution_count": 2,
   "id": "db138154",
   "metadata": {},
   "outputs": [],
   "source": [
    "data_folder = './Data/' # all my data is in one folder \n",
    "path_sources_final='sources_final.csv'\n",
    "path_control_grp='sources_1.csv'\n",
    "path_df1='df_1.csv'\n",
    "path_df2='df_2.csv'"
   ]
  },
  {
   "cell_type": "code",
   "execution_count": 3,
   "id": "7218e598",
   "metadata": {},
   "outputs": [],
   "source": [
    "#getting our necessary datasets\n",
    "df_sources_final=pd.read_csv(data_folder + path_sources_final) #maps channel_id to extreme grp corresponding\n",
    "df_1=pd.read_csv(data_folder + path_df1)\n",
    "df_2=pd.read_csv(data_folder + path_df2)"
   ]
  },
  {
   "cell_type": "code",
   "execution_count": 4,
   "id": "b98c79b2",
   "metadata": {},
   "outputs": [],
   "source": [
    "#combining the two dataframes from the two folders \n",
    "#(should do it right from the begining? I was afraid it would slow things to have a dataframe so big)\n",
    "df=pd.concat([df_1, df_2],ignore_index=True)"
   ]
  },
  {
   "cell_type": "code",
   "execution_count": 5,
   "id": "8d7d296c",
   "metadata": {},
   "outputs": [
    {
     "name": "stderr",
     "output_type": "stream",
     "text": [
      "C:\\Users\\HOURS\\AppData\\Local\\Temp\\ipykernel_13176\\2487438044.py:3: SettingWithCopyWarning: \n",
      "A value is trying to be set on a copy of a slice from a DataFrame\n",
      "\n",
      "See the caveats in the documentation: https://pandas.pydata.org/pandas-docs/stable/user_guide/indexing.html#returning-a-view-versus-a-copy\n",
      "  df_sources.rename(columns = {'Id':'channel_id'}, inplace = True)\n"
     ]
    }
   ],
   "source": [
    "#extracting only necessary columns\n",
    "df_sources=df_sources_final[[\"Category\", \"Id\"]]\n",
    "df_sources.rename(columns = {'Id':'channel_id'}, inplace = True)"
   ]
  },
  {
   "cell_type": "code",
   "execution_count": 9,
   "id": "6e908284",
   "metadata": {},
   "outputs": [
    {
     "data": {
      "text/html": [
       "<div>\n",
       "<style scoped>\n",
       "    .dataframe tbody tr th:only-of-type {\n",
       "        vertical-align: middle;\n",
       "    }\n",
       "\n",
       "    .dataframe tbody tr th {\n",
       "        vertical-align: top;\n",
       "    }\n",
       "\n",
       "    .dataframe thead th {\n",
       "        text-align: right;\n",
       "    }\n",
       "</style>\n",
       "<table border=\"1\" class=\"dataframe\">\n",
       "  <thead>\n",
       "    <tr style=\"text-align: right;\">\n",
       "      <th></th>\n",
       "      <th>Category</th>\n",
       "      <th>channel_id</th>\n",
       "    </tr>\n",
       "  </thead>\n",
       "  <tbody>\n",
       "    <tr>\n",
       "      <th>0</th>\n",
       "      <td>Alt-lite</td>\n",
       "      <td>UCfDdlNLRVb1h3_7Xh-WhL3w</td>\n",
       "    </tr>\n",
       "    <tr>\n",
       "      <th>1</th>\n",
       "      <td>Alt-lite</td>\n",
       "      <td>UCso6oQ3qy7z61Fr8b0WNBMw</td>\n",
       "    </tr>\n",
       "    <tr>\n",
       "      <th>2</th>\n",
       "      <td>Alt-lite</td>\n",
       "      <td>UCplXdu0g94UynzYCmO2zOjw</td>\n",
       "    </tr>\n",
       "    <tr>\n",
       "      <th>3</th>\n",
       "      <td>Alt-lite</td>\n",
       "      <td>UCl3RCEtooHD5bhPCHJw3btA</td>\n",
       "    </tr>\n",
       "    <tr>\n",
       "      <th>4</th>\n",
       "      <td>Alt-lite</td>\n",
       "      <td>UCbukZErY9SjdGTHabMzY7qg</td>\n",
       "    </tr>\n",
       "  </tbody>\n",
       "</table>\n",
       "</div>"
      ],
      "text/plain": [
       "   Category                channel_id\n",
       "0  Alt-lite  UCfDdlNLRVb1h3_7Xh-WhL3w\n",
       "1  Alt-lite  UCso6oQ3qy7z61Fr8b0WNBMw\n",
       "2  Alt-lite  UCplXdu0g94UynzYCmO2zOjw\n",
       "3  Alt-lite  UCl3RCEtooHD5bhPCHJw3btA\n",
       "4  Alt-lite  UCbukZErY9SjdGTHabMzY7qg"
      ]
     },
     "execution_count": 9,
     "metadata": {},
     "output_type": "execute_result"
    }
   ],
   "source": [
    "df_sources.head()"
   ]
  },
  {
   "cell_type": "code",
   "execution_count": 10,
   "id": "6872d56b",
   "metadata": {},
   "outputs": [
    {
     "name": "stdout",
     "output_type": "stream",
     "text": [
      "there are 0 Nan values\n"
     ]
    }
   ],
   "source": [
    "#checking for NaN values\n",
    "print(\"there are\", len(df_sources[df_sources.isnull().any(axis=1)]), \"Nan values\")"
   ]
  },
  {
   "cell_type": "code",
   "execution_count": 11,
   "id": "6484af30",
   "metadata": {},
   "outputs": [
    {
     "data": {
      "text/html": [
       "<div>\n",
       "<style scoped>\n",
       "    .dataframe tbody tr th:only-of-type {\n",
       "        vertical-align: middle;\n",
       "    }\n",
       "\n",
       "    .dataframe tbody tr th {\n",
       "        vertical-align: top;\n",
       "    }\n",
       "\n",
       "    .dataframe thead th {\n",
       "        text-align: right;\n",
       "    }\n",
       "</style>\n",
       "<table border=\"1\" class=\"dataframe\">\n",
       "  <thead>\n",
       "    <tr style=\"text-align: right;\">\n",
       "      <th></th>\n",
       "      <th>Unnamed: 0</th>\n",
       "      <th>video_map</th>\n",
       "      <th>view_count</th>\n",
       "      <th>upload_date</th>\n",
       "      <th>toxicity</th>\n",
       "      <th>severe_toxicity</th>\n",
       "      <th>obscene</th>\n",
       "      <th>identity_attack</th>\n",
       "      <th>insult</th>\n",
       "      <th>threat</th>\n",
       "      <th>sexual_explicit</th>\n",
       "      <th>channel_id</th>\n",
       "    </tr>\n",
       "  </thead>\n",
       "  <tbody>\n",
       "    <tr>\n",
       "      <th>0</th>\n",
       "      <td>0</td>\n",
       "      <td>0</td>\n",
       "      <td>977.0</td>\n",
       "      <td>20170920</td>\n",
       "      <td>0.136365</td>\n",
       "      <td>0.001002</td>\n",
       "      <td>0.051841</td>\n",
       "      <td>0.006676</td>\n",
       "      <td>0.056322</td>\n",
       "      <td>0.000422</td>\n",
       "      <td>0.072277</td>\n",
       "      <td>UC_7Bt0vnvdJqAwF8Ow8iT0g</td>\n",
       "    </tr>\n",
       "    <tr>\n",
       "      <th>1</th>\n",
       "      <td>1</td>\n",
       "      <td>1</td>\n",
       "      <td>408.0</td>\n",
       "      <td>20170905</td>\n",
       "      <td>0.014895</td>\n",
       "      <td>0.000007</td>\n",
       "      <td>0.000330</td>\n",
       "      <td>0.000946</td>\n",
       "      <td>0.000885</td>\n",
       "      <td>0.002700</td>\n",
       "      <td>0.000118</td>\n",
       "      <td>UC_7Bt0vnvdJqAwF8Ow8iT0g</td>\n",
       "    </tr>\n",
       "    <tr>\n",
       "      <th>2</th>\n",
       "      <td>2</td>\n",
       "      <td>2</td>\n",
       "      <td>523.0</td>\n",
       "      <td>20170828</td>\n",
       "      <td>0.034177</td>\n",
       "      <td>0.000006</td>\n",
       "      <td>0.000391</td>\n",
       "      <td>0.000210</td>\n",
       "      <td>0.017617</td>\n",
       "      <td>0.000103</td>\n",
       "      <td>0.000400</td>\n",
       "      <td>UC_7Bt0vnvdJqAwF8Ow8iT0g</td>\n",
       "    </tr>\n",
       "    <tr>\n",
       "      <th>3</th>\n",
       "      <td>3</td>\n",
       "      <td>3</td>\n",
       "      <td>1446.0</td>\n",
       "      <td>20170628</td>\n",
       "      <td>0.073253</td>\n",
       "      <td>0.000177</td>\n",
       "      <td>0.039672</td>\n",
       "      <td>0.005961</td>\n",
       "      <td>0.020233</td>\n",
       "      <td>0.002046</td>\n",
       "      <td>0.000521</td>\n",
       "      <td>UC_7Bt0vnvdJqAwF8Ow8iT0g</td>\n",
       "    </tr>\n",
       "    <tr>\n",
       "      <th>4</th>\n",
       "      <td>4</td>\n",
       "      <td>4</td>\n",
       "      <td>1859.0</td>\n",
       "      <td>20170531</td>\n",
       "      <td>0.108773</td>\n",
       "      <td>0.008326</td>\n",
       "      <td>0.049040</td>\n",
       "      <td>0.025089</td>\n",
       "      <td>0.033552</td>\n",
       "      <td>0.019227</td>\n",
       "      <td>0.009504</td>\n",
       "      <td>UC_7Bt0vnvdJqAwF8Ow8iT0g</td>\n",
       "    </tr>\n",
       "  </tbody>\n",
       "</table>\n",
       "</div>"
      ],
      "text/plain": [
       "   Unnamed: 0  video_map  view_count  upload_date  toxicity  severe_toxicity  \\\n",
       "0           0          0       977.0     20170920  0.136365         0.001002   \n",
       "1           1          1       408.0     20170905  0.014895         0.000007   \n",
       "2           2          2       523.0     20170828  0.034177         0.000006   \n",
       "3           3          3      1446.0     20170628  0.073253         0.000177   \n",
       "4           4          4      1859.0     20170531  0.108773         0.008326   \n",
       "\n",
       "    obscene  identity_attack    insult    threat  sexual_explicit  \\\n",
       "0  0.051841         0.006676  0.056322  0.000422         0.072277   \n",
       "1  0.000330         0.000946  0.000885  0.002700         0.000118   \n",
       "2  0.000391         0.000210  0.017617  0.000103         0.000400   \n",
       "3  0.039672         0.005961  0.020233  0.002046         0.000521   \n",
       "4  0.049040         0.025089  0.033552  0.019227         0.009504   \n",
       "\n",
       "                 channel_id  \n",
       "0  UC_7Bt0vnvdJqAwF8Ow8iT0g  \n",
       "1  UC_7Bt0vnvdJqAwF8Ow8iT0g  \n",
       "2  UC_7Bt0vnvdJqAwF8Ow8iT0g  \n",
       "3  UC_7Bt0vnvdJqAwF8Ow8iT0g  \n",
       "4  UC_7Bt0vnvdJqAwF8Ow8iT0g  "
      ]
     },
     "execution_count": 11,
     "metadata": {},
     "output_type": "execute_result"
    }
   ],
   "source": [
    "df.head()"
   ]
  },
  {
   "cell_type": "code",
   "execution_count": 12,
   "id": "eec8e47d",
   "metadata": {},
   "outputs": [
    {
     "name": "stdout",
     "output_type": "stream",
     "text": [
      "there are 0 Nan values\n"
     ]
    }
   ],
   "source": [
    "#checking for NaN values\n",
    "print(\"there are\", len(df[df.isnull().any(axis=1)]), \"Nan values\")"
   ]
  },
  {
   "cell_type": "code",
   "execution_count": 13,
   "id": "71d641e9",
   "metadata": {},
   "outputs": [
    {
     "name": "stdout",
     "output_type": "stream",
     "text": [
      "697 676\n"
     ]
    }
   ],
   "source": [
    "#checking if nb of channels in df_1 is the same as in df_sources\n",
    "print(len(pd.unique(df['channel_id'])), len(pd.unique(df_sources['channel_id'])))"
   ]
  },
  {
   "cell_type": "code",
   "execution_count": 14,
   "id": "308da222",
   "metadata": {},
   "outputs": [],
   "source": [
    "#we have more channels in df than in df_sources but the difference is small"
   ]
  },
  {
   "cell_type": "code",
   "execution_count": 15,
   "id": "d5f59de4",
   "metadata": {},
   "outputs": [],
   "source": [
    "df_final=df.merge(df_sources, how='left', on='channel_id')"
   ]
  },
  {
   "cell_type": "code",
   "execution_count": 16,
   "id": "f857eb3b",
   "metadata": {},
   "outputs": [
    {
     "data": {
      "text/html": [
       "<div>\n",
       "<style scoped>\n",
       "    .dataframe tbody tr th:only-of-type {\n",
       "        vertical-align: middle;\n",
       "    }\n",
       "\n",
       "    .dataframe tbody tr th {\n",
       "        vertical-align: top;\n",
       "    }\n",
       "\n",
       "    .dataframe thead th {\n",
       "        text-align: right;\n",
       "    }\n",
       "</style>\n",
       "<table border=\"1\" class=\"dataframe\">\n",
       "  <thead>\n",
       "    <tr style=\"text-align: right;\">\n",
       "      <th></th>\n",
       "      <th>Unnamed: 0</th>\n",
       "      <th>video_map</th>\n",
       "      <th>view_count</th>\n",
       "      <th>upload_date</th>\n",
       "      <th>toxicity</th>\n",
       "      <th>severe_toxicity</th>\n",
       "      <th>obscene</th>\n",
       "      <th>identity_attack</th>\n",
       "      <th>insult</th>\n",
       "      <th>threat</th>\n",
       "      <th>sexual_explicit</th>\n",
       "      <th>channel_id</th>\n",
       "      <th>Category</th>\n",
       "    </tr>\n",
       "  </thead>\n",
       "  <tbody>\n",
       "    <tr>\n",
       "      <th>0</th>\n",
       "      <td>0</td>\n",
       "      <td>0</td>\n",
       "      <td>977.0</td>\n",
       "      <td>20170920</td>\n",
       "      <td>0.136365</td>\n",
       "      <td>0.001002</td>\n",
       "      <td>0.051841</td>\n",
       "      <td>0.006676</td>\n",
       "      <td>0.056322</td>\n",
       "      <td>0.000422</td>\n",
       "      <td>0.072277</td>\n",
       "      <td>UC_7Bt0vnvdJqAwF8Ow8iT0g</td>\n",
       "      <td>MRA</td>\n",
       "    </tr>\n",
       "    <tr>\n",
       "      <th>1</th>\n",
       "      <td>1</td>\n",
       "      <td>1</td>\n",
       "      <td>408.0</td>\n",
       "      <td>20170905</td>\n",
       "      <td>0.014895</td>\n",
       "      <td>0.000007</td>\n",
       "      <td>0.000330</td>\n",
       "      <td>0.000946</td>\n",
       "      <td>0.000885</td>\n",
       "      <td>0.002700</td>\n",
       "      <td>0.000118</td>\n",
       "      <td>UC_7Bt0vnvdJqAwF8Ow8iT0g</td>\n",
       "      <td>MRA</td>\n",
       "    </tr>\n",
       "    <tr>\n",
       "      <th>2</th>\n",
       "      <td>2</td>\n",
       "      <td>2</td>\n",
       "      <td>523.0</td>\n",
       "      <td>20170828</td>\n",
       "      <td>0.034177</td>\n",
       "      <td>0.000006</td>\n",
       "      <td>0.000391</td>\n",
       "      <td>0.000210</td>\n",
       "      <td>0.017617</td>\n",
       "      <td>0.000103</td>\n",
       "      <td>0.000400</td>\n",
       "      <td>UC_7Bt0vnvdJqAwF8Ow8iT0g</td>\n",
       "      <td>MRA</td>\n",
       "    </tr>\n",
       "    <tr>\n",
       "      <th>3</th>\n",
       "      <td>3</td>\n",
       "      <td>3</td>\n",
       "      <td>1446.0</td>\n",
       "      <td>20170628</td>\n",
       "      <td>0.073253</td>\n",
       "      <td>0.000177</td>\n",
       "      <td>0.039672</td>\n",
       "      <td>0.005961</td>\n",
       "      <td>0.020233</td>\n",
       "      <td>0.002046</td>\n",
       "      <td>0.000521</td>\n",
       "      <td>UC_7Bt0vnvdJqAwF8Ow8iT0g</td>\n",
       "      <td>MRA</td>\n",
       "    </tr>\n",
       "    <tr>\n",
       "      <th>4</th>\n",
       "      <td>4</td>\n",
       "      <td>4</td>\n",
       "      <td>1859.0</td>\n",
       "      <td>20170531</td>\n",
       "      <td>0.108773</td>\n",
       "      <td>0.008326</td>\n",
       "      <td>0.049040</td>\n",
       "      <td>0.025089</td>\n",
       "      <td>0.033552</td>\n",
       "      <td>0.019227</td>\n",
       "      <td>0.009504</td>\n",
       "      <td>UC_7Bt0vnvdJqAwF8Ow8iT0g</td>\n",
       "      <td>MRA</td>\n",
       "    </tr>\n",
       "    <tr>\n",
       "      <th>...</th>\n",
       "      <td>...</td>\n",
       "      <td>...</td>\n",
       "      <td>...</td>\n",
       "      <td>...</td>\n",
       "      <td>...</td>\n",
       "      <td>...</td>\n",
       "      <td>...</td>\n",
       "      <td>...</td>\n",
       "      <td>...</td>\n",
       "      <td>...</td>\n",
       "      <td>...</td>\n",
       "      <td>...</td>\n",
       "      <td>...</td>\n",
       "    </tr>\n",
       "    <tr>\n",
       "      <th>518458</th>\n",
       "      <td>150459</td>\n",
       "      <td>798</td>\n",
       "      <td>56069.0</td>\n",
       "      <td>20170127</td>\n",
       "      <td>0.327090</td>\n",
       "      <td>0.013587</td>\n",
       "      <td>0.205679</td>\n",
       "      <td>0.050272</td>\n",
       "      <td>0.182447</td>\n",
       "      <td>0.001762</td>\n",
       "      <td>0.053731</td>\n",
       "      <td>UC0aVoboXBUx2-tVIWHc3W2Q</td>\n",
       "      <td>Alt-lite</td>\n",
       "    </tr>\n",
       "    <tr>\n",
       "      <th>518459</th>\n",
       "      <td>150460</td>\n",
       "      <td>799</td>\n",
       "      <td>154838.0</td>\n",
       "      <td>20161018</td>\n",
       "      <td>0.209794</td>\n",
       "      <td>0.007211</td>\n",
       "      <td>0.134747</td>\n",
       "      <td>0.027038</td>\n",
       "      <td>0.094364</td>\n",
       "      <td>0.010686</td>\n",
       "      <td>0.024407</td>\n",
       "      <td>UC0aVoboXBUx2-tVIWHc3W2Q</td>\n",
       "      <td>Alt-lite</td>\n",
       "    </tr>\n",
       "    <tr>\n",
       "      <th>518460</th>\n",
       "      <td>150461</td>\n",
       "      <td>800</td>\n",
       "      <td>30093.0</td>\n",
       "      <td>20180326</td>\n",
       "      <td>0.237014</td>\n",
       "      <td>0.004566</td>\n",
       "      <td>0.083292</td>\n",
       "      <td>0.062911</td>\n",
       "      <td>0.147315</td>\n",
       "      <td>0.001810</td>\n",
       "      <td>0.019613</td>\n",
       "      <td>UC0aVoboXBUx2-tVIWHc3W2Q</td>\n",
       "      <td>Alt-lite</td>\n",
       "    </tr>\n",
       "    <tr>\n",
       "      <th>518461</th>\n",
       "      <td>150462</td>\n",
       "      <td>801</td>\n",
       "      <td>93406.0</td>\n",
       "      <td>20171219</td>\n",
       "      <td>0.309945</td>\n",
       "      <td>0.009368</td>\n",
       "      <td>0.155549</td>\n",
       "      <td>0.086939</td>\n",
       "      <td>0.165149</td>\n",
       "      <td>0.011248</td>\n",
       "      <td>0.023771</td>\n",
       "      <td>UC0aVoboXBUx2-tVIWHc3W2Q</td>\n",
       "      <td>Alt-lite</td>\n",
       "    </tr>\n",
       "    <tr>\n",
       "      <th>518462</th>\n",
       "      <td>150463</td>\n",
       "      <td>802</td>\n",
       "      <td>136713.0</td>\n",
       "      <td>20171012</td>\n",
       "      <td>0.222783</td>\n",
       "      <td>0.007256</td>\n",
       "      <td>0.102101</td>\n",
       "      <td>0.039300</td>\n",
       "      <td>0.123024</td>\n",
       "      <td>0.010856</td>\n",
       "      <td>0.036459</td>\n",
       "      <td>UC0aVoboXBUx2-tVIWHc3W2Q</td>\n",
       "      <td>Alt-lite</td>\n",
       "    </tr>\n",
       "  </tbody>\n",
       "</table>\n",
       "<p>518463 rows × 13 columns</p>\n",
       "</div>"
      ],
      "text/plain": [
       "        Unnamed: 0  video_map  view_count  upload_date  toxicity  \\\n",
       "0                0          0       977.0     20170920  0.136365   \n",
       "1                1          1       408.0     20170905  0.014895   \n",
       "2                2          2       523.0     20170828  0.034177   \n",
       "3                3          3      1446.0     20170628  0.073253   \n",
       "4                4          4      1859.0     20170531  0.108773   \n",
       "...            ...        ...         ...          ...       ...   \n",
       "518458      150459        798     56069.0     20170127  0.327090   \n",
       "518459      150460        799    154838.0     20161018  0.209794   \n",
       "518460      150461        800     30093.0     20180326  0.237014   \n",
       "518461      150462        801     93406.0     20171219  0.309945   \n",
       "518462      150463        802    136713.0     20171012  0.222783   \n",
       "\n",
       "        severe_toxicity   obscene  identity_attack    insult    threat  \\\n",
       "0              0.001002  0.051841         0.006676  0.056322  0.000422   \n",
       "1              0.000007  0.000330         0.000946  0.000885  0.002700   \n",
       "2              0.000006  0.000391         0.000210  0.017617  0.000103   \n",
       "3              0.000177  0.039672         0.005961  0.020233  0.002046   \n",
       "4              0.008326  0.049040         0.025089  0.033552  0.019227   \n",
       "...                 ...       ...              ...       ...       ...   \n",
       "518458         0.013587  0.205679         0.050272  0.182447  0.001762   \n",
       "518459         0.007211  0.134747         0.027038  0.094364  0.010686   \n",
       "518460         0.004566  0.083292         0.062911  0.147315  0.001810   \n",
       "518461         0.009368  0.155549         0.086939  0.165149  0.011248   \n",
       "518462         0.007256  0.102101         0.039300  0.123024  0.010856   \n",
       "\n",
       "        sexual_explicit                channel_id  Category  \n",
       "0              0.072277  UC_7Bt0vnvdJqAwF8Ow8iT0g       MRA  \n",
       "1              0.000118  UC_7Bt0vnvdJqAwF8Ow8iT0g       MRA  \n",
       "2              0.000400  UC_7Bt0vnvdJqAwF8Ow8iT0g       MRA  \n",
       "3              0.000521  UC_7Bt0vnvdJqAwF8Ow8iT0g       MRA  \n",
       "4              0.009504  UC_7Bt0vnvdJqAwF8Ow8iT0g       MRA  \n",
       "...                 ...                       ...       ...  \n",
       "518458         0.053731  UC0aVoboXBUx2-tVIWHc3W2Q  Alt-lite  \n",
       "518459         0.024407  UC0aVoboXBUx2-tVIWHc3W2Q  Alt-lite  \n",
       "518460         0.019613  UC0aVoboXBUx2-tVIWHc3W2Q  Alt-lite  \n",
       "518461         0.023771  UC0aVoboXBUx2-tVIWHc3W2Q  Alt-lite  \n",
       "518462         0.036459  UC0aVoboXBUx2-tVIWHc3W2Q  Alt-lite  \n",
       "\n",
       "[518463 rows x 13 columns]"
      ]
     },
     "execution_count": 16,
     "metadata": {},
     "output_type": "execute_result"
    }
   ],
   "source": [
    "df_final"
   ]
  },
  {
   "cell_type": "code",
   "execution_count": 17,
   "id": "5ec7806f",
   "metadata": {},
   "outputs": [],
   "source": [
    "#overwriting the category for the channels belonging to the control group\n",
    "df_control_=pd.read_csv(data_folder + path_control_grp) #maps channel_id to extreme grp corresponding"
   ]
  },
  {
   "cell_type": "code",
   "execution_count": 18,
   "id": "1abd81cf",
   "metadata": {},
   "outputs": [],
   "source": [
    "#list of channels belonging to control grp\n",
    "list_control_=(df_control_[df_control_[\"Data Collection step\"]=='control'].Id).tolist()"
   ]
  },
  {
   "cell_type": "code",
   "execution_count": 19,
   "id": "79d59113",
   "metadata": {},
   "outputs": [],
   "source": [
    "df_final.loc[df_final[\"channel_id\"].isin(list_control_), \"Category\"] = 'control'"
   ]
  },
  {
   "cell_type": "code",
   "execution_count": 20,
   "id": "21833cdc",
   "metadata": {},
   "outputs": [
    {
     "name": "stdout",
     "output_type": "stream",
     "text": [
      "there are 1998 Nan values which corresponds to 0.3853698335271755 % of the dataframe\n"
     ]
    }
   ],
   "source": [
    "#checking for NaN values\n",
    "nb_Nan=len(df_final[df_final.isnull().any(axis=1)])\n",
    "print(\"there are\", nb_Nan, \"Nan values which corresponds to\", nb_Nan*100/len(df_final), \"% of the dataframe\")"
   ]
  },
  {
   "cell_type": "code",
   "execution_count": 21,
   "id": "c32a4d22",
   "metadata": {},
   "outputs": [],
   "source": [
    "#very little Nan values, we won't be using channels where the category is Nan (unknown)"
   ]
  },
  {
   "cell_type": "code",
   "execution_count": 22,
   "id": "c726150e",
   "metadata": {},
   "outputs": [
    {
     "data": {
      "text/plain": [
       "control                  332815\n",
       "Alt-lite                  63667\n",
       "Intellectual Dark Web     34252\n",
       "PUA                       27508\n",
       "MGTOW                     19932\n",
       "NONE                      14793\n",
       "Alt-right                 14208\n",
       "MRA                        5613\n",
       "Incel                      3468\n",
       "PUA                         209\n",
       "Name: Category, dtype: int64"
      ]
     },
     "execution_count": 22,
     "metadata": {},
     "output_type": "execute_result"
    }
   ],
   "source": [
    "#Notice None means \"not associated to anything\" and not \"Nan\" \n",
    "df_final.Category.value_counts()"
   ]
  },
  {
   "cell_type": "code",
   "execution_count": 23,
   "id": "93af5b9f",
   "metadata": {},
   "outputs": [],
   "source": [
    "#MGTOW men going their own way, anti feminist misogynistic politic group\n",
    "\n",
    "#MRA men's rights activist (again anti feminist)\n",
    "\n",
    "#Incel a member of an online community of young men who consider themselves unable to attract women sexually, \n",
    "#typically associated with views that are hostile towards women and men who are sexually active:\n",
    "\n",
    "#Pick up : online community sharing tips on how to pick up women"
   ]
  },
  {
   "cell_type": "markdown",
   "id": "894e1947",
   "metadata": {},
   "source": [
    "### Let's start our analysis"
   ]
  },
  {
   "cell_type": "markdown",
   "id": "2224fa89",
   "metadata": {},
   "source": [
    "Now that we have our dataframe and all the values we want we can start our analysis. \n",
    "We're keeping only Alt-lite, Alt-right, Intellectual Dark Web channels and control channels. "
   ]
  },
  {
   "cell_type": "code",
   "execution_count": 24,
   "id": "329cf0c5",
   "metadata": {},
   "outputs": [],
   "source": [
    "#several questions, should I divide into many sub-dataFrames? Not? Should definitely plot boxplot to compare them. \n",
    "#Check distribution also with histogram? "
   ]
  },
  {
   "cell_type": "code",
   "execution_count": 25,
   "id": "7d0abb8f",
   "metadata": {},
   "outputs": [],
   "source": [
    "#getting some basic information \n",
    "df_extreme=df_final.loc[df_final['Category'].isin(['Alt-lite', 'Alt-right', 'Intellectual Dark Web', 'control'])]"
   ]
  },
  {
   "cell_type": "code",
   "execution_count": 26,
   "id": "55dd462c",
   "metadata": {},
   "outputs": [
    {
     "data": {
      "image/png": "[encoded data removed]",
      "text/plain": [
       "<Figure size 640x480 with 1 Axes>"
      ]
     },
     "metadata": {},
     "output_type": "display_data"
    }
   ],
   "source": [
    "ax = sns.boxplot(x=\"Category\", y=\"toxicity\", data=df_final.loc[df_final['Category'].isin(['Alt-lite', 'Alt-right', 'Intellectual Dark Web', 'control'])])"
   ]
  },
  {
   "cell_type": "code",
   "execution_count": 27,
   "id": "cc09278d",
   "metadata": {},
   "outputs": [
    {
     "data": {
      "text/plain": [
       "Text(0, 0.6, 'Nb channels')"
      ]
     },
     "execution_count": 27,
     "metadata": {},
     "output_type": "execute_result"
    },
    {
     "data": {
      "image/png": "[encoded data removed]",
      "text/plain": [
       "<Figure size 700x400 with 4 Axes>"
      ]
     },
     "metadata": {},
     "output_type": "display_data"
    }
   ],
   "source": [
    "#define an histogram for the distribution \n",
    "fig, ax = plt.subplots(2,2,figsize= (7,4), sharey = False, sharex = True) #chose sharey=False as we are interested \n",
    "#the distribution, not the exact values\n",
    "list_category=['Alt-lite', 'Alt-right', 'Intellectual Dark Web', 'control']\n",
    "\n",
    "for i in range(4):\n",
    "    sbplt = ax[i%2, math.floor(i/2)]\n",
    "    df=df_extreme.loc[df_extreme['Category']==list_category[i]]\n",
    "    sbplt.hist(df['toxicity'].values, bins = 50)\n",
    "    sbplt.set_title(list_category[i])\n",
    "    \n",
    "fig.tight_layout()\n",
    "\n",
    "fig.text(0.4,0, \"toxicity level\")\n",
    "fig.text(0,0.6, \"Nb channels\", rotation = 90)"
   ]
  },
  {
   "cell_type": "markdown",
   "id": "8b745edd",
   "metadata": {},
   "source": [
    "**Discussion:** We see they all have a peak at 0 (the first bin), all are left skewed they all seem to have their peak (other than the one at 0) around 0.2.\n",
    "\n",
    "Nice that means that although they are extreme groups, the model detoxify doesn't recognize the comments being made as toxic"
   ]
  },
  {
   "cell_type": "markdown",
   "id": "75d5aff0",
   "metadata": {},
   "source": [
    "## Are toxicity scores and popularity correlated?"
   ]
  },
  {
   "cell_type": "markdown",
   "id": "162cac93",
   "metadata": {},
   "source": [
    "Recall that we define the popularity of a video/channel by its number of views. "
   ]
  },
  {
   "cell_type": "code",
   "execution_count": 63,
   "id": "6abb6710",
   "metadata": {},
   "outputs": [],
   "source": [
    "#we will do it among extreme groups, else we would need to normalize??? Maybe that would've been best? "
   ]
  },
  {
   "cell_type": "code",
   "execution_count": 28,
   "id": "1b01dc3a",
   "metadata": {},
   "outputs": [
    {
     "data": {
      "text/plain": [
       "Text(0, 0.6, 'Nb channels')"
      ]
     },
     "execution_count": 28,
     "metadata": {},
     "output_type": "execute_result"
    },
    {
     "data": {
      "image/png": "[encoded data removed]",
      "text/plain": [
       "<Figure size 700x400 with 4 Axes>"
      ]
     },
     "metadata": {},
     "output_type": "display_data"
    }
   ],
   "source": [
    "#tried to do a nicer one, failed so far\n",
    "#define an histogram for the distribution \n",
    "fig, ax = plt.subplots(2,2,figsize= (7,4), sharey = False, sharex = True) #chose sharey=False as we are interested \n",
    "#the distribution, not the exact values\n",
    "list_category=['Alt-lite', 'Alt-right', 'Intellectual Dark Web', 'control']\n",
    "\n",
    "for i in range(4):\n",
    "    sbplt = ax[i%2, math.floor(i/2)]\n",
    "    df=df_extreme.loc[df_extreme['Category']==list_category[i]]\n",
    "    sbplt.scatter(df['toxicity'], df['view_count'], s = 1, alpha=0.1)\n",
    "    sbplt.set_title(list_category[i])\n",
    "    \n",
    "fig.tight_layout()\n",
    "\n",
    "fig.text(0.4,0, \"toxicity level\")\n",
    "fig.text(0,0.6, \"Nb channels\", rotation = 90)"
   ]
  },
  {
   "cell_type": "code",
   "execution_count": 39,
   "id": "3c567f53",
   "metadata": {},
   "outputs": [
    {
     "name": "stdout",
     "output_type": "stream",
     "text": [
      "Alt-lite\n",
      "spearman correlation coefficient is equal to 0.285 with an associated p-value of 0.0\n",
      "pearson correlation coefficient is equal to 0.101 with an associated p-value of 0.0\n",
      "kendall tau correlation coefficient is equal to 0.203 with an associated p-value of 0.0\n",
      "Alt-right\n",
      "spearman correlation coefficient is equal to 0.204 with an associated p-value of 0.0\n",
      "pearson correlation coefficient is equal to 0.068 with an associated p-value of 0.0\n",
      "kendall tau correlation coefficient is equal to 0.138 with an associated p-value of 0.0\n",
      "Intellectual Dark Web\n",
      "spearman correlation coefficient is equal to 0.272 with an associated p-value of 0.0\n",
      "pearson correlation coefficient is equal to 0.077 with an associated p-value of 0.0\n",
      "kendall tau correlation coefficient is equal to 0.194 with an associated p-value of 0.0\n",
      "control\n",
      "spearman correlation coefficient is equal to 0.173 with an associated p-value of 0.0\n",
      "pearson correlation coefficient is equal to -0.008 with an associated p-value of 0.0\n",
      "kendall tau correlation coefficient is equal to 0.114 with an associated p-value of 0.0\n"
     ]
    }
   ],
   "source": [
    "#Spearman's correlation, how well can the data be approcimated by a monotonic function\n",
    "#Pearson's correlation, how well can the data be approximated by a linear function\n",
    "#Kendall Tau'correlation, how well can the data be approximated in terms of \"coherant pairs\" (ex: a lot of data in the top right \n",
    "#a lot in the bottom left, and none elsewhere)\n",
    "\n",
    "list_category=['Alt-lite', 'Alt-right', 'Intellectual Dark Web', 'control']\n",
    "\n",
    "for i in list_category:\n",
    "    df=df_extreme.loc[df_extreme['Category']==i]\n",
    "    print(i)\n",
    "    rho_1, p_1=spearmanr(df['toxicity'], df['view_count'])\n",
    "    print(\"spearman correlation coefficient is equal to\", np.round(rho_1,3), \"with an associated p-value of\", np.round(p_1,3))\n",
    "    rho_2, p_2=pearsonr(df['toxicity'], df['view_count'])\n",
    "    print(\"pearson correlation coefficient is equal to\", np.round(rho_2,3), \"with an associated p-value of\", np.round(p_2,3))\n",
    "    rho_3, p_3=kendalltau(df['toxicity'], df['view_count'])\n",
    "    print(\"kendall tau correlation coefficient is equal to\", np.round(rho_3,3), \"with an associated p-value of\", np.round(p_3,3))"
   ]
  },
  {
   "cell_type": "markdown",
   "id": "aaf48f1b",
   "metadata": {},
   "source": [
    "## With channels instead of videos ! "
   ]
  },
  {
   "cell_type": "code",
   "execution_count": null,
   "id": "c396e231",
   "metadata": {},
   "outputs": [],
   "source": []
  },
  {
   "cell_type": "code",
   "execution_count": null,
   "id": "eeb6e74f",
   "metadata": {},
   "outputs": [],
   "source": []
  },
  {
   "cell_type": "code",
   "execution_count": null,
   "id": "59f2c2d0",
   "metadata": {},
   "outputs": [],
   "source": []
  }
 ],
 "metadata": {
  "kernelspec": {
   "display_name": "Python 3 (ipykernel)",
   "language": "python",
   "name": "python3"
  },
  "language_info": {
   "codemirror_mode": {
    "name": "ipython",
    "version": 3
   },
   "file_extension": ".py",
   "mimetype": "text/x-python",
   "name": "python",
   "nbconvert_exporter": "python",
   "pygments_lexer": "ipython3",
   "version": "3.8.13"
  }
 },
 "nbformat": 4,
 "nbformat_minor": 5
}
